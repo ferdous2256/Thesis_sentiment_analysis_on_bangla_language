{
 "cells": [
  {
   "cell_type": "code",
   "execution_count": 1,
   "id": "f04e5ec1",
   "metadata": {},
   "outputs": [],
   "source": [
    "import pandas as pd\n",
    "import numpy as np\n",
    "import matplotlib.pyplot as plt\n",
    "%matplotlib inline\n",
    "import seaborn as sns\n",
    "\n",
    "import re\n",
    "import string\n",
    "from wordcloud import WordCloud\n",
    "\n",
    "import nltk\n",
    "from nltk.corpus import stopwords\n",
    "from nltk.stem import PorterStemmer\n",
    "from nltk.tokenize import sent_tokenize, word_tokenize\n",
    "from nltk.stem.wordnet import WordNetLemmatizer\n",
    "\n",
    "from sklearn.model_selection import train_test_split\n",
    "from sklearn.pipeline import Pipeline\n",
    "from sklearn.feature_extraction.text import CountVectorizer, TfidfTransformer\n",
    "\n",
    "from sklearn.linear_model import LogisticRegression\n",
    "from sklearn.naive_bayes import MultinomialNB\n",
    "from sklearn.linear_model import SGDClassifier\n",
    "from sklearn.ensemble import RandomForestClassifier\n",
    "from sklearn.metrics import confusion_matrix, accuracy_score, classification_report"
   ]
  },
  {
   "cell_type": "code",
   "execution_count": 2,
   "id": "7e20f92c",
   "metadata": {},
   "outputs": [
    {
     "data": {
      "text/html": [
       "<div>\n",
       "<style scoped>\n",
       "    .dataframe tbody tr th:only-of-type {\n",
       "        vertical-align: middle;\n",
       "    }\n",
       "\n",
       "    .dataframe tbody tr th {\n",
       "        vertical-align: top;\n",
       "    }\n",
       "\n",
       "    .dataframe thead th {\n",
       "        text-align: right;\n",
       "    }\n",
       "</style>\n",
       "<table border=\"1\" class=\"dataframe\">\n",
       "  <thead>\n",
       "    <tr style=\"text-align: right;\">\n",
       "      <th></th>\n",
       "      <th>review</th>\n",
       "      <th>Recommended IND</th>\n",
       "      <th>r</th>\n",
       "    </tr>\n",
       "  </thead>\n",
       "  <tbody>\n",
       "    <tr>\n",
       "      <th>0</th>\n",
       "      <td>ছাপ্পান্ন হাজার বর্গমাইল রাজ্যজুড়ে আজ কেবল বি...</td>\n",
       "      <td>sad</td>\n",
       "      <td>3FALSEFALSEFALSEFALSEFALSEFALSE</td>\n",
       "    </tr>\n",
       "    <tr>\n",
       "      <th>1</th>\n",
       "      <td>সাকিব ভাই আপনি একজন জ্ঞানী মানুষ আপনার কাছে এম...</td>\n",
       "      <td>angry</td>\n",
       "      <td>FALSE1FALSEFALSEFALSEFALSEFALSE</td>\n",
       "    </tr>\n",
       "    <tr>\n",
       "      <th>2</th>\n",
       "      <td>হাজার বছরের শেষ্ট বাঙালী জাতীর জনক ব্ঙ্গবন্ধু ...</td>\n",
       "      <td>happy</td>\n",
       "      <td>FALSEFALSEFALSEFALSEFALSE6FALSE</td>\n",
       "    </tr>\n",
       "    <tr>\n",
       "      <th>3</th>\n",
       "      <td>স্বাধীন বাংলাদেশের স্বপতিজাতির জনক বঙ্গবন্ধু শ...</td>\n",
       "      <td>sad</td>\n",
       "      <td>3FALSEFALSEFALSEFALSEFALSEFALSE</td>\n",
       "    </tr>\n",
       "    <tr>\n",
       "      <th>4</th>\n",
       "      <td>ঝরেনি সেদিন কৃষ্ণচুড়াঝরেছে পিতার রক্তআগষ্ট শো...</td>\n",
       "      <td>sad</td>\n",
       "      <td>3FALSEFALSEFALSEFALSEFALSEFALSE</td>\n",
       "    </tr>\n",
       "  </tbody>\n",
       "</table>\n",
       "</div>"
      ],
      "text/plain": [
       "                                              review Recommended IND  \\\n",
       "0  ছাপ্পান্ন হাজার বর্গমাইল রাজ্যজুড়ে আজ কেবল বি...             sad   \n",
       "1  সাকিব ভাই আপনি একজন জ্ঞানী মানুষ আপনার কাছে এম...           angry   \n",
       "2  হাজার বছরের শেষ্ট বাঙালী জাতীর জনক ব্ঙ্গবন্ধু ...           happy   \n",
       "3  স্বাধীন বাংলাদেশের স্বপতিজাতির জনক বঙ্গবন্ধু শ...             sad   \n",
       "4  ঝরেনি সেদিন কৃষ্ণচুড়াঝরেছে পিতার রক্তআগষ্ট শো...             sad   \n",
       "\n",
       "                                 r  \n",
       "0  3FALSEFALSEFALSEFALSEFALSEFALSE  \n",
       "1  FALSE1FALSEFALSEFALSEFALSEFALSE  \n",
       "2  FALSEFALSEFALSEFALSEFALSE6FALSE  \n",
       "3  3FALSEFALSEFALSEFALSEFALSEFALSE  \n",
       "4  3FALSEFALSEFALSEFALSEFALSEFALSE  "
      ]
     },
     "execution_count": 2,
     "metadata": {},
     "output_type": "execute_result"
    }
   ],
   "source": [
    "df = pd.read_csv('b.csv')\n",
    "df.head()"
   ]
  },
  {
   "cell_type": "code",
   "execution_count": 3,
   "id": "a32fb30d",
   "metadata": {},
   "outputs": [
    {
     "name": "stdout",
     "output_type": "stream",
     "text": [
      "                                                 review Recommended IND  \\\n",
      "0     ছাপ্পান্ন হাজার বর্গমাইল রাজ্যজুড়ে আজ কেবল বি...             sad   \n",
      "1     সাকিব ভাই আপনি একজন জ্ঞানী মানুষ আপনার কাছে এম...           angry   \n",
      "2     হাজার বছরের শেষ্ট বাঙালী জাতীর জনক ব্ঙ্গবন্ধু ...           happy   \n",
      "3     স্বাধীন বাংলাদেশের স্বপতিজাতির জনক বঙ্গবন্ধু শ...             sad   \n",
      "4     ঝরেনি সেদিন কৃষ্ণচুড়াঝরেছে পিতার রক্তআগষ্ট শো...             sad   \n",
      "...                                                 ...             ...   \n",
      "2838                         কাটা ছেরে আকাটা ভালো লাগলো           happy   \n",
      "2839  আব্বুর ধর্মের বিশ্বাসী মুসলমানদের ঈদের শুভেচ্ছ...       religious   \n",
      "2840     ঈদ মোবারক জানানোর সময় তোর এখন হল দিন শেষে শালী         abusive   \n",
      "2841  ঈদ বয়ে আনুক সবার জীবনে অনাবিল সুখ শান্তি ও সমৃ...           happy   \n",
      "2842             যাক বাবা ঈদ টাই মাটি হয়ে গেলো৷ দুর বাল           angry   \n",
      "\n",
      "                                    r  \n",
      "0     3FALSEFALSEFALSEFALSEFALSEFALSE  \n",
      "1     FALSE1FALSEFALSEFALSEFALSEFALSE  \n",
      "2     FALSEFALSEFALSEFALSEFALSE6FALSE  \n",
      "3     3FALSEFALSEFALSEFALSEFALSEFALSE  \n",
      "4     3FALSEFALSEFALSEFALSEFALSEFALSE  \n",
      "...                               ...  \n",
      "2838  FALSEFALSEFALSEFALSEFALSE6FALSE  \n",
      "2839  FALSEFALSEFALSEFALSE5FALSEFALSE  \n",
      "2840  FALSEFALSE2FALSEFALSEFALSEFALSE  \n",
      "2841  FALSEFALSEFALSEFALSEFALSE6FALSE  \n",
      "2842  FALSE1FALSEFALSEFALSEFALSEFALSE  \n",
      "\n",
      "[2843 rows x 3 columns]\n"
     ]
    }
   ],
   "source": [
    "print(df)"
   ]
  },
  {
   "cell_type": "code",
   "execution_count": 4,
   "id": "957f126e",
   "metadata": {},
   "outputs": [
    {
     "name": "stdout",
     "output_type": "stream",
     "text": [
      "<class 'pandas.core.frame.DataFrame'>\n",
      "RangeIndex: 2843 entries, 0 to 2842\n",
      "Data columns (total 3 columns):\n",
      " #   Column           Non-Null Count  Dtype \n",
      "---  ------           --------------  ----- \n",
      " 0   review           2843 non-null   object\n",
      " 1   Recommended IND  2843 non-null   object\n",
      " 2   r                2843 non-null   object\n",
      "dtypes: object(3)\n",
      "memory usage: 66.8+ KB\n"
     ]
    }
   ],
   "source": [
    "df.info()"
   ]
  },
  {
   "cell_type": "code",
   "execution_count": 5,
   "id": "040ed5ad",
   "metadata": {},
   "outputs": [
    {
     "data": {
      "text/plain": [
       "(2843, 3)"
      ]
     },
     "execution_count": 5,
     "metadata": {},
     "output_type": "execute_result"
    }
   ],
   "source": [
    "df.shape"
   ]
  },
  {
   "cell_type": "code",
   "execution_count": 6,
   "id": "4d43b240",
   "metadata": {},
   "outputs": [
    {
     "data": {
      "text/plain": [
       "review             object\n",
       "Recommended IND    object\n",
       "r                  object\n",
       "dtype: object"
      ]
     },
     "execution_count": 6,
     "metadata": {},
     "output_type": "execute_result"
    }
   ],
   "source": [
    "#type of variables\n",
    "df.dtypes"
   ]
  },
  {
   "cell_type": "code",
   "execution_count": 7,
   "id": "8be571ed",
   "metadata": {},
   "outputs": [
    {
     "data": {
      "text/plain": [
       "'সাকিব ভাই আপনি একজন জ্ঞানী মানুষ আপনার কাছে এমনটা কথা আশা করি নি জাতির জনক কখনো বঙ্গবন্ধু হতে পারে না'"
      ]
     },
     "execution_count": 7,
     "metadata": {},
     "output_type": "execute_result"
    }
   ],
   "source": [
    "df['review'][1]"
   ]
  },
  {
   "cell_type": "code",
   "execution_count": 8,
   "id": "2460f546",
   "metadata": {},
   "outputs": [
    {
     "data": {
      "text/html": [
       "<div>\n",
       "<style scoped>\n",
       "    .dataframe tbody tr th:only-of-type {\n",
       "        vertical-align: middle;\n",
       "    }\n",
       "\n",
       "    .dataframe tbody tr th {\n",
       "        vertical-align: top;\n",
       "    }\n",
       "\n",
       "    .dataframe thead th {\n",
       "        text-align: right;\n",
       "    }\n",
       "</style>\n",
       "<table border=\"1\" class=\"dataframe\">\n",
       "  <thead>\n",
       "    <tr style=\"text-align: right;\">\n",
       "      <th></th>\n",
       "      <th>review</th>\n",
       "      <th>Recommended IND</th>\n",
       "    </tr>\n",
       "  </thead>\n",
       "  <tbody>\n",
       "    <tr>\n",
       "      <th>0</th>\n",
       "      <td>ছাপ্পান্ন হাজার বর্গমাইল রাজ্যজুড়ে আজ কেবল বি...</td>\n",
       "      <td>sad</td>\n",
       "    </tr>\n",
       "    <tr>\n",
       "      <th>1</th>\n",
       "      <td>সাকিব ভাই আপনি একজন জ্ঞানী মানুষ আপনার কাছে এম...</td>\n",
       "      <td>angry</td>\n",
       "    </tr>\n",
       "    <tr>\n",
       "      <th>2</th>\n",
       "      <td>হাজার বছরের শেষ্ট বাঙালী জাতীর জনক ব্ঙ্গবন্ধু ...</td>\n",
       "      <td>happy</td>\n",
       "    </tr>\n",
       "    <tr>\n",
       "      <th>3</th>\n",
       "      <td>স্বাধীন বাংলাদেশের স্বপতিজাতির জনক বঙ্গবন্ধু শ...</td>\n",
       "      <td>sad</td>\n",
       "    </tr>\n",
       "    <tr>\n",
       "      <th>4</th>\n",
       "      <td>ঝরেনি সেদিন কৃষ্ণচুড়াঝরেছে পিতার রক্তআগষ্ট শো...</td>\n",
       "      <td>sad</td>\n",
       "    </tr>\n",
       "  </tbody>\n",
       "</table>\n",
       "</div>"
      ],
      "text/plain": [
       "                                              review Recommended IND\n",
       "0  ছাপ্পান্ন হাজার বর্গমাইল রাজ্যজুড়ে আজ কেবল বি...             sad\n",
       "1  সাকিব ভাই আপনি একজন জ্ঞানী মানুষ আপনার কাছে এম...           angry\n",
       "2  হাজার বছরের শেষ্ট বাঙালী জাতীর জনক ব্ঙ্গবন্ধু ...           happy\n",
       "3  স্বাধীন বাংলাদেশের স্বপতিজাতির জনক বঙ্গবন্ধু শ...             sad\n",
       "4  ঝরেনি সেদিন কৃষ্ণচুড়াঝরেছে পিতার রক্তআগষ্ট শো...             sad"
      ]
     },
     "execution_count": 8,
     "metadata": {},
     "output_type": "execute_result"
    }
   ],
   "source": [
    "review = df[['review', 'Recommended IND']]\n",
    "review.head()"
   ]
  },
  {
   "cell_type": "code",
   "execution_count": 9,
   "id": "8131448d",
   "metadata": {},
   "outputs": [
    {
     "data": {
      "text/html": [
       "<div>\n",
       "<style scoped>\n",
       "    .dataframe tbody tr th:only-of-type {\n",
       "        vertical-align: middle;\n",
       "    }\n",
       "\n",
       "    .dataframe tbody tr th {\n",
       "        vertical-align: top;\n",
       "    }\n",
       "\n",
       "    .dataframe thead th {\n",
       "        text-align: right;\n",
       "    }\n",
       "</style>\n",
       "<table border=\"1\" class=\"dataframe\">\n",
       "  <thead>\n",
       "    <tr style=\"text-align: right;\">\n",
       "      <th></th>\n",
       "      <th>Review</th>\n",
       "      <th>Recommended</th>\n",
       "    </tr>\n",
       "  </thead>\n",
       "  <tbody>\n",
       "    <tr>\n",
       "      <th>0</th>\n",
       "      <td>ছাপ্পান্ন হাজার বর্গমাইল রাজ্যজুড়ে আজ কেবল বি...</td>\n",
       "      <td>sad</td>\n",
       "    </tr>\n",
       "    <tr>\n",
       "      <th>1</th>\n",
       "      <td>সাকিব ভাই আপনি একজন জ্ঞানী মানুষ আপনার কাছে এম...</td>\n",
       "      <td>angry</td>\n",
       "    </tr>\n",
       "    <tr>\n",
       "      <th>2</th>\n",
       "      <td>হাজার বছরের শেষ্ট বাঙালী জাতীর জনক ব্ঙ্গবন্ধু ...</td>\n",
       "      <td>happy</td>\n",
       "    </tr>\n",
       "    <tr>\n",
       "      <th>3</th>\n",
       "      <td>স্বাধীন বাংলাদেশের স্বপতিজাতির জনক বঙ্গবন্ধু শ...</td>\n",
       "      <td>sad</td>\n",
       "    </tr>\n",
       "    <tr>\n",
       "      <th>4</th>\n",
       "      <td>ঝরেনি সেদিন কৃষ্ণচুড়াঝরেছে পিতার রক্তআগষ্ট শো...</td>\n",
       "      <td>sad</td>\n",
       "    </tr>\n",
       "  </tbody>\n",
       "</table>\n",
       "</div>"
      ],
      "text/plain": [
       "                                              Review Recommended\n",
       "0  ছাপ্পান্ন হাজার বর্গমাইল রাজ্যজুড়ে আজ কেবল বি...         sad\n",
       "1  সাকিব ভাই আপনি একজন জ্ঞানী মানুষ আপনার কাছে এম...       angry\n",
       "2  হাজার বছরের শেষ্ট বাঙালী জাতীর জনক ব্ঙ্গবন্ধু ...       happy\n",
       "3  স্বাধীন বাংলাদেশের স্বপতিজাতির জনক বঙ্গবন্ধু শ...         sad\n",
       "4  ঝরেনি সেদিন কৃষ্ণচুড়াঝরেছে পিতার রক্তআগষ্ট শো...         sad"
      ]
     },
     "execution_count": 9,
     "metadata": {},
     "output_type": "execute_result"
    }
   ],
   "source": [
    "#columns rename\n",
    "review = review.rename(columns={\"Recommended IND\": \"Recommended\", \"review\": \"Review\"})\n",
    "review.head()"
   ]
  },
  {
   "cell_type": "code",
   "execution_count": 10,
   "id": "77eb12d6",
   "metadata": {},
   "outputs": [
    {
     "data": {
      "text/plain": [
       "Review         0\n",
       "Recommended    0\n",
       "dtype: int64"
      ]
     },
     "execution_count": 10,
     "metadata": {},
     "output_type": "execute_result"
    }
   ],
   "source": [
    "review.isnull().sum()"
   ]
  },
  {
   "cell_type": "code",
   "execution_count": 11,
   "id": "fc0495ec",
   "metadata": {},
   "outputs": [],
   "source": [
    "review.dropna(subset=['Review'], inplace=True)"
   ]
  },
  {
   "cell_type": "code",
   "execution_count": 12,
   "id": "2e1990e3",
   "metadata": {},
   "outputs": [
    {
     "data": {
      "text/plain": [
       "Review         0\n",
       "Recommended    0\n",
       "dtype: int64"
      ]
     },
     "execution_count": 12,
     "metadata": {},
     "output_type": "execute_result"
    }
   ],
   "source": [
    "review.isnull().sum()"
   ]
  },
  {
   "cell_type": "code",
   "execution_count": 13,
   "id": "56e77626",
   "metadata": {},
   "outputs": [],
   "source": [
    "review['Review'] = review['Review'].astype(str)"
   ]
  },
  {
   "cell_type": "code",
   "execution_count": 14,
   "id": "eed246a3",
   "metadata": {},
   "outputs": [
    {
     "data": {
      "text/plain": [
       "(2843, 2)"
      ]
     },
     "execution_count": 14,
     "metadata": {},
     "output_type": "execute_result"
    }
   ],
   "source": [
    "review.shape"
   ]
  },
  {
   "cell_type": "code",
   "execution_count": 15,
   "id": "42333e16",
   "metadata": {},
   "outputs": [
    {
     "data": {
      "text/plain": [
       "happy        1005\n",
       "excited       638\n",
       "sad           467\n",
       "angry         399\n",
       "abusive       195\n",
       "surprised      84\n",
       "religious      55\n",
       "Name: Recommended, dtype: int64"
      ]
     },
     "execution_count": 15,
     "metadata": {},
     "output_type": "execute_result"
    }
   ],
   "source": [
    "review['Recommended'].value_counts()"
   ]
  },
  {
   "cell_type": "code",
   "execution_count": 16,
   "id": "20f48c48",
   "metadata": {},
   "outputs": [
    {
     "data": {
      "text/plain": [
       "Text(0.5, 1.0, 'Proportion Target Class')"
      ]
     },
     "execution_count": 16,
     "metadata": {},
     "output_type": "execute_result"
    },
    {
     "data": {
      "image/png": "[encoded data removed]",
      "text/plain": [
       "<Figure size 432x288 with 1 Axes>"
      ]
     },
     "metadata": {
      "needs_background": "light"
     },
     "output_type": "display_data"
    }
   ],
   "source": [
    "review[\"Recommended\"].value_counts().plot(kind='bar')\n",
    "plt.xlabel(\"Recommended\")\n",
    "plt.ylabel(\"Counts\")\n",
    "plt.title(\"Proportion Target Class\")"
   ]
  },
  {
   "cell_type": "code",
   "execution_count": 17,
   "id": "00f8fad0",
   "metadata": {},
   "outputs": [],
   "source": [
    "def tokens(words):\n",
    "    words = re.sub(\"[^a-zA-Z]\",\" \", words)\n",
    "    text = words.lower().split()                   \n",
    "    return \" \".join(text)"
   ]
  },
  {
   "cell_type": "code",
   "execution_count": 18,
   "id": "c165a76e",
   "metadata": {},
   "outputs": [
    {
     "data": {
      "text/html": [
       "<div>\n",
       "<style scoped>\n",
       "    .dataframe tbody tr th:only-of-type {\n",
       "        vertical-align: middle;\n",
       "    }\n",
       "\n",
       "    .dataframe tbody tr th {\n",
       "        vertical-align: top;\n",
       "    }\n",
       "\n",
       "    .dataframe thead th {\n",
       "        text-align: right;\n",
       "    }\n",
       "</style>\n",
       "<table border=\"1\" class=\"dataframe\">\n",
       "  <thead>\n",
       "    <tr style=\"text-align: right;\">\n",
       "      <th></th>\n",
       "      <th>Review</th>\n",
       "      <th>Recommended</th>\n",
       "      <th>Review_clear</th>\n",
       "    </tr>\n",
       "  </thead>\n",
       "  <tbody>\n",
       "    <tr>\n",
       "      <th>0</th>\n",
       "      <td>ছাপ্পান্ন হাজার বর্গমাইল রাজ্যজুড়ে আজ কেবল বি...</td>\n",
       "      <td>sad</td>\n",
       "      <td></td>\n",
       "    </tr>\n",
       "    <tr>\n",
       "      <th>1</th>\n",
       "      <td>সাকিব ভাই আপনি একজন জ্ঞানী মানুষ আপনার কাছে এম...</td>\n",
       "      <td>angry</td>\n",
       "      <td></td>\n",
       "    </tr>\n",
       "    <tr>\n",
       "      <th>2</th>\n",
       "      <td>হাজার বছরের শেষ্ট বাঙালী জাতীর জনক ব্ঙ্গবন্ধু ...</td>\n",
       "      <td>happy</td>\n",
       "      <td></td>\n",
       "    </tr>\n",
       "    <tr>\n",
       "      <th>3</th>\n",
       "      <td>স্বাধীন বাংলাদেশের স্বপতিজাতির জনক বঙ্গবন্ধু শ...</td>\n",
       "      <td>sad</td>\n",
       "      <td></td>\n",
       "    </tr>\n",
       "    <tr>\n",
       "      <th>4</th>\n",
       "      <td>ঝরেনি সেদিন কৃষ্ণচুড়াঝরেছে পিতার রক্তআগষ্ট শো...</td>\n",
       "      <td>sad</td>\n",
       "      <td></td>\n",
       "    </tr>\n",
       "  </tbody>\n",
       "</table>\n",
       "</div>"
      ],
      "text/plain": [
       "                                              Review Recommended Review_clear\n",
       "0  ছাপ্পান্ন হাজার বর্গমাইল রাজ্যজুড়ে আজ কেবল বি...         sad             \n",
       "1  সাকিব ভাই আপনি একজন জ্ঞানী মানুষ আপনার কাছে এম...       angry             \n",
       "2  হাজার বছরের শেষ্ট বাঙালী জাতীর জনক ব্ঙ্গবন্ধু ...       happy             \n",
       "3  স্বাধীন বাংলাদেশের স্বপতিজাতির জনক বঙ্গবন্ধু শ...         sad             \n",
       "4  ঝরেনি সেদিন কৃষ্ণচুড়াঝরেছে পিতার রক্তআগষ্ট শো...         sad             "
      ]
     },
     "execution_count": 18,
     "metadata": {},
     "output_type": "execute_result"
    }
   ],
   "source": [
    "review['Review_clear'] = review['Review'].apply(tokens)\n",
    "review.head()"
   ]
  },
  {
   "cell_type": "code",
   "execution_count": 19,
   "id": "13e5cb08",
   "metadata": {},
   "outputs": [],
   "source": [
    "review['Review_clear'] = review['Review_clear'].astype(str)"
   ]
  },
  {
   "cell_type": "code",
   "execution_count": 20,
   "id": "c38e2325",
   "metadata": {},
   "outputs": [
    {
     "name": "stdout",
     "output_type": "stream",
     "text": [
      "['i', \"you've\", 'himself', 'they', 'that', 'been', 'a', 'while', 'through', 'in', 'here', 'few', 'own', 'just', 're', 'doesn', 'ma', \"shouldn't\"]\n"
     ]
    }
   ],
   "source": [
    "# Show some stop words\n",
    "stop_words = stopwords.words('english')\n",
    "print(stop_words[::10])"
   ]
  },
  {
   "cell_type": "code",
   "execution_count": 21,
   "id": "3f6558c1",
   "metadata": {},
   "outputs": [],
   "source": [
    "#clothing stopwords\n",
    "clothes =['dress','color','wear','top','sweater','material','shirt','jeans','pant',\n",
    "          'skirt','order','white','black','fabric','blouse','sleeve','even', 'jacket']"
   ]
  },
  {
   "cell_type": "code",
   "execution_count": 22,
   "id": "45247210",
   "metadata": {},
   "outputs": [],
   "source": [
    "def stopwords(review):\n",
    "    text = [word.lower() for word in review.split() if word.lower() not in stop_words and word.lower() not in clothes]\n",
    "    return \" \".join(text)"
   ]
  },
  {
   "cell_type": "code",
   "execution_count": 23,
   "id": "5652efbb",
   "metadata": {},
   "outputs": [
    {
     "data": {
      "text/html": [
       "<div>\n",
       "<style scoped>\n",
       "    .dataframe tbody tr th:only-of-type {\n",
       "        vertical-align: middle;\n",
       "    }\n",
       "\n",
       "    .dataframe tbody tr th {\n",
       "        vertical-align: top;\n",
       "    }\n",
       "\n",
       "    .dataframe thead th {\n",
       "        text-align: right;\n",
       "    }\n",
       "</style>\n",
       "<table border=\"1\" class=\"dataframe\">\n",
       "  <thead>\n",
       "    <tr style=\"text-align: right;\">\n",
       "      <th></th>\n",
       "      <th>Review</th>\n",
       "      <th>Recommended</th>\n",
       "      <th>Review_clear</th>\n",
       "    </tr>\n",
       "  </thead>\n",
       "  <tbody>\n",
       "    <tr>\n",
       "      <th>0</th>\n",
       "      <td>ছাপ্পান্ন হাজার বর্গমাইল রাজ্যজুড়ে আজ কেবল বি...</td>\n",
       "      <td>sad</td>\n",
       "      <td></td>\n",
       "    </tr>\n",
       "    <tr>\n",
       "      <th>1</th>\n",
       "      <td>সাকিব ভাই আপনি একজন জ্ঞানী মানুষ আপনার কাছে এম...</td>\n",
       "      <td>angry</td>\n",
       "      <td></td>\n",
       "    </tr>\n",
       "    <tr>\n",
       "      <th>2</th>\n",
       "      <td>হাজার বছরের শেষ্ট বাঙালী জাতীর জনক ব্ঙ্গবন্ধু ...</td>\n",
       "      <td>happy</td>\n",
       "      <td></td>\n",
       "    </tr>\n",
       "    <tr>\n",
       "      <th>3</th>\n",
       "      <td>স্বাধীন বাংলাদেশের স্বপতিজাতির জনক বঙ্গবন্ধু শ...</td>\n",
       "      <td>sad</td>\n",
       "      <td></td>\n",
       "    </tr>\n",
       "    <tr>\n",
       "      <th>4</th>\n",
       "      <td>ঝরেনি সেদিন কৃষ্ণচুড়াঝরেছে পিতার রক্তআগষ্ট শো...</td>\n",
       "      <td>sad</td>\n",
       "      <td></td>\n",
       "    </tr>\n",
       "  </tbody>\n",
       "</table>\n",
       "</div>"
      ],
      "text/plain": [
       "                                              Review Recommended Review_clear\n",
       "0  ছাপ্পান্ন হাজার বর্গমাইল রাজ্যজুড়ে আজ কেবল বি...         sad             \n",
       "1  সাকিব ভাই আপনি একজন জ্ঞানী মানুষ আপনার কাছে এম...       angry             \n",
       "2  হাজার বছরের শেষ্ট বাঙালী জাতীর জনক ব্ঙ্গবন্ধু ...       happy             \n",
       "3  স্বাধীন বাংলাদেশের স্বপতিজাতির জনক বঙ্গবন্ধু শ...         sad             \n",
       "4  ঝরেনি সেদিন কৃষ্ণচুড়াঝরেছে পিতার রক্তআগষ্ট শো...         sad             "
      ]
     },
     "execution_count": 23,
     "metadata": {},
     "output_type": "execute_result"
    }
   ],
   "source": [
    "review['Review_clear'] = review['Review_clear'].apply(stopwords)\n",
    "review.head()"
   ]
  },
  {
   "cell_type": "code",
   "execution_count": 24,
   "id": "ea933d0e",
   "metadata": {},
   "outputs": [
    {
     "data": {
      "text/plain": [
       "''"
      ]
     },
     "execution_count": 24,
     "metadata": {},
     "output_type": "execute_result"
    }
   ],
   "source": [
    "review['Review_clear'][39]"
   ]
  },
  {
   "cell_type": "code",
   "execution_count": 25,
   "id": "f9e9bf9f",
   "metadata": {},
   "outputs": [],
   "source": [
    "def numbers(text):\n",
    "    new_text = []\n",
    "    for word in text.split():\n",
    "        if not re.search('\\d', word):\n",
    "            new_text.append(word)\n",
    "    return ' '.join(new_text)    "
   ]
  },
  {
   "cell_type": "code",
   "execution_count": 26,
   "id": "85fd721d",
   "metadata": {},
   "outputs": [
    {
     "data": {
      "text/html": [
       "<div>\n",
       "<style scoped>\n",
       "    .dataframe tbody tr th:only-of-type {\n",
       "        vertical-align: middle;\n",
       "    }\n",
       "\n",
       "    .dataframe tbody tr th {\n",
       "        vertical-align: top;\n",
       "    }\n",
       "\n",
       "    .dataframe thead th {\n",
       "        text-align: right;\n",
       "    }\n",
       "</style>\n",
       "<table border=\"1\" class=\"dataframe\">\n",
       "  <thead>\n",
       "    <tr style=\"text-align: right;\">\n",
       "      <th></th>\n",
       "      <th>Review</th>\n",
       "      <th>Recommended</th>\n",
       "      <th>Review_clear</th>\n",
       "    </tr>\n",
       "  </thead>\n",
       "  <tbody>\n",
       "    <tr>\n",
       "      <th>0</th>\n",
       "      <td>ছাপ্পান্ন হাজার বর্গমাইল রাজ্যজুড়ে আজ কেবল বি...</td>\n",
       "      <td>sad</td>\n",
       "      <td></td>\n",
       "    </tr>\n",
       "    <tr>\n",
       "      <th>1</th>\n",
       "      <td>সাকিব ভাই আপনি একজন জ্ঞানী মানুষ আপনার কাছে এম...</td>\n",
       "      <td>angry</td>\n",
       "      <td></td>\n",
       "    </tr>\n",
       "    <tr>\n",
       "      <th>2</th>\n",
       "      <td>হাজার বছরের শেষ্ট বাঙালী জাতীর জনক ব্ঙ্গবন্ধু ...</td>\n",
       "      <td>happy</td>\n",
       "      <td></td>\n",
       "    </tr>\n",
       "    <tr>\n",
       "      <th>3</th>\n",
       "      <td>স্বাধীন বাংলাদেশের স্বপতিজাতির জনক বঙ্গবন্ধু শ...</td>\n",
       "      <td>sad</td>\n",
       "      <td></td>\n",
       "    </tr>\n",
       "    <tr>\n",
       "      <th>4</th>\n",
       "      <td>ঝরেনি সেদিন কৃষ্ণচুড়াঝরেছে পিতার রক্তআগষ্ট শো...</td>\n",
       "      <td>sad</td>\n",
       "      <td></td>\n",
       "    </tr>\n",
       "  </tbody>\n",
       "</table>\n",
       "</div>"
      ],
      "text/plain": [
       "                                              Review Recommended Review_clear\n",
       "0  ছাপ্পান্ন হাজার বর্গমাইল রাজ্যজুড়ে আজ কেবল বি...         sad             \n",
       "1  সাকিব ভাই আপনি একজন জ্ঞানী মানুষ আপনার কাছে এম...       angry             \n",
       "2  হাজার বছরের শেষ্ট বাঙালী জাতীর জনক ব্ঙ্গবন্ধু ...       happy             \n",
       "3  স্বাধীন বাংলাদেশের স্বপতিজাতির জনক বঙ্গবন্ধু শ...         sad             \n",
       "4  ঝরেনি সেদিন কৃষ্ণচুড়াঝরেছে পিতার রক্তআগষ্ট শো...         sad             "
      ]
     },
     "execution_count": 26,
     "metadata": {},
     "output_type": "execute_result"
    }
   ],
   "source": [
    "review['Review_clear'] = review['Review_clear'].apply(numbers)\n",
    "review.head()"
   ]
  },
  {
   "cell_type": "code",
   "execution_count": 27,
   "id": "e7b5d6ee",
   "metadata": {},
   "outputs": [
    {
     "data": {
      "text/plain": [
       "''"
      ]
     },
     "execution_count": 27,
     "metadata": {},
     "output_type": "execute_result"
    }
   ],
   "source": [
    "review['Review_clear'][39]"
   ]
  },
  {
   "cell_type": "code",
   "execution_count": 28,
   "id": "8a432333",
   "metadata": {},
   "outputs": [],
   "source": [
    "lem = WordNetLemmatizer()\n",
    "\n",
    "def lemma(text):\n",
    "    lem_text = [lem.lemmatize(word) for word in text.split()]\n",
    "    return \" \".join(lem_text)"
   ]
  },
  {
   "cell_type": "code",
   "execution_count": 29,
   "id": "8a1c6e54",
   "metadata": {},
   "outputs": [
    {
     "name": "stderr",
     "output_type": "stream",
     "text": [
      "[nltk_data] Downloading package wordnet to\n",
      "[nltk_data]     C:\\Users\\User\\AppData\\Roaming\\nltk_data...\n",
      "[nltk_data]   Package wordnet is already up-to-date!\n"
     ]
    },
    {
     "data": {
      "text/plain": [
       "True"
      ]
     },
     "execution_count": 29,
     "metadata": {},
     "output_type": "execute_result"
    }
   ],
   "source": [
    "import nltk\n",
    "nltk.download('wordnet')"
   ]
  },
  {
   "cell_type": "code",
   "execution_count": 30,
   "id": "59f3f4b3",
   "metadata": {},
   "outputs": [
    {
     "data": {
      "text/html": [
       "<div>\n",
       "<style scoped>\n",
       "    .dataframe tbody tr th:only-of-type {\n",
       "        vertical-align: middle;\n",
       "    }\n",
       "\n",
       "    .dataframe tbody tr th {\n",
       "        vertical-align: top;\n",
       "    }\n",
       "\n",
       "    .dataframe thead th {\n",
       "        text-align: right;\n",
       "    }\n",
       "</style>\n",
       "<table border=\"1\" class=\"dataframe\">\n",
       "  <thead>\n",
       "    <tr style=\"text-align: right;\">\n",
       "      <th></th>\n",
       "      <th>Review</th>\n",
       "      <th>Recommended</th>\n",
       "      <th>Review_clear</th>\n",
       "    </tr>\n",
       "  </thead>\n",
       "  <tbody>\n",
       "    <tr>\n",
       "      <th>0</th>\n",
       "      <td>ছাপ্পান্ন হাজার বর্গমাইল রাজ্যজুড়ে আজ কেবল বি...</td>\n",
       "      <td>sad</td>\n",
       "      <td></td>\n",
       "    </tr>\n",
       "    <tr>\n",
       "      <th>1</th>\n",
       "      <td>সাকিব ভাই আপনি একজন জ্ঞানী মানুষ আপনার কাছে এম...</td>\n",
       "      <td>angry</td>\n",
       "      <td></td>\n",
       "    </tr>\n",
       "    <tr>\n",
       "      <th>2</th>\n",
       "      <td>হাজার বছরের শেষ্ট বাঙালী জাতীর জনক ব্ঙ্গবন্ধু ...</td>\n",
       "      <td>happy</td>\n",
       "      <td></td>\n",
       "    </tr>\n",
       "    <tr>\n",
       "      <th>3</th>\n",
       "      <td>স্বাধীন বাংলাদেশের স্বপতিজাতির জনক বঙ্গবন্ধু শ...</td>\n",
       "      <td>sad</td>\n",
       "      <td></td>\n",
       "    </tr>\n",
       "    <tr>\n",
       "      <th>4</th>\n",
       "      <td>ঝরেনি সেদিন কৃষ্ণচুড়াঝরেছে পিতার রক্তআগষ্ট শো...</td>\n",
       "      <td>sad</td>\n",
       "      <td></td>\n",
       "    </tr>\n",
       "  </tbody>\n",
       "</table>\n",
       "</div>"
      ],
      "text/plain": [
       "                                              Review Recommended Review_clear\n",
       "0  ছাপ্পান্ন হাজার বর্গমাইল রাজ্যজুড়ে আজ কেবল বি...         sad             \n",
       "1  সাকিব ভাই আপনি একজন জ্ঞানী মানুষ আপনার কাছে এম...       angry             \n",
       "2  হাজার বছরের শেষ্ট বাঙালী জাতীর জনক ব্ঙ্গবন্ধু ...       happy             \n",
       "3  স্বাধীন বাংলাদেশের স্বপতিজাতির জনক বঙ্গবন্ধু শ...         sad             \n",
       "4  ঝরেনি সেদিন কৃষ্ণচুড়াঝরেছে পিতার রক্তআগষ্ট শো...         sad             "
      ]
     },
     "execution_count": 30,
     "metadata": {},
     "output_type": "execute_result"
    }
   ],
   "source": [
    "review['Review_clear'] = review['Review_clear'].apply(lemma)\n",
    "review.head()"
   ]
  },
  {
   "cell_type": "code",
   "execution_count": 31,
   "id": "e21882b1",
   "metadata": {},
   "outputs": [
    {
     "data": {
      "text/plain": [
       "''"
      ]
     },
     "execution_count": 31,
     "metadata": {},
     "output_type": "execute_result"
    }
   ],
   "source": [
    "review['Review_clear'][1]"
   ]
  },
  {
   "cell_type": "code",
   "execution_count": 32,
   "id": "772ec5fd",
   "metadata": {},
   "outputs": [],
   "source": [
    "ex = review[review.Recommended== \"excited\"]\n",
    "hp = review[review.Recommended== \"happy\"]\n",
    "m_r = review[review.Recommended== \"religious\"]\n",
    "r = review[review.Recommended== \"surprised\"]\n",
    "n = review[review.Recommended== \"sad\"]\n",
    "n_r = review[review.Recommended== \"abusive\"]\n",
    "m_n_r = review[review.Recommended== \"angry\"]"
   ]
  },
  {
   "cell_type": "code",
   "execution_count": 33,
   "id": "1be82974",
   "metadata": {},
   "outputs": [
    {
     "data": {
      "text/html": [
       "<div>\n",
       "<style scoped>\n",
       "    .dataframe tbody tr th:only-of-type {\n",
       "        vertical-align: middle;\n",
       "    }\n",
       "\n",
       "    .dataframe tbody tr th {\n",
       "        vertical-align: top;\n",
       "    }\n",
       "\n",
       "    .dataframe thead th {\n",
       "        text-align: right;\n",
       "    }\n",
       "</style>\n",
       "<table border=\"1\" class=\"dataframe\">\n",
       "  <thead>\n",
       "    <tr style=\"text-align: right;\">\n",
       "      <th></th>\n",
       "      <th>Review</th>\n",
       "      <th>Recommended</th>\n",
       "      <th>Review_clear</th>\n",
       "    </tr>\n",
       "  </thead>\n",
       "  <tbody>\n",
       "    <tr>\n",
       "      <th>108</th>\n",
       "      <td>তুমি বরং বাবা কলকাতায় গিয়ে পুজো উদ্বোধন করো ...</td>\n",
       "      <td>religious</td>\n",
       "      <td></td>\n",
       "    </tr>\n",
       "    <tr>\n",
       "      <th>114</th>\n",
       "      <td>মনেহয় আপনার উপর কালি মাতার অভিশাপ লেগে গেছে বল...</td>\n",
       "      <td>religious</td>\n",
       "      <td></td>\n",
       "    </tr>\n",
       "    <tr>\n",
       "      <th>128</th>\n",
       "      <td>তুমি সাকিব আর আগের সাকিব নেই আস্তিক থেকে নাস্তিক</td>\n",
       "      <td>religious</td>\n",
       "      <td></td>\n",
       "    </tr>\n",
       "    <tr>\n",
       "      <th>147</th>\n",
       "      <td>কোন অমুসলিমের মৃত্যুতে বলাটা অযোক্তিক তাই পরবর...</td>\n",
       "      <td>religious</td>\n",
       "      <td></td>\n",
       "    </tr>\n",
       "    <tr>\n",
       "      <th>148</th>\n",
       "      <td>কিছু জান্নাতের টিকিটধারী আসবে ফতোয়া দেয়ার জন্য...</td>\n",
       "      <td>religious</td>\n",
       "      <td></td>\n",
       "    </tr>\n",
       "  </tbody>\n",
       "</table>\n",
       "</div>"
      ],
      "text/plain": [
       "                                                Review Recommended  \\\n",
       "108  তুমি বরং বাবা কলকাতায় গিয়ে পুজো উদ্বোধন করো ...   religious   \n",
       "114  মনেহয় আপনার উপর কালি মাতার অভিশাপ লেগে গেছে বল...   religious   \n",
       "128   তুমি সাকিব আর আগের সাকিব নেই আস্তিক থেকে নাস্তিক   religious   \n",
       "147  কোন অমুসলিমের মৃত্যুতে বলাটা অযোক্তিক তাই পরবর...   religious   \n",
       "148  কিছু জান্নাতের টিকিটধারী আসবে ফতোয়া দেয়ার জন্য...   religious   \n",
       "\n",
       "    Review_clear  \n",
       "108               \n",
       "114               \n",
       "128               \n",
       "147               \n",
       "148               "
      ]
     },
     "execution_count": 33,
     "metadata": {},
     "output_type": "execute_result"
    }
   ],
   "source": [
    "m_r.head()"
   ]
  },
  {
   "cell_type": "code",
   "execution_count": 34,
   "id": "f280aece",
   "metadata": {},
   "outputs": [
    {
     "data": {
      "text/html": [
       "<div>\n",
       "<style scoped>\n",
       "    .dataframe tbody tr th:only-of-type {\n",
       "        vertical-align: middle;\n",
       "    }\n",
       "\n",
       "    .dataframe tbody tr th {\n",
       "        vertical-align: top;\n",
       "    }\n",
       "\n",
       "    .dataframe thead th {\n",
       "        text-align: right;\n",
       "    }\n",
       "</style>\n",
       "<table border=\"1\" class=\"dataframe\">\n",
       "  <thead>\n",
       "    <tr style=\"text-align: right;\">\n",
       "      <th></th>\n",
       "      <th>Review</th>\n",
       "      <th>Recommended</th>\n",
       "      <th>Review_clear</th>\n",
       "    </tr>\n",
       "  </thead>\n",
       "  <tbody>\n",
       "    <tr>\n",
       "      <th>6</th>\n",
       "      <td>যদি রাত পোহালে সুনা যেতো বঙ্গবন্ধু মরে নাইইই ত...</td>\n",
       "      <td>abusive</td>\n",
       "      <td></td>\n",
       "    </tr>\n",
       "    <tr>\n",
       "      <th>20</th>\n",
       "      <td>বেশি বেশি করে খান এতো টাকা পয়সা খাইবে কে ভাবির...</td>\n",
       "      <td>abusive</td>\n",
       "      <td></td>\n",
       "    </tr>\n",
       "    <tr>\n",
       "      <th>112</th>\n",
       "      <td>ব্যবসা শেষ মাম্মা এভাবে চলতে থাকলে আইপিএল দূরে...</td>\n",
       "      <td>abusive</td>\n",
       "      <td></td>\n",
       "    </tr>\n",
       "    <tr>\n",
       "      <th>118</th>\n",
       "      <td>সাকিবালের কাহিনী বিসিবি না বুঝলেও অস্ট্রেলিয়া ...</td>\n",
       "      <td>abusive</td>\n",
       "      <td></td>\n",
       "    </tr>\n",
       "    <tr>\n",
       "      <th>146</th>\n",
       "      <td>কিছু উজবুক এখানে ধর্ম জান্নাত জাহান্নাম মারাইত...</td>\n",
       "      <td>abusive</td>\n",
       "      <td></td>\n",
       "    </tr>\n",
       "  </tbody>\n",
       "</table>\n",
       "</div>"
      ],
      "text/plain": [
       "                                                Review Recommended  \\\n",
       "6    যদি রাত পোহালে সুনা যেতো বঙ্গবন্ধু মরে নাইইই ত...     abusive   \n",
       "20   বেশি বেশি করে খান এতো টাকা পয়সা খাইবে কে ভাবির...     abusive   \n",
       "112  ব্যবসা শেষ মাম্মা এভাবে চলতে থাকলে আইপিএল দূরে...     abusive   \n",
       "118  সাকিবালের কাহিনী বিসিবি না বুঝলেও অস্ট্রেলিয়া ...     abusive   \n",
       "146  কিছু উজবুক এখানে ধর্ম জান্নাত জাহান্নাম মারাইত...     abusive   \n",
       "\n",
       "    Review_clear  \n",
       "6                 \n",
       "20                \n",
       "112               \n",
       "118               \n",
       "146               "
      ]
     },
     "execution_count": 34,
     "metadata": {},
     "output_type": "execute_result"
    }
   ],
   "source": [
    "n_r.head()"
   ]
  },
  {
   "cell_type": "code",
   "execution_count": 35,
   "id": "8cf185fd",
   "metadata": {},
   "outputs": [],
   "source": [
    "X = review['Review']\n",
    "y = review['Recommended']\n",
    "\n",
    "X_train, X_test, y_train, y_test = train_test_split(X, y, test_size=0.2, random_state = 0)"
   ]
  },
  {
   "cell_type": "code",
   "execution_count": 36,
   "id": "33111d90",
   "metadata": {},
   "outputs": [
    {
     "data": {
      "text/plain": [
       "573"
      ]
     },
     "execution_count": 36,
     "metadata": {},
     "output_type": "execute_result"
    }
   ],
   "source": [
    "vect = CountVectorizer(min_df=5, ngram_range=(1,2)).fit(X_train)\n",
    "\n",
    "X_train_vectorized = vect.transform(X_train)\n",
    "\n",
    "len(vect.get_feature_names())"
   ]
  },
  {
   "cell_type": "markdown",
   "id": "ec055394",
   "metadata": {},
   "source": [
    "# Logistic Regression"
   ]
  },
  {
   "cell_type": "code",
   "execution_count": 37,
   "id": "375c83b3",
   "metadata": {},
   "outputs": [],
   "source": [
    "model = LogisticRegression()\n",
    "model.fit(X_train_vectorized, y_train)\n",
    "\n",
    "ytest = np.array(y_test)\n",
    "predictions = model.predict(vect.transform(X_test))"
   ]
  },
  {
   "cell_type": "code",
   "execution_count": 38,
   "id": "9cbe9c1b",
   "metadata": {},
   "outputs": [
    {
     "name": "stdout",
     "output_type": "stream",
     "text": [
      "accuracy 0.5606326889279437\n",
      "              precision    recall  f1-score   support\n",
      "\n",
      "     abusive       0.38      0.32      0.35        31\n",
      "       angry       0.32      0.36      0.34        74\n",
      "     excited       0.73      0.71      0.72       136\n",
      "       happy       0.62      0.73      0.67       197\n",
      "   religious       1.00      0.17      0.29        12\n",
      "         sad       0.42      0.35      0.38       102\n",
      "   surprised       0.50      0.18      0.26        17\n",
      "\n",
      "    accuracy                           0.56       569\n",
      "   macro avg       0.57      0.40      0.43       569\n",
      "weighted avg       0.56      0.56      0.55       569\n",
      "\n"
     ]
    }
   ],
   "source": [
    "print('accuracy %s' % accuracy_score(predictions, y_test))\n",
    "print(classification_report(ytest, predictions))"
   ]
  },
  {
   "cell_type": "markdown",
   "id": "4db942ca",
   "metadata": {},
   "source": [
    "# Naive bayes"
   ]
  },
  {
   "cell_type": "code",
   "execution_count": 39,
   "id": "2960f608",
   "metadata": {},
   "outputs": [],
   "source": [
    "model_nb = Pipeline([('vect', CountVectorizer(min_df=5, ngram_range=(1,2))),\n",
    "                   ('tfidf', TfidfTransformer()),\n",
    "                   ('clf',MultinomialNB()),\n",
    "                   ])\n",
    "\n",
    "model_nb.fit(X_train, y_train)\n",
    "\n",
    "ytest = np.array(y_test)\n",
    "pred_y = model_nb.predict(X_test)"
   ]
  },
  {
   "cell_type": "code",
   "execution_count": 40,
   "id": "ee2fef31",
   "metadata": {},
   "outputs": [
    {
     "name": "stdout",
     "output_type": "stream",
     "text": [
      "accuracy 0.5606326889279437\n",
      "              precision    recall  f1-score   support\n",
      "\n",
      "     abusive       0.80      0.13      0.22        31\n",
      "       angry       0.40      0.30      0.34        74\n",
      "     excited       0.74      0.74      0.74       136\n",
      "       happy       0.53      0.85      0.66       197\n",
      "   religious       0.00      0.00      0.00        12\n",
      "         sad       0.43      0.25      0.31       102\n",
      "   surprised       0.00      0.00      0.00        17\n",
      "\n",
      "    accuracy                           0.56       569\n",
      "   macro avg       0.41      0.32      0.32       569\n",
      "weighted avg       0.53      0.56      0.52       569\n",
      "\n"
     ]
    },
    {
     "name": "stderr",
     "output_type": "stream",
     "text": [
      "C:\\Users\\User\\anaconda3\\lib\\site-packages\\sklearn\\metrics\\_classification.py:1245: UndefinedMetricWarning: Precision and F-score are ill-defined and being set to 0.0 in labels with no predicted samples. Use `zero_division` parameter to control this behavior.\n",
      "  _warn_prf(average, modifier, msg_start, len(result))\n",
      "C:\\Users\\User\\anaconda3\\lib\\site-packages\\sklearn\\metrics\\_classification.py:1245: UndefinedMetricWarning: Precision and F-score are ill-defined and being set to 0.0 in labels with no predicted samples. Use `zero_division` parameter to control this behavior.\n",
      "  _warn_prf(average, modifier, msg_start, len(result))\n",
      "C:\\Users\\User\\anaconda3\\lib\\site-packages\\sklearn\\metrics\\_classification.py:1245: UndefinedMetricWarning: Precision and F-score are ill-defined and being set to 0.0 in labels with no predicted samples. Use `zero_division` parameter to control this behavior.\n",
      "  _warn_prf(average, modifier, msg_start, len(result))\n"
     ]
    }
   ],
   "source": [
    "print('accuracy %s' % accuracy_score(pred_y, y_test))\n",
    "print(classification_report(ytest, pred_y))"
   ]
  },
  {
   "cell_type": "markdown",
   "id": "87b80f5e",
   "metadata": {},
   "source": [
    "# Support Vector Machine (SVM)"
   ]
  },
  {
   "cell_type": "code",
   "execution_count": 41,
   "id": "e2e3be0b",
   "metadata": {},
   "outputs": [],
   "source": [
    "model_svm = Pipeline([('vect', CountVectorizer(min_df=5, ngram_range=(1, 2))),\n",
    "                    ('tfidf', TfidfTransformer()),\n",
    "                    ('clf-svm',SGDClassifier(loss='hinge',penalty='l2', alpha=1e-3, random_state=42)),\n",
    "                    ])\n",
    "\n",
    "model_svm.fit(X_train, y_train)\n",
    "\n",
    "ytest = np.array(y_test)\n",
    "y_predict = model_svm.predict(X_test)"
   ]
  },
  {
   "cell_type": "code",
   "execution_count": 42,
   "id": "a2d0fcb5",
   "metadata": {},
   "outputs": [
    {
     "name": "stdout",
     "output_type": "stream",
     "text": [
      "accuracy 0.5852372583479789\n",
      "              precision    recall  f1-score   support\n",
      "\n",
      "     abusive       0.88      0.23      0.36        31\n",
      "       angry       0.37      0.30      0.33        74\n",
      "     excited       0.67      0.77      0.72       136\n",
      "       happy       0.60      0.81      0.69       197\n",
      "   religious       0.50      0.17      0.25        12\n",
      "         sad       0.50      0.34      0.41       102\n",
      "   surprised       0.50      0.12      0.19        17\n",
      "\n",
      "    accuracy                           0.59       569\n",
      "   macro avg       0.57      0.39      0.42       569\n",
      "weighted avg       0.58      0.59      0.56       569\n",
      "\n"
     ]
    }
   ],
   "source": [
    "print('accuracy %s' % accuracy_score(y_predict, y_test))\n",
    "print(classification_report(ytest, y_predict))"
   ]
  },
  {
   "cell_type": "markdown",
   "id": "ae468d67",
   "metadata": {},
   "source": [
    "# Random Forest"
   ]
  },
  {
   "cell_type": "code",
   "execution_count": 101,
   "id": "346885e6",
   "metadata": {},
   "outputs": [],
   "source": [
    "model_rf = Pipeline([('vect', CountVectorizer(min_df=5, ngram_range=(1,2))),\n",
    "                    ('tfidf', TfidfTransformer()),\n",
    "                    ('clf-rf', RandomForestClassifier(n_estimators=50)),\n",
    "                    ])\n",
    "\n",
    "model_rf.fit(X_train, y_train)\n",
    "\n",
    "ytest = np.array(y_test)\n",
    "pred = model_rf.predict(X_test)"
   ]
  },
  {
   "cell_type": "code",
   "execution_count": 102,
   "id": "303eb0a0",
   "metadata": {},
   "outputs": [
    {
     "name": "stdout",
     "output_type": "stream",
     "text": [
      "accuracy 0.5746924428822495\n",
      "              precision    recall  f1-score   support\n",
      "\n",
      "     abusive       0.36      0.26      0.30        31\n",
      "       angry       0.40      0.34      0.37        74\n",
      "     excited       0.71      0.76      0.73       136\n",
      "       happy       0.58      0.79      0.67       197\n",
      "   religious       0.25      0.08      0.12        12\n",
      "         sad       0.51      0.31      0.39       102\n",
      "   surprised       0.67      0.12      0.20        17\n",
      "\n",
      "    accuracy                           0.57       569\n",
      "   macro avg       0.50      0.38      0.40       569\n",
      "weighted avg       0.56      0.57      0.55       569\n",
      "\n"
     ]
    }
   ],
   "source": [
    "print('accuracy %s' % accuracy_score(pred, y_test))\n",
    "print(classification_report(ytest, pred))"
   ]
  },
  {
   "cell_type": "markdown",
   "id": "fa4a2d3d",
   "metadata": {},
   "source": [
    "# Which one is the best Model?"
   ]
  },
  {
   "cell_type": "code",
   "execution_count": 103,
   "id": "a2926201",
   "metadata": {},
   "outputs": [],
   "source": [
    "log_acc = accuracy_score(predictions, y_test)\n",
    "nb_acc = accuracy_score(pred_y, y_test)\n",
    "svm_acc = accuracy_score(y_predict, y_test)\n",
    "rf_acc = accuracy_score(pred, y_test)"
   ]
  },
  {
   "cell_type": "code",
   "execution_count": 104,
   "id": "72c56dcc",
   "metadata": {},
   "outputs": [
    {
     "data": {
      "text/html": [
       "<div>\n",
       "<style scoped>\n",
       "    .dataframe tbody tr th:only-of-type {\n",
       "        vertical-align: middle;\n",
       "    }\n",
       "\n",
       "    .dataframe tbody tr th {\n",
       "        vertical-align: top;\n",
       "    }\n",
       "\n",
       "    .dataframe thead th {\n",
       "        text-align: right;\n",
       "    }\n",
       "</style>\n",
       "<table border=\"1\" class=\"dataframe\">\n",
       "  <thead>\n",
       "    <tr style=\"text-align: right;\">\n",
       "      <th></th>\n",
       "      <th>Model</th>\n",
       "      <th>Score</th>\n",
       "    </tr>\n",
       "  </thead>\n",
       "  <tbody>\n",
       "    <tr>\n",
       "      <th>2</th>\n",
       "      <td>Support Vector Machines</td>\n",
       "      <td>0.585237</td>\n",
       "    </tr>\n",
       "    <tr>\n",
       "      <th>3</th>\n",
       "      <td>Random Forest</td>\n",
       "      <td>0.574692</td>\n",
       "    </tr>\n",
       "    <tr>\n",
       "      <th>0</th>\n",
       "      <td>Logistic Regression</td>\n",
       "      <td>0.560633</td>\n",
       "    </tr>\n",
       "    <tr>\n",
       "      <th>1</th>\n",
       "      <td>Naive Bayes</td>\n",
       "      <td>0.560633</td>\n",
       "    </tr>\n",
       "  </tbody>\n",
       "</table>\n",
       "</div>"
      ],
      "text/plain": [
       "                     Model     Score\n",
       "2  Support Vector Machines  0.585237\n",
       "3            Random Forest  0.574692\n",
       "0      Logistic Regression  0.560633\n",
       "1              Naive Bayes  0.560633"
      ]
     },
     "execution_count": 104,
     "metadata": {},
     "output_type": "execute_result"
    }
   ],
   "source": [
    "models = pd.DataFrame({\n",
    "                      'Model': ['Logistic Regression', 'Naive Bayes', 'Support Vector Machines', 'Random Forest'],\n",
    "                      'Score': [log_acc, nb_acc, svm_acc, rf_acc]})\n",
    "models.sort_values(by='Score', ascending=False)"
   ]
  },
  {
   "cell_type": "markdown",
   "id": "3bfdcea2",
   "metadata": {},
   "source": [
    "# BiLSTM"
   ]
  },
  {
   "cell_type": "code",
   "execution_count": 37,
   "id": "87004a32",
   "metadata": {},
   "outputs": [],
   "source": [
    "from sklearn.feature_extraction.text import CountVectorizer\n",
    "from keras.preprocessing.text import Tokenizer\n",
    "from keras.preprocessing.sequence import pad_sequences\n",
    "from keras.models import Sequential\n",
    "from keras.layers import Dense, Embedding, LSTM, SpatialDropout1D\n",
    "from sklearn.model_selection import train_test_split\n",
    "from keras.utils.np_utils import to_categorical\n",
    "from sklearn.utils import resample\n",
    "from sklearn.utils import shuffle\n",
    "from sklearn.metrics import confusion_matrix,classification_report\n",
    "import re\n",
    "from tensorflow.keras.layers import LSTM,GRU,Bidirectional,Embedding,Dense\n",
    "from tensorflow.keras.models import Sequential\n",
    "from tensorflow.keras.optimizers import Adam,RMSprop\n",
    "from tensorflow.keras.preprocessing.sequence import pad_sequences\n",
    "from tensorflow.keras.callbacks import EarlyStopping,ModelCheckpoint,TensorBoard,ReduceLROnPlateau"
   ]
  },
  {
   "cell_type": "code",
   "execution_count": 38,
   "id": "b8acfa3c",
   "metadata": {},
   "outputs": [
    {
     "data": {
      "text/plain": [
       "array([[  0,   0,   0,   0,   0,   0,   0,   0,   0, 308,  98, 914, 639,\n",
       "        915,  86, 266, 496, 452],\n",
       "       [ 22,   1,  18,  73,  76,   6, 164,  94,  27,  12, 453, 560, 640,\n",
       "        327, 383, 288, 217,   2]])"
      ]
     },
     "execution_count": 38,
     "metadata": {},
     "output_type": "execute_result"
    }
   ],
   "source": [
    "    \n",
    "max_fatures = 2000\n",
    "tokenizer = Tokenizer(num_words=max_fatures, split=' ')\n",
    "tokenizer.fit_on_texts(review['Review'].values)\n",
    "X = tokenizer.texts_to_sequences(review['Review'].values)\n",
    "X = pad_sequences(X)\n",
    "X[:2]"
   ]
  },
  {
   "cell_type": "code",
   "execution_count": 39,
   "id": "670c3754",
   "metadata": {},
   "outputs": [
    {
     "name": "stdout",
     "output_type": "stream",
     "text": [
      "Model: \"sequential\"\n",
      "_________________________________________________________________\n",
      " Layer (type)                Output Shape              Param #   \n",
      "=================================================================\n",
      " embedding (Embedding)       (None, 18, 128)           256000    \n",
      "                                                                 \n",
      " spatial_dropout1d (SpatialD  (None, 18, 128)          0         \n",
      " ropout1D)                                                       \n",
      "                                                                 \n",
      " bidirectional (Bidirectiona  (None, 392)              509600    \n",
      " l)                                                              \n",
      "                                                                 \n",
      " dense (Dense)               (None, 7)                 2751      \n",
      "                                                                 \n",
      "=================================================================\n",
      "Total params: 768,351\n",
      "Trainable params: 768,351\n",
      "Non-trainable params: 0\n",
      "_________________________________________________________________\n",
      "None\n"
     ]
    }
   ],
   "source": [
    "embed_dim = 128\n",
    "lstm_out = 196\n",
    "\n",
    "model = Sequential()\n",
    "model.add(Embedding(max_fatures, embed_dim,input_length = X.shape[1]))\n",
    "model.add(SpatialDropout1D(0.4))\n",
    "#model.add(Bidirectional(LSTM(units=32, return_sequences=True)))\n",
    "model.add(Bidirectional(LSTM(lstm_out, dropout=0.2, recurrent_dropout=0.2)))\n",
    "model.add(Dense(7,activation='sigmoid'))\n",
    "model.compile(loss = 'binary_crossentropy', optimizer='adam',metrics = ['accuracy'])\n",
    "print(model.summary())"
   ]
  },
  {
   "cell_type": "code",
   "execution_count": 40,
   "id": "ab3924c6",
   "metadata": {},
   "outputs": [
    {
     "name": "stdout",
     "output_type": "stream",
     "text": [
      "(2274, 18) (2274, 7)\n",
      "(569, 18) (569, 7)\n"
     ]
    }
   ],
   "source": [
    "Y = pd.get_dummies(review['Recommended']).values\n",
    "X_train, X_test, Y_train, Y_test = train_test_split(X,Y, test_size = 0.20, random_state = 20)\n",
    "print(X_train.shape,Y_train.shape)\n",
    "print(X_test.shape,Y_test.shape)"
   ]
  },
  {
   "cell_type": "code",
   "execution_count": 41,
   "id": "125e53fe",
   "metadata": {},
   "outputs": [
    {
     "name": "stdout",
     "output_type": "stream",
     "text": [
      "Epoch 1/15\n",
      "18/18 [==============================] - 7s 162ms/step - loss: 0.4744 - accuracy: 0.3412\n",
      "Epoch 2/15\n",
      "18/18 [==============================] - 3s 146ms/step - loss: 0.3611 - accuracy: 0.3470\n",
      "Epoch 3/15\n",
      "18/18 [==============================] - 3s 145ms/step - loss: 0.3527 - accuracy: 0.3606\n",
      "Epoch 4/15\n",
      "18/18 [==============================] - 3s 145ms/step - loss: 0.3289 - accuracy: 0.4261\n",
      "Epoch 5/15\n",
      "18/18 [==============================] - 3s 142ms/step - loss: 0.2758 - accuracy: 0.5317\n",
      "Epoch 6/15\n",
      "18/18 [==============================] - 3s 141ms/step - loss: 0.2518 - accuracy: 0.5695\n",
      "Epoch 7/15\n",
      "18/18 [==============================] - 3s 148ms/step - loss: 0.2277 - accuracy: 0.6253\n",
      "Epoch 8/15\n",
      "18/18 [==============================] - 3s 143ms/step - loss: 0.1957 - accuracy: 0.6834\n",
      "Epoch 9/15\n",
      "18/18 [==============================] - 3s 142ms/step - loss: 0.1756 - accuracy: 0.7216\n",
      "Epoch 10/15\n",
      "18/18 [==============================] - 3s 141ms/step - loss: 0.1652 - accuracy: 0.7370\n",
      "Epoch 11/15\n",
      "18/18 [==============================] - 3s 146ms/step - loss: 0.1538 - accuracy: 0.7599\n",
      "Epoch 12/15\n",
      "18/18 [==============================] - 3s 142ms/step - loss: 0.1422 - accuracy: 0.7797\n",
      "Epoch 13/15\n",
      "18/18 [==============================] - 3s 144ms/step - loss: 0.1287 - accuracy: 0.8109\n",
      "Epoch 14/15\n",
      "18/18 [==============================] - 3s 142ms/step - loss: 0.1142 - accuracy: 0.8386\n",
      "Epoch 15/15\n",
      "18/18 [==============================] - 3s 143ms/step - loss: 0.1007 - accuracy: 0.8610\n"
     ]
    },
    {
     "data": {
      "text/plain": [
       "<keras.callbacks.History at 0x290e6c79ca0>"
      ]
     },
     "execution_count": 41,
     "metadata": {},
     "output_type": "execute_result"
    }
   ],
   "source": [
    "batch_size = 128\n",
    "model.fit(X_train, Y_train, epochs = 15, batch_size=batch_size, verbose = 1)"
   ]
  },
  {
   "cell_type": "code",
   "execution_count": 42,
   "id": "2c2b0bec",
   "metadata": {},
   "outputs": [],
   "source": [
    "Y_pred = (model.predict(X_test) > 0.5).astype(\"int32\")"
   ]
  },
  {
   "cell_type": "code",
   "execution_count": 43,
   "id": "12f3f4e0",
   "metadata": {},
   "outputs": [
    {
     "name": "stdout",
     "output_type": "stream",
     "text": [
      "accuracy 0.5588752196836555\n",
      "              precision    recall  f1-score   support\n",
      "\n",
      "           0       0.34      0.25      0.29        40\n",
      "           1       0.54      0.26      0.35        81\n",
      "           2       0.79      0.85      0.82       123\n",
      "           3       0.82      0.66      0.73       193\n",
      "           4       0.00      0.00      0.00        15\n",
      "           5       0.54      0.58      0.56        96\n",
      "           6       0.00      0.00      0.00        21\n",
      "\n",
      "   micro avg       0.69      0.56      0.62       569\n",
      "   macro avg       0.43      0.37      0.39       569\n",
      "weighted avg       0.64      0.56      0.59       569\n",
      " samples avg       0.56      0.56      0.56       569\n",
      "\n"
     ]
    },
    {
     "name": "stderr",
     "output_type": "stream",
     "text": [
      "C:\\Users\\User\\anaconda3\\lib\\site-packages\\sklearn\\metrics\\_classification.py:1245: UndefinedMetricWarning: Precision and F-score are ill-defined and being set to 0.0 in labels with no predicted samples. Use `zero_division` parameter to control this behavior.\n",
      "  _warn_prf(average, modifier, msg_start, len(result))\n",
      "C:\\Users\\User\\anaconda3\\lib\\site-packages\\sklearn\\metrics\\_classification.py:1245: UndefinedMetricWarning: Precision and F-score are ill-defined and being set to 0.0 in samples with no predicted labels. Use `zero_division` parameter to control this behavior.\n",
      "  _warn_prf(average, modifier, msg_start, len(result))\n"
     ]
    }
   ],
   "source": [
    "\n",
    "print('accuracy %s' % accuracy_score(Y_pred, Y_test))\n",
    "print(classification_report(Y_test, Y_pred))"
   ]
  },
  {
   "cell_type": "markdown",
   "id": "74cdfec2",
   "metadata": {},
   "source": [
    "# adaboost\n"
   ]
  },
  {
   "cell_type": "code",
   "execution_count": 43,
   "id": "90c2363f",
   "metadata": {},
   "outputs": [],
   "source": [
    "from sklearn.ensemble import AdaBoostClassifier\n",
    "\n",
    "ada = Pipeline([('vect', CountVectorizer(min_df=5, ngram_range=(1,2))),\n",
    "                ('tfidf', TfidfTransformer()),\n",
    "                ('clf-ada', AdaBoostClassifier()),\n",
    "                ])\n",
    "\n",
    "ada.fit(X_train, y_train)\n",
    "ytest = np.array(y_test)\n",
    "ada_pred = ada.predict(X_test)"
   ]
  },
  {
   "cell_type": "code",
   "execution_count": 44,
   "id": "43befa0d",
   "metadata": {},
   "outputs": [
    {
     "name": "stdout",
     "output_type": "stream",
     "text": [
      "accuracy 0.5061511423550088\n",
      "              precision    recall  f1-score   support\n",
      "\n",
      "     abusive       0.00      0.00      0.00        31\n",
      "       angry       0.41      0.24      0.31        74\n",
      "     excited       0.75      0.58      0.66       136\n",
      "       happy       0.46      0.88      0.60       197\n",
      "   religious       0.00      0.00      0.00        12\n",
      "         sad       0.48      0.16      0.24       102\n",
      "   surprised       0.40      0.12      0.18        17\n",
      "\n",
      "    accuracy                           0.51       569\n",
      "   macro avg       0.36      0.28      0.28       569\n",
      "weighted avg       0.49      0.51      0.45       569\n",
      "\n"
     ]
    },
    {
     "name": "stderr",
     "output_type": "stream",
     "text": [
      "C:\\Users\\User\\anaconda3\\lib\\site-packages\\sklearn\\metrics\\_classification.py:1245: UndefinedMetricWarning: Precision and F-score are ill-defined and being set to 0.0 in labels with no predicted samples. Use `zero_division` parameter to control this behavior.\n",
      "  _warn_prf(average, modifier, msg_start, len(result))\n",
      "C:\\Users\\User\\anaconda3\\lib\\site-packages\\sklearn\\metrics\\_classification.py:1245: UndefinedMetricWarning: Precision and F-score are ill-defined and being set to 0.0 in labels with no predicted samples. Use `zero_division` parameter to control this behavior.\n",
      "  _warn_prf(average, modifier, msg_start, len(result))\n",
      "C:\\Users\\User\\anaconda3\\lib\\site-packages\\sklearn\\metrics\\_classification.py:1245: UndefinedMetricWarning: Precision and F-score are ill-defined and being set to 0.0 in labels with no predicted samples. Use `zero_division` parameter to control this behavior.\n",
      "  _warn_prf(average, modifier, msg_start, len(result))\n"
     ]
    }
   ],
   "source": [
    "print('accuracy %s' % accuracy_score(ada_pred, y_test))\n",
    "print(classification_report(ytest, ada_pred))"
   ]
  },
  {
   "cell_type": "markdown",
   "id": "21f5afb5",
   "metadata": {},
   "source": [
    "# KNN"
   ]
  },
  {
   "cell_type": "code",
   "execution_count": 45,
   "id": "401b7f82",
   "metadata": {},
   "outputs": [
    {
     "name": "stdout",
     "output_type": "stream",
     "text": [
      "\n",
      "K Nearest Neighbors (NN = 3)\n",
      "Accuracy Score: 45.16695957820738%\n",
      "Confusion Matrix: \n",
      "[[  8   4   1  17   0   1   0]\n",
      " [ 22  17   4  29   0   1   1]\n",
      " [ 10  14  73  34   0   5   0]\n",
      " [ 19  19  12 143   0   4   0]\n",
      " [  6   1   0   5   0   0   0]\n",
      " [ 21  20   4  40   0  16   1]\n",
      " [  1   5   0   8   1   2   0]]\n",
      "              precision    recall  f1-score   support\n",
      "\n",
      "     abusive       0.09      0.26      0.14        31\n",
      "       angry       0.21      0.23      0.22        74\n",
      "     excited       0.78      0.54      0.63       136\n",
      "       happy       0.52      0.73      0.60       197\n",
      "   religious       0.00      0.00      0.00        12\n",
      "         sad       0.55      0.16      0.24       102\n",
      "   surprised       0.00      0.00      0.00        17\n",
      "\n",
      "    accuracy                           0.45       569\n",
      "   macro avg       0.31      0.27      0.26       569\n",
      "weighted avg       0.50      0.45      0.44       569\n",
      "\n"
     ]
    }
   ],
   "source": [
    "import pandas as pd\n",
    "from sklearn import metrics\n",
    "from sklearn.model_selection import train_test_split\n",
    "from sklearn.feature_extraction.text import CountVectorizer\n",
    "from sklearn.svm import LinearSVC\n",
    "from sklearn.naive_bayes import MultinomialNB\n",
    "from sklearn.linear_model import LogisticRegression\n",
    "from sklearn.neighbors import KNeighborsClassifier\n",
    "\n",
    "\n",
    "vect.fit(X_train)\n",
    "X_train_dtm = vect.transform(X_train)\n",
    "y_train_dtm = vect.transform(y_train) \n",
    "X_test_dtm = vect.transform(X_test)\n",
    "\n",
    "#Accuracy using KNN Model\n",
    "KNN = KNeighborsClassifier(n_neighbors = 3)\n",
    "KNN.fit(X_train_dtm, y_train)\n",
    "y_pred = KNN.predict(X_test_dtm)\n",
    "print('\\nK Nearest Neighbors (NN = 3)')\n",
    "print('Accuracy Score: ',metrics.accuracy_score(y_test,y_pred)*100,'%',sep='')\n",
    "print('Confusion Matrix: ',metrics.confusion_matrix(y_test,y_pred), sep = '\\n')\n",
    "ytest = np.array(y_test)\n",
    "print(classification_report(ytest, y_pred))"
   ]
  },
  {
   "cell_type": "markdown",
   "id": "2e465bfd",
   "metadata": {},
   "source": [
    "# gru"
   ]
  },
  {
   "cell_type": "code",
   "execution_count": 53,
   "id": "ca9c6e34",
   "metadata": {},
   "outputs": [],
   "source": [
    "%matplotlib inline\n",
    "import matplotlib.pyplot as plt\n",
    "import tensorflow as tf\n",
    "import numpy as np\n",
    "import pandas as pd \n",
    "from scipy.spatial.distance import cdist\n",
    "from tensorflow.python.keras.models import Sequential\n",
    "from tensorflow.python.keras.layers import Dense, GRU, Embedding\n",
    "from tensorflow.keras.optimizers import Adam\n",
    "from tensorflow.python.keras.preprocessing.text import Tokenizer\n",
    "from tensorflow.python.keras.preprocessing.sequence import pad_sequences"
   ]
  },
  {
   "cell_type": "code",
   "execution_count": 54,
   "id": "83d0001d",
   "metadata": {},
   "outputs": [],
   "source": [
    "from tensorflow.keras.optimizers import Adam"
   ]
  },
  {
   "cell_type": "code",
   "execution_count": 55,
   "id": "f0bb1af3",
   "metadata": {},
   "outputs": [],
   "source": [
    "text = pd.concat([X_train,X_test])"
   ]
  },
  {
   "cell_type": "code",
   "execution_count": 56,
   "id": "f201f39b",
   "metadata": {},
   "outputs": [
    {
     "data": {
      "text/plain": [
       "2606    অবৈধ শেখ হাসিনার জন্মদিন ভোট চোরের জন্মদিন আর ...\n",
       "2127                         কি ব্যাপার ভাই এত বিষন্ন কেন\n",
       "308                          নতুন ব্যাবসার জন্য শুভ কামনা\n",
       "1006    আপনার এই ছবি দেখেদেশেী বিভিন্ন স্থানে প্রায় অর...\n",
       "2177      ফেসবুকে আন্দোলন করে লাভ কি রাস্তায় যদি না নামেন\n",
       "Name: Review, dtype: object"
      ]
     },
     "execution_count": 56,
     "metadata": {},
     "output_type": "execute_result"
    }
   ],
   "source": [
    "text.head()"
   ]
  },
  {
   "cell_type": "code",
   "execution_count": 57,
   "id": "2cf98233",
   "metadata": {},
   "outputs": [],
   "source": [
    "num_words = 10000\n",
    "tokenizer = Tokenizer(num_words=num_words)\n",
    "tokenizer.fit_on_texts(text)\n",
    "X_train_tokens = tokenizer.texts_to_sequences(X_train)\n",
    "X_test_tokens = tokenizer.texts_to_sequences(X_test)"
   ]
  },
  {
   "cell_type": "code",
   "execution_count": 58,
   "id": "7d65ab26",
   "metadata": {},
   "outputs": [
    {
     "name": "stdout",
     "output_type": "stream",
     "text": [
      "Mean length is 9.702075272599368\n"
     ]
    }
   ],
   "source": [
    "num_tokens = [len(tokens) for tokens in X_train_tokens + X_test_tokens]\n",
    "num_tokens = np.array(num_tokens)\n",
    "print(\"Mean length is \" + str(np.mean(num_tokens)))"
   ]
  },
  {
   "cell_type": "code",
   "execution_count": 59,
   "id": "8093cde3",
   "metadata": {},
   "outputs": [
    {
     "name": "stdout",
     "output_type": "stream",
     "text": [
      "16\n"
     ]
    }
   ],
   "source": [
    "#Chose to 2 S.D to cover ~95% of data\n",
    "max_tokens = np.mean(num_tokens) + 2*np.std(num_tokens)\n",
    "max_tokens = int(max_tokens)\n",
    "print(max_tokens)"
   ]
  },
  {
   "cell_type": "code",
   "execution_count": 60,
   "id": "b2731cca",
   "metadata": {},
   "outputs": [],
   "source": [
    "x_train_pad = pad_sequences(X_train_tokens, maxlen=max_tokens,\n",
    "                            padding='pre', truncating='pre')\n",
    "x_test_pad = pad_sequences(X_test_tokens, maxlen=max_tokens,\n",
    "                           padding='pre', truncating='pre')"
   ]
  },
  {
   "cell_type": "code",
   "execution_count": 61,
   "id": "70131314",
   "metadata": {},
   "outputs": [],
   "source": [
    "idx = tokenizer.word_index\n",
    "inverse_map = dict(zip(idx.values(), idx.keys()))"
   ]
  },
  {
   "cell_type": "code",
   "execution_count": 62,
   "id": "bd05f4a0",
   "metadata": {},
   "outputs": [],
   "source": [
    "def tokens_to_string(tokens):\n",
    "    words = [inverse_map[token] for token in tokens if token != 0]\n",
    "    text = \" \".join(words)\n",
    "    return text"
   ]
  },
  {
   "cell_type": "code",
   "execution_count": 78,
   "id": "bb027fef",
   "metadata": {},
   "outputs": [],
   "source": [
    "model = Sequential()\n",
    "embedding_size = 100\n",
    "\n",
    "model.add(Embedding(input_dim=num_words,\n",
    "                    output_dim=embedding_size,\n",
    "                    input_length=max_tokens,\n",
    "                    name='layer_embedding'))\n",
    "model.add(GRU(units=16, return_sequences=True))\n",
    "model.add(GRU(units=8, return_sequences=True))\n",
    "model.add(GRU(units=4))\n",
    "model.add(Dense(1, activation='sigmoid'))\n",
    "model.compile(loss='categorical_crossentropy',\n",
    "              optimizer='adam',\n",
    "              metrics=['accuracy'])"
   ]
  },
  {
   "cell_type": "code",
   "execution_count": 79,
   "id": "99858fd0",
   "metadata": {},
   "outputs": [
    {
     "name": "stdout",
     "output_type": "stream",
     "text": [
      "Epoch 1/3\n"
     ]
    },
    {
     "ename": "UnimplementedError",
     "evalue": " Cast string to float is not supported\n\t [[node categorical_crossentropy/Cast\n (defined at C:\\Users\\User\\anaconda3\\lib\\site-packages\\tensorflow\\python\\keras\\losses.py:1668)\n]] [Op:__inference_train_function_48233]\n\nErrors may have originated from an input operation.\nInput Source operations connected to node categorical_crossentropy/Cast:\nIn[0] ExpandDims (defined at C:\\Users\\User\\anaconda3\\lib\\site-packages\\tensorflow\\python\\keras\\engine\\data_adapter.py:1460)\n\nOperation defined at: (most recent call last)\n>>>   File \"C:\\Users\\User\\anaconda3\\lib\\runpy.py\", line 194, in _run_module_as_main\n>>>     return _run_code(code, main_globals, None,\n>>> \n>>>   File \"C:\\Users\\User\\anaconda3\\lib\\runpy.py\", line 87, in _run_code\n>>>     exec(code, run_globals)\n>>> \n>>>   File \"C:\\Users\\User\\anaconda3\\lib\\site-packages\\ipykernel_launcher.py\", line 16, in <module>\n>>>     app.launch_new_instance()\n>>> \n>>>   File \"C:\\Users\\User\\anaconda3\\lib\\site-packages\\traitlets\\config\\application.py\", line 845, in launch_instance\n>>>     app.start()\n>>> \n>>>   File \"C:\\Users\\User\\anaconda3\\lib\\site-packages\\ipykernel\\kernelapp.py\", line 612, in start\n>>>     self.io_loop.start()\n>>> \n>>>   File \"C:\\Users\\User\\anaconda3\\lib\\site-packages\\tornado\\platform\\asyncio.py\", line 199, in start\n>>>     self.asyncio_loop.run_forever()\n>>> \n>>>   File \"C:\\Users\\User\\anaconda3\\lib\\asyncio\\base_events.py\", line 570, in run_forever\n>>>     self._run_once()\n>>> \n>>>   File \"C:\\Users\\User\\anaconda3\\lib\\asyncio\\base_events.py\", line 1859, in _run_once\n>>>     handle._run()\n>>> \n>>>   File \"C:\\Users\\User\\anaconda3\\lib\\asyncio\\events.py\", line 81, in _run\n>>>     self._context.run(self._callback, *self._args)\n>>> \n>>>   File \"C:\\Users\\User\\anaconda3\\lib\\site-packages\\tornado\\ioloop.py\", line 688, in <lambda>\n>>>     lambda f: self._run_callback(functools.partial(callback, future))\n>>> \n>>>   File \"C:\\Users\\User\\anaconda3\\lib\\site-packages\\tornado\\ioloop.py\", line 741, in _run_callback\n>>>     ret = callback()\n>>> \n>>>   File \"C:\\Users\\User\\anaconda3\\lib\\site-packages\\tornado\\gen.py\", line 814, in inner\n>>>     self.ctx_run(self.run)\n>>> \n>>>   File \"C:\\Users\\User\\anaconda3\\lib\\site-packages\\tornado\\gen.py\", line 775, in run\n>>>     yielded = self.gen.send(value)\n>>> \n>>>   File \"C:\\Users\\User\\anaconda3\\lib\\site-packages\\ipykernel\\kernelbase.py\", line 365, in process_one\n>>>     yield gen.maybe_future(dispatch(*args))\n>>> \n>>>   File \"C:\\Users\\User\\anaconda3\\lib\\site-packages\\tornado\\gen.py\", line 234, in wrapper\n>>>     yielded = ctx_run(next, result)\n>>> \n>>>   File \"C:\\Users\\User\\anaconda3\\lib\\site-packages\\ipykernel\\kernelbase.py\", line 268, in dispatch_shell\n>>>     yield gen.maybe_future(handler(stream, idents, msg))\n>>> \n>>>   File \"C:\\Users\\User\\anaconda3\\lib\\site-packages\\tornado\\gen.py\", line 234, in wrapper\n>>>     yielded = ctx_run(next, result)\n>>> \n>>>   File \"C:\\Users\\User\\anaconda3\\lib\\site-packages\\ipykernel\\kernelbase.py\", line 543, in execute_request\n>>>     self.do_execute(\n>>> \n>>>   File \"C:\\Users\\User\\anaconda3\\lib\\site-packages\\tornado\\gen.py\", line 234, in wrapper\n>>>     yielded = ctx_run(next, result)\n>>> \n>>>   File \"C:\\Users\\User\\anaconda3\\lib\\site-packages\\ipykernel\\ipkernel.py\", line 306, in do_execute\n>>>     res = shell.run_cell(code, store_history=store_history, silent=silent)\n>>> \n>>>   File \"C:\\Users\\User\\anaconda3\\lib\\site-packages\\ipykernel\\zmqshell.py\", line 536, in run_cell\n>>>     return super(ZMQInteractiveShell, self).run_cell(*args, **kwargs)\n>>> \n>>>   File \"C:\\Users\\User\\anaconda3\\lib\\site-packages\\IPython\\core\\interactiveshell.py\", line 2894, in run_cell\n>>>     result = self._run_cell(\n>>> \n>>>   File \"C:\\Users\\User\\anaconda3\\lib\\site-packages\\IPython\\core\\interactiveshell.py\", line 2940, in _run_cell\n>>>     return runner(coro)\n>>> \n>>>   File \"C:\\Users\\User\\anaconda3\\lib\\site-packages\\IPython\\core\\async_helpers.py\", line 68, in _pseudo_sync_runner\n>>>     coro.send(None)\n>>> \n>>>   File \"C:\\Users\\User\\anaconda3\\lib\\site-packages\\IPython\\core\\interactiveshell.py\", line 3165, in run_cell_async\n>>>     has_raised = await self.run_ast_nodes(code_ast.body, cell_name,\n>>> \n>>>   File \"C:\\Users\\User\\anaconda3\\lib\\site-packages\\IPython\\core\\interactiveshell.py\", line 3357, in run_ast_nodes\n>>>     if (await self.run_code(code, result,  async_=asy)):\n>>> \n>>>   File \"C:\\Users\\User\\anaconda3\\lib\\site-packages\\IPython\\core\\interactiveshell.py\", line 3437, in run_code\n>>>     exec(code_obj, self.user_global_ns, self.user_ns)\n>>> \n>>>   File \"<ipython-input-79-982121f7e5e3>\", line 1, in <module>\n>>>     model.fit(x_train_pad, y_train,\n>>> \n>>>   File \"C:\\Users\\User\\anaconda3\\lib\\site-packages\\tensorflow\\python\\keras\\engine\\training.py\", line 1189, in fit\n>>>     tmp_logs = self.train_function(iterator)\n>>> \n>>>   File \"C:\\Users\\User\\anaconda3\\lib\\site-packages\\tensorflow\\python\\keras\\engine\\training.py\", line 859, in train_function\n>>>     return step_function(self, iterator)\n>>> \n>>>   File \"C:\\Users\\User\\anaconda3\\lib\\site-packages\\tensorflow\\python\\keras\\engine\\training.py\", line 849, in step_function\n>>>     outputs = model.distribute_strategy.run(run_step, args=(data,))\n>>> \n>>>   File \"C:\\Users\\User\\anaconda3\\lib\\site-packages\\tensorflow\\python\\keras\\engine\\training.py\", line 842, in run_step\n>>>     outputs = model.train_step(data)\n>>> \n>>>   File \"C:\\Users\\User\\anaconda3\\lib\\site-packages\\tensorflow\\python\\keras\\engine\\training.py\", line 800, in train_step\n>>>     loss = self.compiled_loss(\n>>> \n>>>   File \"C:\\Users\\User\\anaconda3\\lib\\site-packages\\tensorflow\\python\\keras\\engine\\compile_utils.py\", line 204, in __call__\n>>>     loss_value = loss_obj(y_t, y_p, sample_weight=sw)\n>>> \n>>>   File \"C:\\Users\\User\\anaconda3\\lib\\site-packages\\tensorflow\\python\\keras\\losses.py\", line 155, in __call__\n>>>     losses = call_fn(y_true, y_pred)\n>>> \n>>>   File \"C:\\Users\\User\\anaconda3\\lib\\site-packages\\tensorflow\\python\\keras\\losses.py\", line 259, in call\n>>>     return ag_fn(y_true, y_pred, **self._fn_kwargs)\n>>> \n>>>   File \"C:\\Users\\User\\anaconda3\\lib\\site-packages\\tensorflow\\python\\keras\\losses.py\", line 1668, in categorical_crossentropy\n>>>     y_true = math_ops.cast(y_true, y_pred.dtype)\n>>> ",
     "output_type": "error",
     "traceback": [
      "\u001b[1;31m---------------------------------------------------------------------------\u001b[0m",
      "\u001b[1;31mUnimplementedError\u001b[0m                        Traceback (most recent call last)",
      "\u001b[1;32m<ipython-input-79-982121f7e5e3>\u001b[0m in \u001b[0;36m<module>\u001b[1;34m\u001b[0m\n\u001b[1;32m----> 1\u001b[1;33m model.fit(x_train_pad, y_train,\n\u001b[0m\u001b[0;32m      2\u001b[0m           validation_split=0.05, epochs=3, batch_size=64)\n",
      "\u001b[1;32m~\\anaconda3\\lib\\site-packages\\tensorflow\\python\\keras\\engine\\training.py\u001b[0m in \u001b[0;36mfit\u001b[1;34m(self, x, y, batch_size, epochs, verbose, callbacks, validation_split, validation_data, shuffle, class_weight, sample_weight, initial_epoch, steps_per_epoch, validation_steps, validation_batch_size, validation_freq, max_queue_size, workers, use_multiprocessing)\u001b[0m\n\u001b[0;32m   1187\u001b[0m                 _r=1):\n\u001b[0;32m   1188\u001b[0m               \u001b[0mcallbacks\u001b[0m\u001b[1;33m.\u001b[0m\u001b[0mon_train_batch_begin\u001b[0m\u001b[1;33m(\u001b[0m\u001b[0mstep\u001b[0m\u001b[1;33m)\u001b[0m\u001b[1;33m\u001b[0m\u001b[1;33m\u001b[0m\u001b[0m\n\u001b[1;32m-> 1189\u001b[1;33m               \u001b[0mtmp_logs\u001b[0m \u001b[1;33m=\u001b[0m \u001b[0mself\u001b[0m\u001b[1;33m.\u001b[0m\u001b[0mtrain_function\u001b[0m\u001b[1;33m(\u001b[0m\u001b[0miterator\u001b[0m\u001b[1;33m)\u001b[0m\u001b[1;33m\u001b[0m\u001b[1;33m\u001b[0m\u001b[0m\n\u001b[0m\u001b[0;32m   1190\u001b[0m               \u001b[1;32mif\u001b[0m \u001b[0mdata_handler\u001b[0m\u001b[1;33m.\u001b[0m\u001b[0mshould_sync\u001b[0m\u001b[1;33m:\u001b[0m\u001b[1;33m\u001b[0m\u001b[1;33m\u001b[0m\u001b[0m\n\u001b[0;32m   1191\u001b[0m                 \u001b[0mcontext\u001b[0m\u001b[1;33m.\u001b[0m\u001b[0masync_wait\u001b[0m\u001b[1;33m(\u001b[0m\u001b[1;33m)\u001b[0m\u001b[1;33m\u001b[0m\u001b[1;33m\u001b[0m\u001b[0m\n",
      "\u001b[1;32m~\\anaconda3\\lib\\site-packages\\tensorflow\\python\\util\\traceback_utils.py\u001b[0m in \u001b[0;36merror_handler\u001b[1;34m(*args, **kwargs)\u001b[0m\n\u001b[0;32m    151\u001b[0m     \u001b[1;32mexcept\u001b[0m \u001b[0mException\u001b[0m \u001b[1;32mas\u001b[0m \u001b[0me\u001b[0m\u001b[1;33m:\u001b[0m\u001b[1;33m\u001b[0m\u001b[1;33m\u001b[0m\u001b[0m\n\u001b[0;32m    152\u001b[0m       \u001b[0mfiltered_tb\u001b[0m \u001b[1;33m=\u001b[0m \u001b[0m_process_traceback_frames\u001b[0m\u001b[1;33m(\u001b[0m\u001b[0me\u001b[0m\u001b[1;33m.\u001b[0m\u001b[0m__traceback__\u001b[0m\u001b[1;33m)\u001b[0m\u001b[1;33m\u001b[0m\u001b[1;33m\u001b[0m\u001b[0m\n\u001b[1;32m--> 153\u001b[1;33m       \u001b[1;32mraise\u001b[0m \u001b[0me\u001b[0m\u001b[1;33m.\u001b[0m\u001b[0mwith_traceback\u001b[0m\u001b[1;33m(\u001b[0m\u001b[0mfiltered_tb\u001b[0m\u001b[1;33m)\u001b[0m \u001b[1;32mfrom\u001b[0m \u001b[1;32mNone\u001b[0m\u001b[1;33m\u001b[0m\u001b[1;33m\u001b[0m\u001b[0m\n\u001b[0m\u001b[0;32m    154\u001b[0m     \u001b[1;32mfinally\u001b[0m\u001b[1;33m:\u001b[0m\u001b[1;33m\u001b[0m\u001b[1;33m\u001b[0m\u001b[0m\n\u001b[0;32m    155\u001b[0m       \u001b[1;32mdel\u001b[0m \u001b[0mfiltered_tb\u001b[0m\u001b[1;33m\u001b[0m\u001b[1;33m\u001b[0m\u001b[0m\n",
      "\u001b[1;32m~\\anaconda3\\lib\\site-packages\\tensorflow\\python\\eager\\execute.py\u001b[0m in \u001b[0;36mquick_execute\u001b[1;34m(op_name, num_outputs, inputs, attrs, ctx, name)\u001b[0m\n\u001b[0;32m     56\u001b[0m   \u001b[1;32mtry\u001b[0m\u001b[1;33m:\u001b[0m\u001b[1;33m\u001b[0m\u001b[1;33m\u001b[0m\u001b[0m\n\u001b[0;32m     57\u001b[0m     \u001b[0mctx\u001b[0m\u001b[1;33m.\u001b[0m\u001b[0mensure_initialized\u001b[0m\u001b[1;33m(\u001b[0m\u001b[1;33m)\u001b[0m\u001b[1;33m\u001b[0m\u001b[1;33m\u001b[0m\u001b[0m\n\u001b[1;32m---> 58\u001b[1;33m     tensors = pywrap_tfe.TFE_Py_Execute(ctx._handle, device_name, op_name,\n\u001b[0m\u001b[0;32m     59\u001b[0m                                         inputs, attrs, num_outputs)\n\u001b[0;32m     60\u001b[0m   \u001b[1;32mexcept\u001b[0m \u001b[0mcore\u001b[0m\u001b[1;33m.\u001b[0m\u001b[0m_NotOkStatusException\u001b[0m \u001b[1;32mas\u001b[0m \u001b[0me\u001b[0m\u001b[1;33m:\u001b[0m\u001b[1;33m\u001b[0m\u001b[1;33m\u001b[0m\u001b[0m\n",
      "\u001b[1;31mUnimplementedError\u001b[0m:  Cast string to float is not supported\n\t [[node categorical_crossentropy/Cast\n (defined at C:\\Users\\User\\anaconda3\\lib\\site-packages\\tensorflow\\python\\keras\\losses.py:1668)\n]] [Op:__inference_train_function_48233]\n\nErrors may have originated from an input operation.\nInput Source operations connected to node categorical_crossentropy/Cast:\nIn[0] ExpandDims (defined at C:\\Users\\User\\anaconda3\\lib\\site-packages\\tensorflow\\python\\keras\\engine\\data_adapter.py:1460)\n\nOperation defined at: (most recent call last)\n>>>   File \"C:\\Users\\User\\anaconda3\\lib\\runpy.py\", line 194, in _run_module_as_main\n>>>     return _run_code(code, main_globals, None,\n>>> \n>>>   File \"C:\\Users\\User\\anaconda3\\lib\\runpy.py\", line 87, in _run_code\n>>>     exec(code, run_globals)\n>>> \n>>>   File \"C:\\Users\\User\\anaconda3\\lib\\site-packages\\ipykernel_launcher.py\", line 16, in <module>\n>>>     app.launch_new_instance()\n>>> \n>>>   File \"C:\\Users\\User\\anaconda3\\lib\\site-packages\\traitlets\\config\\application.py\", line 845, in launch_instance\n>>>     app.start()\n>>> \n>>>   File \"C:\\Users\\User\\anaconda3\\lib\\site-packages\\ipykernel\\kernelapp.py\", line 612, in start\n>>>     self.io_loop.start()\n>>> \n>>>   File \"C:\\Users\\User\\anaconda3\\lib\\site-packages\\tornado\\platform\\asyncio.py\", line 199, in start\n>>>     self.asyncio_loop.run_forever()\n>>> \n>>>   File \"C:\\Users\\User\\anaconda3\\lib\\asyncio\\base_events.py\", line 570, in run_forever\n>>>     self._run_once()\n>>> \n>>>   File \"C:\\Users\\User\\anaconda3\\lib\\asyncio\\base_events.py\", line 1859, in _run_once\n>>>     handle._run()\n>>> \n>>>   File \"C:\\Users\\User\\anaconda3\\lib\\asyncio\\events.py\", line 81, in _run\n>>>     self._context.run(self._callback, *self._args)\n>>> \n>>>   File \"C:\\Users\\User\\anaconda3\\lib\\site-packages\\tornado\\ioloop.py\", line 688, in <lambda>\n>>>     lambda f: self._run_callback(functools.partial(callback, future))\n>>> \n>>>   File \"C:\\Users\\User\\anaconda3\\lib\\site-packages\\tornado\\ioloop.py\", line 741, in _run_callback\n>>>     ret = callback()\n>>> \n>>>   File \"C:\\Users\\User\\anaconda3\\lib\\site-packages\\tornado\\gen.py\", line 814, in inner\n>>>     self.ctx_run(self.run)\n>>> \n>>>   File \"C:\\Users\\User\\anaconda3\\lib\\site-packages\\tornado\\gen.py\", line 775, in run\n>>>     yielded = self.gen.send(value)\n>>> \n>>>   File \"C:\\Users\\User\\anaconda3\\lib\\site-packages\\ipykernel\\kernelbase.py\", line 365, in process_one\n>>>     yield gen.maybe_future(dispatch(*args))\n>>> \n>>>   File \"C:\\Users\\User\\anaconda3\\lib\\site-packages\\tornado\\gen.py\", line 234, in wrapper\n>>>     yielded = ctx_run(next, result)\n>>> \n>>>   File \"C:\\Users\\User\\anaconda3\\lib\\site-packages\\ipykernel\\kernelbase.py\", line 268, in dispatch_shell\n>>>     yield gen.maybe_future(handler(stream, idents, msg))\n>>> \n>>>   File \"C:\\Users\\User\\anaconda3\\lib\\site-packages\\tornado\\gen.py\", line 234, in wrapper\n>>>     yielded = ctx_run(next, result)\n>>> \n>>>   File \"C:\\Users\\User\\anaconda3\\lib\\site-packages\\ipykernel\\kernelbase.py\", line 543, in execute_request\n>>>     self.do_execute(\n>>> \n>>>   File \"C:\\Users\\User\\anaconda3\\lib\\site-packages\\tornado\\gen.py\", line 234, in wrapper\n>>>     yielded = ctx_run(next, result)\n>>> \n>>>   File \"C:\\Users\\User\\anaconda3\\lib\\site-packages\\ipykernel\\ipkernel.py\", line 306, in do_execute\n>>>     res = shell.run_cell(code, store_history=store_history, silent=silent)\n>>> \n>>>   File \"C:\\Users\\User\\anaconda3\\lib\\site-packages\\ipykernel\\zmqshell.py\", line 536, in run_cell\n>>>     return super(ZMQInteractiveShell, self).run_cell(*args, **kwargs)\n>>> \n>>>   File \"C:\\Users\\User\\anaconda3\\lib\\site-packages\\IPython\\core\\interactiveshell.py\", line 2894, in run_cell\n>>>     result = self._run_cell(\n>>> \n>>>   File \"C:\\Users\\User\\anaconda3\\lib\\site-packages\\IPython\\core\\interactiveshell.py\", line 2940, in _run_cell\n>>>     return runner(coro)\n>>> \n>>>   File \"C:\\Users\\User\\anaconda3\\lib\\site-packages\\IPython\\core\\async_helpers.py\", line 68, in _pseudo_sync_runner\n>>>     coro.send(None)\n>>> \n>>>   File \"C:\\Users\\User\\anaconda3\\lib\\site-packages\\IPython\\core\\interactiveshell.py\", line 3165, in run_cell_async\n>>>     has_raised = await self.run_ast_nodes(code_ast.body, cell_name,\n>>> \n>>>   File \"C:\\Users\\User\\anaconda3\\lib\\site-packages\\IPython\\core\\interactiveshell.py\", line 3357, in run_ast_nodes\n>>>     if (await self.run_code(code, result,  async_=asy)):\n>>> \n>>>   File \"C:\\Users\\User\\anaconda3\\lib\\site-packages\\IPython\\core\\interactiveshell.py\", line 3437, in run_code\n>>>     exec(code_obj, self.user_global_ns, self.user_ns)\n>>> \n>>>   File \"<ipython-input-79-982121f7e5e3>\", line 1, in <module>\n>>>     model.fit(x_train_pad, y_train,\n>>> \n>>>   File \"C:\\Users\\User\\anaconda3\\lib\\site-packages\\tensorflow\\python\\keras\\engine\\training.py\", line 1189, in fit\n>>>     tmp_logs = self.train_function(iterator)\n>>> \n>>>   File \"C:\\Users\\User\\anaconda3\\lib\\site-packages\\tensorflow\\python\\keras\\engine\\training.py\", line 859, in train_function\n>>>     return step_function(self, iterator)\n>>> \n>>>   File \"C:\\Users\\User\\anaconda3\\lib\\site-packages\\tensorflow\\python\\keras\\engine\\training.py\", line 849, in step_function\n>>>     outputs = model.distribute_strategy.run(run_step, args=(data,))\n>>> \n>>>   File \"C:\\Users\\User\\anaconda3\\lib\\site-packages\\tensorflow\\python\\keras\\engine\\training.py\", line 842, in run_step\n>>>     outputs = model.train_step(data)\n>>> \n>>>   File \"C:\\Users\\User\\anaconda3\\lib\\site-packages\\tensorflow\\python\\keras\\engine\\training.py\", line 800, in train_step\n>>>     loss = self.compiled_loss(\n>>> \n>>>   File \"C:\\Users\\User\\anaconda3\\lib\\site-packages\\tensorflow\\python\\keras\\engine\\compile_utils.py\", line 204, in __call__\n>>>     loss_value = loss_obj(y_t, y_p, sample_weight=sw)\n>>> \n>>>   File \"C:\\Users\\User\\anaconda3\\lib\\site-packages\\tensorflow\\python\\keras\\losses.py\", line 155, in __call__\n>>>     losses = call_fn(y_true, y_pred)\n>>> \n>>>   File \"C:\\Users\\User\\anaconda3\\lib\\site-packages\\tensorflow\\python\\keras\\losses.py\", line 259, in call\n>>>     return ag_fn(y_true, y_pred, **self._fn_kwargs)\n>>> \n>>>   File \"C:\\Users\\User\\anaconda3\\lib\\site-packages\\tensorflow\\python\\keras\\losses.py\", line 1668, in categorical_crossentropy\n>>>     y_true = math_ops.cast(y_true, y_pred.dtype)\n>>> "
     ]
    }
   ],
   "source": [
    "model.fit(x_train_pad, y_train,\n",
    "          validation_split=0.05, epochs=3, batch_size=64)"
   ]
  },
  {
   "cell_type": "markdown",
   "id": "cf5ea77b",
   "metadata": {},
   "source": [
    "# BiLSTM"
   ]
  },
  {
   "cell_type": "code",
   "execution_count": 81,
   "id": "f3ba2334",
   "metadata": {},
   "outputs": [
    {
     "ename": "ModuleNotFoundError",
     "evalue": "No module named 'BiLSTM'",
     "output_type": "error",
     "traceback": [
      "\u001b[1;31m---------------------------------------------------------------------------\u001b[0m",
      "\u001b[1;31mModuleNotFoundError\u001b[0m                       Traceback (most recent call last)",
      "\u001b[1;32m<ipython-input-81-6c7dc985185e>\u001b[0m in \u001b[0;36m<module>\u001b[1;34m\u001b[0m\n\u001b[0;32m      2\u001b[0m \u001b[1;32mimport\u001b[0m \u001b[0mnumpy\u001b[0m \u001b[1;32mas\u001b[0m \u001b[0mnp\u001b[0m\u001b[1;33m\u001b[0m\u001b[1;33m\u001b[0m\u001b[0m\n\u001b[0;32m      3\u001b[0m \u001b[1;32mfrom\u001b[0m \u001b[0mgensim\u001b[0m\u001b[1;33m.\u001b[0m\u001b[0mmodels\u001b[0m \u001b[1;32mimport\u001b[0m \u001b[0mKeyedVectors\u001b[0m\u001b[1;33m\u001b[0m\u001b[1;33m\u001b[0m\u001b[0m\n\u001b[1;32m----> 4\u001b[1;33m \u001b[1;32mfrom\u001b[0m \u001b[0mBiLSTM\u001b[0m\u001b[1;33m.\u001b[0m\u001b[0mfeature_extract\u001b[0m \u001b[1;32mimport\u001b[0m \u001b[0mfeatur_extract\u001b[0m\u001b[1;33m\u001b[0m\u001b[1;33m\u001b[0m\u001b[0m\n\u001b[0m\u001b[0;32m      5\u001b[0m \u001b[1;32mimport\u001b[0m \u001b[0mwarnings\u001b[0m\u001b[1;33m\u001b[0m\u001b[1;33m\u001b[0m\u001b[0m\n\u001b[0;32m      6\u001b[0m \u001b[0mwarnings\u001b[0m\u001b[1;33m.\u001b[0m\u001b[0mfilterwar\u001b[0m\u001b[1;33m\u001b[0m\u001b[1;33m\u001b[0m\u001b[0m\n",
      "\u001b[1;31mModuleNotFoundError\u001b[0m: No module named 'BiLSTM'"
     ]
    }
   ],
   "source": [
    "\n",
    "import re \n",
    "import numpy as np\n",
    "from gensim.models import KeyedVectors\n",
    "from BiLSTM.feature_extract import featur_extract\n",
    "import warnings\n",
    "warnings.filterwar"
   ]
  },
  {
   "cell_type": "code",
   "execution_count": null,
   "id": "62658417",
   "metadata": {},
   "outputs": [],
   "source": []
  }
 ],
 "metadata": {
  "kernelspec": {
   "display_name": "Python 3",
   "language": "python",
   "name": "python3"
  },
  "language_info": {
   "codemirror_mode": {
    "name": "ipython",
    "version": 3
   },
   "file_extension": ".py",
   "mimetype": "text/x-python",
   "name": "python",
   "nbconvert_exporter": "python",
   "pygments_lexer": "ipython3",
   "version": "3.8.8"
  }
 },
 "nbformat": 4,
 "nbformat_minor": 5
}
