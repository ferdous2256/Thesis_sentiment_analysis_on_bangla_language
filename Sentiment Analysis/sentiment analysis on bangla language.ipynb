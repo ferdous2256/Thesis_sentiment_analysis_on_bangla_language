{
 "cells": [
  {
   "cell_type": "code",
   "execution_count": 1,
   "id": "f04e5ec1",
   "metadata": {},
   "outputs": [],
   "source": [
    "import pandas as pd\n",
    "import numpy as np\n",
    "import matplotlib.pyplot as plt\n",
    "%matplotlib inline\n",
    "import seaborn as sns\n",
    "\n",
    "import re\n",
    "import string\n",
    "from wordcloud import WordCloud\n",
    "\n",
    "import nltk\n",
    "from nltk.corpus import stopwords\n",
    "from nltk.stem import PorterStemmer\n",
    "from nltk.tokenize import sent_tokenize, word_tokenize\n",
    "from nltk.stem.wordnet import WordNetLemmatizer\n",
    "\n",
    "from sklearn.model_selection import train_test_split\n",
    "from sklearn.pipeline import Pipeline\n",
    "from sklearn.feature_extraction.text import CountVectorizer, TfidfTransformer\n",
    "\n",
    "from sklearn.linear_model import LogisticRegression\n",
    "from sklearn.naive_bayes import MultinomialNB\n",
    "from sklearn.linear_model import SGDClassifier\n",
    "from sklearn.ensemble import RandomForestClassifier\n",
    "from sklearn.metrics import confusion_matrix, accuracy_score, classification_report"
   ]
  },
  {
   "cell_type": "code",
   "execution_count": 2,
   "id": "7e20f92c",
   "metadata": {},
   "outputs": [
    {
     "data": {
      "text/html": [
       "<div>\n",
       "<style scoped>\n",
       "    .dataframe tbody tr th:only-of-type {\n",
       "        vertical-align: middle;\n",
       "    }\n",
       "\n",
       "    .dataframe tbody tr th {\n",
       "        vertical-align: top;\n",
       "    }\n",
       "\n",
       "    .dataframe thead th {\n",
       "        text-align: right;\n",
       "    }\n",
       "</style>\n",
       "<table border=\"1\" class=\"dataframe\">\n",
       "  <thead>\n",
       "    <tr style=\"text-align: right;\">\n",
       "      <th></th>\n",
       "      <th>review</th>\n",
       "      <th>Recommended IND</th>\n",
       "    </tr>\n",
       "  </thead>\n",
       "  <tbody>\n",
       "    <tr>\n",
       "      <th>0</th>\n",
       "      <td>ছাপ্পান্ন হাজার বর্গমাইল রাজ্যজুড়ে আজ কেবল বি...</td>\n",
       "      <td>sad</td>\n",
       "    </tr>\n",
       "    <tr>\n",
       "      <th>1</th>\n",
       "      <td>সাকিব ভাই আপনি একজন জ্ঞানী মানুষ আপনার কাছে এম...</td>\n",
       "      <td>angry</td>\n",
       "    </tr>\n",
       "    <tr>\n",
       "      <th>2</th>\n",
       "      <td>হাজার বছরের শেষ্ট বাঙালী জাতীর জনক ব্ঙ্গবন্ধু ...</td>\n",
       "      <td>happy</td>\n",
       "    </tr>\n",
       "    <tr>\n",
       "      <th>3</th>\n",
       "      <td>স্বাধীন বাংলাদেশের স্বপতিজাতির জনক বঙ্গবন্ধু শ...</td>\n",
       "      <td>sad</td>\n",
       "    </tr>\n",
       "    <tr>\n",
       "      <th>4</th>\n",
       "      <td>ঝরেনি সেদিন কৃষ্ণচুড়াঝরেছে পিতার রক্তআগষ্ট শো...</td>\n",
       "      <td>sad</td>\n",
       "    </tr>\n",
       "  </tbody>\n",
       "</table>\n",
       "</div>"
      ],
      "text/plain": [
       "                                              review Recommended IND\n",
       "0  ছাপ্পান্ন হাজার বর্গমাইল রাজ্যজুড়ে আজ কেবল বি...             sad\n",
       "1  সাকিব ভাই আপনি একজন জ্ঞানী মানুষ আপনার কাছে এম...           angry\n",
       "2  হাজার বছরের শেষ্ট বাঙালী জাতীর জনক ব্ঙ্গবন্ধু ...           happy\n",
       "3  স্বাধীন বাংলাদেশের স্বপতিজাতির জনক বঙ্গবন্ধু শ...             sad\n",
       "4  ঝরেনি সেদিন কৃষ্ণচুড়াঝরেছে পিতার রক্তআগষ্ট শো...             sad"
      ]
     },
     "execution_count": 2,
     "metadata": {},
     "output_type": "execute_result"
    }
   ],
   "source": [
    "df = pd.read_csv('data.csv')\n",
    "df.head()"
   ]
  },
  {
   "cell_type": "code",
   "execution_count": 3,
   "id": "a32fb30d",
   "metadata": {},
   "outputs": [
    {
     "name": "stdout",
     "output_type": "stream",
     "text": [
      "                                                 review Recommended IND\n",
      "0     ছাপ্পান্ন হাজার বর্গমাইল রাজ্যজুড়ে আজ কেবল বি...             sad\n",
      "1     সাকিব ভাই আপনি একজন জ্ঞানী মানুষ আপনার কাছে এম...           angry\n",
      "2     হাজার বছরের শেষ্ট বাঙালী জাতীর জনক ব্ঙ্গবন্ধু ...           happy\n",
      "3     স্বাধীন বাংলাদেশের স্বপতিজাতির জনক বঙ্গবন্ধু শ...             sad\n",
      "4     ঝরেনি সেদিন কৃষ্ণচুড়াঝরেছে পিতার রক্তআগষ্ট শো...             sad\n",
      "...                                                 ...             ...\n",
      "2838                         কাটা ছেরে আকাটা ভালো লাগলো           happy\n",
      "2839  আব্বুর ধর্মের বিশ্বাসী মুসলমানদের ঈদের শুভেচ্ছ...       religious\n",
      "2840     ঈদ মোবারক জানানোর সময় তোর এখন হল দিন শেষে শালী         abusive\n",
      "2841  ঈদ বয়ে আনুক সবার জীবনে অনাবিল সুখ শান্তি ও সমৃ...           happy\n",
      "2842             যাক বাবা ঈদ টাই মাটি হয়ে গেলো৷ দুর বাল           angry\n",
      "\n",
      "[2843 rows x 2 columns]\n"
     ]
    }
   ],
   "source": [
    "print(df)"
   ]
  },
  {
   "cell_type": "code",
   "execution_count": 6,
   "id": "957f126e",
   "metadata": {},
   "outputs": [
    {
     "name": "stdout",
     "output_type": "stream",
     "text": [
      "<class 'pandas.core.frame.DataFrame'>\n",
      "RangeIndex: 2843 entries, 0 to 2842\n",
      "Data columns (total 2 columns):\n",
      " #   Column           Non-Null Count  Dtype \n",
      "---  ------           --------------  ----- \n",
      " 0   review           2843 non-null   object\n",
      " 1   Recommended IND  2843 non-null   object\n",
      "dtypes: object(2)\n",
      "memory usage: 44.5+ KB\n"
     ]
    }
   ],
   "source": [
    "df.info()"
   ]
  },
  {
   "cell_type": "code",
   "execution_count": 7,
   "id": "040ed5ad",
   "metadata": {},
   "outputs": [
    {
     "data": {
      "text/plain": [
       "(2843, 2)"
      ]
     },
     "execution_count": 7,
     "metadata": {},
     "output_type": "execute_result"
    }
   ],
   "source": [
    "df.shape"
   ]
  },
  {
   "cell_type": "code",
   "execution_count": 8,
   "id": "4d43b240",
   "metadata": {},
   "outputs": [
    {
     "data": {
      "text/plain": [
       "review             object\n",
       "Recommended IND    object\n",
       "dtype: object"
      ]
     },
     "execution_count": 8,
     "metadata": {},
     "output_type": "execute_result"
    }
   ],
   "source": [
    "#type of variables\n",
    "df.dtypes"
   ]
  },
  {
   "cell_type": "code",
   "execution_count": 9,
   "id": "8be571ed",
   "metadata": {},
   "outputs": [
    {
     "data": {
      "text/plain": [
       "'সাকিব ভাই আপনি একজন জ্ঞানী মানুষ আপনার কাছে এমনটা কথা আশা করি নি জাতির জনক কখনো বঙ্গবন্ধু হতে পারে না'"
      ]
     },
     "execution_count": 9,
     "metadata": {},
     "output_type": "execute_result"
    }
   ],
   "source": [
    "df['review'][1]"
   ]
  },
  {
   "cell_type": "code",
   "execution_count": 10,
   "id": "2460f546",
   "metadata": {},
   "outputs": [
    {
     "data": {
      "text/html": [
       "<div>\n",
       "<style scoped>\n",
       "    .dataframe tbody tr th:only-of-type {\n",
       "        vertical-align: middle;\n",
       "    }\n",
       "\n",
       "    .dataframe tbody tr th {\n",
       "        vertical-align: top;\n",
       "    }\n",
       "\n",
       "    .dataframe thead th {\n",
       "        text-align: right;\n",
       "    }\n",
       "</style>\n",
       "<table border=\"1\" class=\"dataframe\">\n",
       "  <thead>\n",
       "    <tr style=\"text-align: right;\">\n",
       "      <th></th>\n",
       "      <th>review</th>\n",
       "      <th>Recommended IND</th>\n",
       "    </tr>\n",
       "  </thead>\n",
       "  <tbody>\n",
       "    <tr>\n",
       "      <th>0</th>\n",
       "      <td>ছাপ্পান্ন হাজার বর্গমাইল রাজ্যজুড়ে আজ কেবল বি...</td>\n",
       "      <td>sad</td>\n",
       "    </tr>\n",
       "    <tr>\n",
       "      <th>1</th>\n",
       "      <td>সাকিব ভাই আপনি একজন জ্ঞানী মানুষ আপনার কাছে এম...</td>\n",
       "      <td>angry</td>\n",
       "    </tr>\n",
       "    <tr>\n",
       "      <th>2</th>\n",
       "      <td>হাজার বছরের শেষ্ট বাঙালী জাতীর জনক ব্ঙ্গবন্ধু ...</td>\n",
       "      <td>happy</td>\n",
       "    </tr>\n",
       "    <tr>\n",
       "      <th>3</th>\n",
       "      <td>স্বাধীন বাংলাদেশের স্বপতিজাতির জনক বঙ্গবন্ধু শ...</td>\n",
       "      <td>sad</td>\n",
       "    </tr>\n",
       "    <tr>\n",
       "      <th>4</th>\n",
       "      <td>ঝরেনি সেদিন কৃষ্ণচুড়াঝরেছে পিতার রক্তআগষ্ট শো...</td>\n",
       "      <td>sad</td>\n",
       "    </tr>\n",
       "  </tbody>\n",
       "</table>\n",
       "</div>"
      ],
      "text/plain": [
       "                                              review Recommended IND\n",
       "0  ছাপ্পান্ন হাজার বর্গমাইল রাজ্যজুড়ে আজ কেবল বি...             sad\n",
       "1  সাকিব ভাই আপনি একজন জ্ঞানী মানুষ আপনার কাছে এম...           angry\n",
       "2  হাজার বছরের শেষ্ট বাঙালী জাতীর জনক ব্ঙ্গবন্ধু ...           happy\n",
       "3  স্বাধীন বাংলাদেশের স্বপতিজাতির জনক বঙ্গবন্ধু শ...             sad\n",
       "4  ঝরেনি সেদিন কৃষ্ণচুড়াঝরেছে পিতার রক্তআগষ্ট শো...             sad"
      ]
     },
     "execution_count": 10,
     "metadata": {},
     "output_type": "execute_result"
    }
   ],
   "source": [
    "review = df[['review', 'Recommended IND']]\n",
    "review.head()"
   ]
  },
  {
   "cell_type": "code",
   "execution_count": 11,
   "id": "8131448d",
   "metadata": {},
   "outputs": [
    {
     "data": {
      "text/html": [
       "<div>\n",
       "<style scoped>\n",
       "    .dataframe tbody tr th:only-of-type {\n",
       "        vertical-align: middle;\n",
       "    }\n",
       "\n",
       "    .dataframe tbody tr th {\n",
       "        vertical-align: top;\n",
       "    }\n",
       "\n",
       "    .dataframe thead th {\n",
       "        text-align: right;\n",
       "    }\n",
       "</style>\n",
       "<table border=\"1\" class=\"dataframe\">\n",
       "  <thead>\n",
       "    <tr style=\"text-align: right;\">\n",
       "      <th></th>\n",
       "      <th>Review</th>\n",
       "      <th>Recommended</th>\n",
       "    </tr>\n",
       "  </thead>\n",
       "  <tbody>\n",
       "    <tr>\n",
       "      <th>0</th>\n",
       "      <td>ছাপ্পান্ন হাজার বর্গমাইল রাজ্যজুড়ে আজ কেবল বি...</td>\n",
       "      <td>sad</td>\n",
       "    </tr>\n",
       "    <tr>\n",
       "      <th>1</th>\n",
       "      <td>সাকিব ভাই আপনি একজন জ্ঞানী মানুষ আপনার কাছে এম...</td>\n",
       "      <td>angry</td>\n",
       "    </tr>\n",
       "    <tr>\n",
       "      <th>2</th>\n",
       "      <td>হাজার বছরের শেষ্ট বাঙালী জাতীর জনক ব্ঙ্গবন্ধু ...</td>\n",
       "      <td>happy</td>\n",
       "    </tr>\n",
       "    <tr>\n",
       "      <th>3</th>\n",
       "      <td>স্বাধীন বাংলাদেশের স্বপতিজাতির জনক বঙ্গবন্ধু শ...</td>\n",
       "      <td>sad</td>\n",
       "    </tr>\n",
       "    <tr>\n",
       "      <th>4</th>\n",
       "      <td>ঝরেনি সেদিন কৃষ্ণচুড়াঝরেছে পিতার রক্তআগষ্ট শো...</td>\n",
       "      <td>sad</td>\n",
       "    </tr>\n",
       "  </tbody>\n",
       "</table>\n",
       "</div>"
      ],
      "text/plain": [
       "                                              Review Recommended\n",
       "0  ছাপ্পান্ন হাজার বর্গমাইল রাজ্যজুড়ে আজ কেবল বি...         sad\n",
       "1  সাকিব ভাই আপনি একজন জ্ঞানী মানুষ আপনার কাছে এম...       angry\n",
       "2  হাজার বছরের শেষ্ট বাঙালী জাতীর জনক ব্ঙ্গবন্ধু ...       happy\n",
       "3  স্বাধীন বাংলাদেশের স্বপতিজাতির জনক বঙ্গবন্ধু শ...         sad\n",
       "4  ঝরেনি সেদিন কৃষ্ণচুড়াঝরেছে পিতার রক্তআগষ্ট শো...         sad"
      ]
     },
     "execution_count": 11,
     "metadata": {},
     "output_type": "execute_result"
    }
   ],
   "source": [
    "#columns rename\n",
    "review = review.rename(columns={\"Recommended IND\": \"Recommended\", \"review\": \"Review\"})\n",
    "review.head()"
   ]
  },
  {
   "cell_type": "code",
   "execution_count": 12,
   "id": "77eb12d6",
   "metadata": {},
   "outputs": [
    {
     "data": {
      "text/plain": [
       "Review         0\n",
       "Recommended    0\n",
       "dtype: int64"
      ]
     },
     "execution_count": 12,
     "metadata": {},
     "output_type": "execute_result"
    }
   ],
   "source": [
    "review.isnull().sum()"
   ]
  },
  {
   "cell_type": "code",
   "execution_count": 13,
   "id": "fc0495ec",
   "metadata": {},
   "outputs": [],
   "source": [
    "review.dropna(subset=['Review'], inplace=True)"
   ]
  },
  {
   "cell_type": "code",
   "execution_count": 14,
   "id": "2e1990e3",
   "metadata": {},
   "outputs": [
    {
     "data": {
      "text/plain": [
       "Review         0\n",
       "Recommended    0\n",
       "dtype: int64"
      ]
     },
     "execution_count": 14,
     "metadata": {},
     "output_type": "execute_result"
    }
   ],
   "source": [
    "review.isnull().sum()"
   ]
  },
  {
   "cell_type": "code",
   "execution_count": 15,
   "id": "56e77626",
   "metadata": {},
   "outputs": [],
   "source": [
    "review['Review'] = review['Review'].astype(str)"
   ]
  },
  {
   "cell_type": "code",
   "execution_count": 16,
   "id": "eed246a3",
   "metadata": {},
   "outputs": [
    {
     "data": {
      "text/plain": [
       "(2843, 2)"
      ]
     },
     "execution_count": 16,
     "metadata": {},
     "output_type": "execute_result"
    }
   ],
   "source": [
    "review.shape"
   ]
  },
  {
   "cell_type": "code",
   "execution_count": 17,
   "id": "42333e16",
   "metadata": {},
   "outputs": [
    {
     "data": {
      "text/plain": [
       "happy        1005\n",
       "excited       638\n",
       "sad           467\n",
       "angry         399\n",
       "abusive       195\n",
       "surprised      84\n",
       "religious      55\n",
       "Name: Recommended, dtype: int64"
      ]
     },
     "execution_count": 17,
     "metadata": {},
     "output_type": "execute_result"
    }
   ],
   "source": [
    "review['Recommended'].value_counts()"
   ]
  },
  {
   "cell_type": "code",
   "execution_count": 18,
   "id": "20f48c48",
   "metadata": {},
   "outputs": [
    {
     "data": {
      "text/plain": [
       "Text(0.5, 1.0, 'Proportion Target Class')"
      ]
     },
     "execution_count": 18,
     "metadata": {},
     "output_type": "execute_result"
    },
    {
     "data": {
      "image/png": "[encoded data removed]",
      "text/plain": [
       "<Figure size 432x288 with 1 Axes>"
      ]
     },
     "metadata": {
      "needs_background": "light"
     },
     "output_type": "display_data"
    }
   ],
   "source": [
    "review[\"Recommended\"].value_counts().plot(kind='bar')\n",
    "plt.xlabel(\"Recommended\")\n",
    "plt.ylabel(\"Counts\")\n",
    "plt.title(\"Proportion Target Class\")"
   ]
  },
  {
   "cell_type": "code",
   "execution_count": 19,
   "id": "00f8fad0",
   "metadata": {},
   "outputs": [],
   "source": [
    "def tokens(words):\n",
    "    words = re.sub(\"[^a-zA-Z]\",\" \", words)\n",
    "    text = words.lower().split()                   \n",
    "    return \" \".join(text)"
   ]
  },
  {
   "cell_type": "code",
   "execution_count": 20,
   "id": "c165a76e",
   "metadata": {},
   "outputs": [
    {
     "data": {
      "text/html": [
       "<div>\n",
       "<style scoped>\n",
       "    .dataframe tbody tr th:only-of-type {\n",
       "        vertical-align: middle;\n",
       "    }\n",
       "\n",
       "    .dataframe tbody tr th {\n",
       "        vertical-align: top;\n",
       "    }\n",
       "\n",
       "    .dataframe thead th {\n",
       "        text-align: right;\n",
       "    }\n",
       "</style>\n",
       "<table border=\"1\" class=\"dataframe\">\n",
       "  <thead>\n",
       "    <tr style=\"text-align: right;\">\n",
       "      <th></th>\n",
       "      <th>Review</th>\n",
       "      <th>Recommended</th>\n",
       "      <th>Review_clear</th>\n",
       "    </tr>\n",
       "  </thead>\n",
       "  <tbody>\n",
       "    <tr>\n",
       "      <th>0</th>\n",
       "      <td>ছাপ্পান্ন হাজার বর্গমাইল রাজ্যজুড়ে আজ কেবল বি...</td>\n",
       "      <td>sad</td>\n",
       "      <td></td>\n",
       "    </tr>\n",
       "    <tr>\n",
       "      <th>1</th>\n",
       "      <td>সাকিব ভাই আপনি একজন জ্ঞানী মানুষ আপনার কাছে এম...</td>\n",
       "      <td>angry</td>\n",
       "      <td></td>\n",
       "    </tr>\n",
       "    <tr>\n",
       "      <th>2</th>\n",
       "      <td>হাজার বছরের শেষ্ট বাঙালী জাতীর জনক ব্ঙ্গবন্ধু ...</td>\n",
       "      <td>happy</td>\n",
       "      <td></td>\n",
       "    </tr>\n",
       "    <tr>\n",
       "      <th>3</th>\n",
       "      <td>স্বাধীন বাংলাদেশের স্বপতিজাতির জনক বঙ্গবন্ধু শ...</td>\n",
       "      <td>sad</td>\n",
       "      <td></td>\n",
       "    </tr>\n",
       "    <tr>\n",
       "      <th>4</th>\n",
       "      <td>ঝরেনি সেদিন কৃষ্ণচুড়াঝরেছে পিতার রক্তআগষ্ট শো...</td>\n",
       "      <td>sad</td>\n",
       "      <td></td>\n",
       "    </tr>\n",
       "  </tbody>\n",
       "</table>\n",
       "</div>"
      ],
      "text/plain": [
       "                                              Review Recommended Review_clear\n",
       "0  ছাপ্পান্ন হাজার বর্গমাইল রাজ্যজুড়ে আজ কেবল বি...         sad             \n",
       "1  সাকিব ভাই আপনি একজন জ্ঞানী মানুষ আপনার কাছে এম...       angry             \n",
       "2  হাজার বছরের শেষ্ট বাঙালী জাতীর জনক ব্ঙ্গবন্ধু ...       happy             \n",
       "3  স্বাধীন বাংলাদেশের স্বপতিজাতির জনক বঙ্গবন্ধু শ...         sad             \n",
       "4  ঝরেনি সেদিন কৃষ্ণচুড়াঝরেছে পিতার রক্তআগষ্ট শো...         sad             "
      ]
     },
     "execution_count": 20,
     "metadata": {},
     "output_type": "execute_result"
    }
   ],
   "source": [
    "review['Review_clear'] = review['Review'].apply(tokens)\n",
    "review.head()"
   ]
  },
  {
   "cell_type": "code",
   "execution_count": 21,
   "id": "13e5cb08",
   "metadata": {},
   "outputs": [],
   "source": [
    "review['Review_clear'] = review['Review_clear'].astype(str)"
   ]
  },
  {
   "cell_type": "code",
   "execution_count": 22,
   "id": "c38e2325",
   "metadata": {},
   "outputs": [
    {
     "name": "stdout",
     "output_type": "stream",
     "text": [
      "['i', \"you've\", 'himself', 'they', 'that', 'been', 'a', 'while', 'through', 'in', 'here', 'few', 'own', 'just', 're', 'doesn', 'ma', \"shouldn't\"]\n"
     ]
    }
   ],
   "source": [
    "# Show some stop words\n",
    "stop_words = stopwords.words('english')\n",
    "print(stop_words[::10])"
   ]
  },
  {
   "cell_type": "code",
   "execution_count": 23,
   "id": "3f6558c1",
   "metadata": {},
   "outputs": [],
   "source": [
    "#clothing stopwords\n",
    "clothes =['dress','color','wear','top','sweater','material','shirt','jeans','pant',\n",
    "          'skirt','order','white','black','fabric','blouse','sleeve','even', 'jacket']"
   ]
  },
  {
   "cell_type": "code",
   "execution_count": 24,
   "id": "45247210",
   "metadata": {},
   "outputs": [],
   "source": [
    "def stopwords(review):\n",
    "    text = [word.lower() for word in review.split() if word.lower() not in stop_words and word.lower() not in clothes]\n",
    "    return \" \".join(text)"
   ]
  },
  {
   "cell_type": "code",
   "execution_count": 25,
   "id": "5652efbb",
   "metadata": {},
   "outputs": [
    {
     "data": {
      "text/html": [
       "<div>\n",
       "<style scoped>\n",
       "    .dataframe tbody tr th:only-of-type {\n",
       "        vertical-align: middle;\n",
       "    }\n",
       "\n",
       "    .dataframe tbody tr th {\n",
       "        vertical-align: top;\n",
       "    }\n",
       "\n",
       "    .dataframe thead th {\n",
       "        text-align: right;\n",
       "    }\n",
       "</style>\n",
       "<table border=\"1\" class=\"dataframe\">\n",
       "  <thead>\n",
       "    <tr style=\"text-align: right;\">\n",
       "      <th></th>\n",
       "      <th>Review</th>\n",
       "      <th>Recommended</th>\n",
       "      <th>Review_clear</th>\n",
       "    </tr>\n",
       "  </thead>\n",
       "  <tbody>\n",
       "    <tr>\n",
       "      <th>0</th>\n",
       "      <td>ছাপ্পান্ন হাজার বর্গমাইল রাজ্যজুড়ে আজ কেবল বি...</td>\n",
       "      <td>sad</td>\n",
       "      <td></td>\n",
       "    </tr>\n",
       "    <tr>\n",
       "      <th>1</th>\n",
       "      <td>সাকিব ভাই আপনি একজন জ্ঞানী মানুষ আপনার কাছে এম...</td>\n",
       "      <td>angry</td>\n",
       "      <td></td>\n",
       "    </tr>\n",
       "    <tr>\n",
       "      <th>2</th>\n",
       "      <td>হাজার বছরের শেষ্ট বাঙালী জাতীর জনক ব্ঙ্গবন্ধু ...</td>\n",
       "      <td>happy</td>\n",
       "      <td></td>\n",
       "    </tr>\n",
       "    <tr>\n",
       "      <th>3</th>\n",
       "      <td>স্বাধীন বাংলাদেশের স্বপতিজাতির জনক বঙ্গবন্ধু শ...</td>\n",
       "      <td>sad</td>\n",
       "      <td></td>\n",
       "    </tr>\n",
       "    <tr>\n",
       "      <th>4</th>\n",
       "      <td>ঝরেনি সেদিন কৃষ্ণচুড়াঝরেছে পিতার রক্তআগষ্ট শো...</td>\n",
       "      <td>sad</td>\n",
       "      <td></td>\n",
       "    </tr>\n",
       "  </tbody>\n",
       "</table>\n",
       "</div>"
      ],
      "text/plain": [
       "                                              Review Recommended Review_clear\n",
       "0  ছাপ্পান্ন হাজার বর্গমাইল রাজ্যজুড়ে আজ কেবল বি...         sad             \n",
       "1  সাকিব ভাই আপনি একজন জ্ঞানী মানুষ আপনার কাছে এম...       angry             \n",
       "2  হাজার বছরের শেষ্ট বাঙালী জাতীর জনক ব্ঙ্গবন্ধু ...       happy             \n",
       "3  স্বাধীন বাংলাদেশের স্বপতিজাতির জনক বঙ্গবন্ধু শ...         sad             \n",
       "4  ঝরেনি সেদিন কৃষ্ণচুড়াঝরেছে পিতার রক্তআগষ্ট শো...         sad             "
      ]
     },
     "execution_count": 25,
     "metadata": {},
     "output_type": "execute_result"
    }
   ],
   "source": [
    "review['Review_clear'] = review['Review_clear'].apply(stopwords)\n",
    "review.head()"
   ]
  },
  {
   "cell_type": "code",
   "execution_count": 26,
   "id": "ea933d0e",
   "metadata": {},
   "outputs": [
    {
     "data": {
      "text/plain": [
       "''"
      ]
     },
     "execution_count": 26,
     "metadata": {},
     "output_type": "execute_result"
    }
   ],
   "source": [
    "review['Review_clear'][39]"
   ]
  },
  {
   "cell_type": "code",
   "execution_count": 27,
   "id": "f9e9bf9f",
   "metadata": {},
   "outputs": [],
   "source": [
    "def numbers(text):\n",
    "    new_text = []\n",
    "    for word in text.split():\n",
    "        if not re.search('\\d', word):\n",
    "            new_text.append(word)\n",
    "    return ' '.join(new_text)    "
   ]
  },
  {
   "cell_type": "code",
   "execution_count": 28,
   "id": "85fd721d",
   "metadata": {},
   "outputs": [
    {
     "data": {
      "text/html": [
       "<div>\n",
       "<style scoped>\n",
       "    .dataframe tbody tr th:only-of-type {\n",
       "        vertical-align: middle;\n",
       "    }\n",
       "\n",
       "    .dataframe tbody tr th {\n",
       "        vertical-align: top;\n",
       "    }\n",
       "\n",
       "    .dataframe thead th {\n",
       "        text-align: right;\n",
       "    }\n",
       "</style>\n",
       "<table border=\"1\" class=\"dataframe\">\n",
       "  <thead>\n",
       "    <tr style=\"text-align: right;\">\n",
       "      <th></th>\n",
       "      <th>Review</th>\n",
       "      <th>Recommended</th>\n",
       "      <th>Review_clear</th>\n",
       "    </tr>\n",
       "  </thead>\n",
       "  <tbody>\n",
       "    <tr>\n",
       "      <th>0</th>\n",
       "      <td>ছাপ্পান্ন হাজার বর্গমাইল রাজ্যজুড়ে আজ কেবল বি...</td>\n",
       "      <td>sad</td>\n",
       "      <td></td>\n",
       "    </tr>\n",
       "    <tr>\n",
       "      <th>1</th>\n",
       "      <td>সাকিব ভাই আপনি একজন জ্ঞানী মানুষ আপনার কাছে এম...</td>\n",
       "      <td>angry</td>\n",
       "      <td></td>\n",
       "    </tr>\n",
       "    <tr>\n",
       "      <th>2</th>\n",
       "      <td>হাজার বছরের শেষ্ট বাঙালী জাতীর জনক ব্ঙ্গবন্ধু ...</td>\n",
       "      <td>happy</td>\n",
       "      <td></td>\n",
       "    </tr>\n",
       "    <tr>\n",
       "      <th>3</th>\n",
       "      <td>স্বাধীন বাংলাদেশের স্বপতিজাতির জনক বঙ্গবন্ধু শ...</td>\n",
       "      <td>sad</td>\n",
       "      <td></td>\n",
       "    </tr>\n",
       "    <tr>\n",
       "      <th>4</th>\n",
       "      <td>ঝরেনি সেদিন কৃষ্ণচুড়াঝরেছে পিতার রক্তআগষ্ট শো...</td>\n",
       "      <td>sad</td>\n",
       "      <td></td>\n",
       "    </tr>\n",
       "  </tbody>\n",
       "</table>\n",
       "</div>"
      ],
      "text/plain": [
       "                                              Review Recommended Review_clear\n",
       "0  ছাপ্পান্ন হাজার বর্গমাইল রাজ্যজুড়ে আজ কেবল বি...         sad             \n",
       "1  সাকিব ভাই আপনি একজন জ্ঞানী মানুষ আপনার কাছে এম...       angry             \n",
       "2  হাজার বছরের শেষ্ট বাঙালী জাতীর জনক ব্ঙ্গবন্ধু ...       happy             \n",
       "3  স্বাধীন বাংলাদেশের স্বপতিজাতির জনক বঙ্গবন্ধু শ...         sad             \n",
       "4  ঝরেনি সেদিন কৃষ্ণচুড়াঝরেছে পিতার রক্তআগষ্ট শো...         sad             "
      ]
     },
     "execution_count": 28,
     "metadata": {},
     "output_type": "execute_result"
    }
   ],
   "source": [
    "review['Review_clear'] = review['Review_clear'].apply(numbers)\n",
    "review.head()"
   ]
  },
  {
   "cell_type": "code",
   "execution_count": 29,
   "id": "e7b5d6ee",
   "metadata": {},
   "outputs": [
    {
     "data": {
      "text/plain": [
       "''"
      ]
     },
     "execution_count": 29,
     "metadata": {},
     "output_type": "execute_result"
    }
   ],
   "source": [
    "review['Review_clear'][39]"
   ]
  },
  {
   "cell_type": "code",
   "execution_count": 30,
   "id": "8a432333",
   "metadata": {},
   "outputs": [],
   "source": [
    "lem = WordNetLemmatizer()\n",
    "\n",
    "def lemma(text):\n",
    "    lem_text = [lem.lemmatize(word) for word in text.split()]\n",
    "    return \" \".join(lem_text)"
   ]
  },
  {
   "cell_type": "code",
   "execution_count": 31,
   "id": "8a1c6e54",
   "metadata": {},
   "outputs": [
    {
     "name": "stderr",
     "output_type": "stream",
     "text": [
      "[nltk_data] Downloading package wordnet to\n",
      "[nltk_data]     C:\\Users\\User\\AppData\\Roaming\\nltk_data...\n",
      "[nltk_data]   Package wordnet is already up-to-date!\n"
     ]
    },
    {
     "data": {
      "text/plain": [
       "True"
      ]
     },
     "execution_count": 31,
     "metadata": {},
     "output_type": "execute_result"
    }
   ],
   "source": [
    "import nltk\n",
    "nltk.download('wordnet')"
   ]
  },
  {
   "cell_type": "code",
   "execution_count": 32,
   "id": "59f3f4b3",
   "metadata": {},
   "outputs": [
    {
     "data": {
      "text/html": [
       "<div>\n",
       "<style scoped>\n",
       "    .dataframe tbody tr th:only-of-type {\n",
       "        vertical-align: middle;\n",
       "    }\n",
       "\n",
       "    .dataframe tbody tr th {\n",
       "        vertical-align: top;\n",
       "    }\n",
       "\n",
       "    .dataframe thead th {\n",
       "        text-align: right;\n",
       "    }\n",
       "</style>\n",
       "<table border=\"1\" class=\"dataframe\">\n",
       "  <thead>\n",
       "    <tr style=\"text-align: right;\">\n",
       "      <th></th>\n",
       "      <th>Review</th>\n",
       "      <th>Recommended</th>\n",
       "      <th>Review_clear</th>\n",
       "    </tr>\n",
       "  </thead>\n",
       "  <tbody>\n",
       "    <tr>\n",
       "      <th>0</th>\n",
       "      <td>ছাপ্পান্ন হাজার বর্গমাইল রাজ্যজুড়ে আজ কেবল বি...</td>\n",
       "      <td>sad</td>\n",
       "      <td></td>\n",
       "    </tr>\n",
       "    <tr>\n",
       "      <th>1</th>\n",
       "      <td>সাকিব ভাই আপনি একজন জ্ঞানী মানুষ আপনার কাছে এম...</td>\n",
       "      <td>angry</td>\n",
       "      <td></td>\n",
       "    </tr>\n",
       "    <tr>\n",
       "      <th>2</th>\n",
       "      <td>হাজার বছরের শেষ্ট বাঙালী জাতীর জনক ব্ঙ্গবন্ধু ...</td>\n",
       "      <td>happy</td>\n",
       "      <td></td>\n",
       "    </tr>\n",
       "    <tr>\n",
       "      <th>3</th>\n",
       "      <td>স্বাধীন বাংলাদেশের স্বপতিজাতির জনক বঙ্গবন্ধু শ...</td>\n",
       "      <td>sad</td>\n",
       "      <td></td>\n",
       "    </tr>\n",
       "    <tr>\n",
       "      <th>4</th>\n",
       "      <td>ঝরেনি সেদিন কৃষ্ণচুড়াঝরেছে পিতার রক্তআগষ্ট শো...</td>\n",
       "      <td>sad</td>\n",
       "      <td></td>\n",
       "    </tr>\n",
       "  </tbody>\n",
       "</table>\n",
       "</div>"
      ],
      "text/plain": [
       "                                              Review Recommended Review_clear\n",
       "0  ছাপ্পান্ন হাজার বর্গমাইল রাজ্যজুড়ে আজ কেবল বি...         sad             \n",
       "1  সাকিব ভাই আপনি একজন জ্ঞানী মানুষ আপনার কাছে এম...       angry             \n",
       "2  হাজার বছরের শেষ্ট বাঙালী জাতীর জনক ব্ঙ্গবন্ধু ...       happy             \n",
       "3  স্বাধীন বাংলাদেশের স্বপতিজাতির জনক বঙ্গবন্ধু শ...         sad             \n",
       "4  ঝরেনি সেদিন কৃষ্ণচুড়াঝরেছে পিতার রক্তআগষ্ট শো...         sad             "
      ]
     },
     "execution_count": 32,
     "metadata": {},
     "output_type": "execute_result"
    }
   ],
   "source": [
    "review['Review_clear'] = review['Review_clear'].apply(lemma)\n",
    "review.head()"
   ]
  },
  {
   "cell_type": "code",
   "execution_count": 33,
   "id": "e21882b1",
   "metadata": {},
   "outputs": [
    {
     "data": {
      "text/plain": [
       "''"
      ]
     },
     "execution_count": 33,
     "metadata": {},
     "output_type": "execute_result"
    }
   ],
   "source": [
    "review['Review_clear'][1]"
   ]
  },
  {
   "cell_type": "code",
   "execution_count": 34,
   "id": "772ec5fd",
   "metadata": {},
   "outputs": [],
   "source": [
    "ex = review[review.Recommended== \"excited\"]\n",
    "hp = review[review.Recommended== \"happy\"]\n",
    "m_r = review[review.Recommended== \"religious\"]\n",
    "r = review[review.Recommended== \"surprised\"]\n",
    "n = review[review.Recommended== \"sad\"]\n",
    "n_r = review[review.Recommended== \"abusive\"]\n",
    "m_n_r = review[review.Recommended== \"angry\"]"
   ]
  },
  {
   "cell_type": "code",
   "execution_count": 35,
   "id": "1be82974",
   "metadata": {},
   "outputs": [
    {
     "data": {
      "text/html": [
       "<div>\n",
       "<style scoped>\n",
       "    .dataframe tbody tr th:only-of-type {\n",
       "        vertical-align: middle;\n",
       "    }\n",
       "\n",
       "    .dataframe tbody tr th {\n",
       "        vertical-align: top;\n",
       "    }\n",
       "\n",
       "    .dataframe thead th {\n",
       "        text-align: right;\n",
       "    }\n",
       "</style>\n",
       "<table border=\"1\" class=\"dataframe\">\n",
       "  <thead>\n",
       "    <tr style=\"text-align: right;\">\n",
       "      <th></th>\n",
       "      <th>Review</th>\n",
       "      <th>Recommended</th>\n",
       "      <th>Review_clear</th>\n",
       "    </tr>\n",
       "  </thead>\n",
       "  <tbody>\n",
       "    <tr>\n",
       "      <th>108</th>\n",
       "      <td>তুমি বরং বাবা কলকাতায় গিয়ে পুজো উদ্বোধন করো ...</td>\n",
       "      <td>religious</td>\n",
       "      <td></td>\n",
       "    </tr>\n",
       "    <tr>\n",
       "      <th>114</th>\n",
       "      <td>মনেহয় আপনার উপর কালি মাতার অভিশাপ লেগে গেছে বল...</td>\n",
       "      <td>religious</td>\n",
       "      <td></td>\n",
       "    </tr>\n",
       "    <tr>\n",
       "      <th>128</th>\n",
       "      <td>তুমি সাকিব আর আগের সাকিব নেই আস্তিক থেকে নাস্তিক</td>\n",
       "      <td>religious</td>\n",
       "      <td></td>\n",
       "    </tr>\n",
       "    <tr>\n",
       "      <th>147</th>\n",
       "      <td>কোন অমুসলিমের মৃত্যুতে বলাটা অযোক্তিক তাই পরবর...</td>\n",
       "      <td>religious</td>\n",
       "      <td></td>\n",
       "    </tr>\n",
       "    <tr>\n",
       "      <th>148</th>\n",
       "      <td>কিছু জান্নাতের টিকিটধারী আসবে ফতোয়া দেয়ার জন্য...</td>\n",
       "      <td>religious</td>\n",
       "      <td></td>\n",
       "    </tr>\n",
       "  </tbody>\n",
       "</table>\n",
       "</div>"
      ],
      "text/plain": [
       "                                                Review Recommended  \\\n",
       "108  তুমি বরং বাবা কলকাতায় গিয়ে পুজো উদ্বোধন করো ...   religious   \n",
       "114  মনেহয় আপনার উপর কালি মাতার অভিশাপ লেগে গেছে বল...   religious   \n",
       "128   তুমি সাকিব আর আগের সাকিব নেই আস্তিক থেকে নাস্তিক   religious   \n",
       "147  কোন অমুসলিমের মৃত্যুতে বলাটা অযোক্তিক তাই পরবর...   religious   \n",
       "148  কিছু জান্নাতের টিকিটধারী আসবে ফতোয়া দেয়ার জন্য...   religious   \n",
       "\n",
       "    Review_clear  \n",
       "108               \n",
       "114               \n",
       "128               \n",
       "147               \n",
       "148               "
      ]
     },
     "execution_count": 35,
     "metadata": {},
     "output_type": "execute_result"
    }
   ],
   "source": [
    "m_r.head()"
   ]
  },
  {
   "cell_type": "code",
   "execution_count": 36,
   "id": "f280aece",
   "metadata": {},
   "outputs": [
    {
     "data": {
      "text/html": [
       "<div>\n",
       "<style scoped>\n",
       "    .dataframe tbody tr th:only-of-type {\n",
       "        vertical-align: middle;\n",
       "    }\n",
       "\n",
       "    .dataframe tbody tr th {\n",
       "        vertical-align: top;\n",
       "    }\n",
       "\n",
       "    .dataframe thead th {\n",
       "        text-align: right;\n",
       "    }\n",
       "</style>\n",
       "<table border=\"1\" class=\"dataframe\">\n",
       "  <thead>\n",
       "    <tr style=\"text-align: right;\">\n",
       "      <th></th>\n",
       "      <th>Review</th>\n",
       "      <th>Recommended</th>\n",
       "      <th>Review_clear</th>\n",
       "    </tr>\n",
       "  </thead>\n",
       "  <tbody>\n",
       "    <tr>\n",
       "      <th>6</th>\n",
       "      <td>যদি রাত পোহালে সুনা যেতো বঙ্গবন্ধু মরে নাইইই ত...</td>\n",
       "      <td>abusive</td>\n",
       "      <td></td>\n",
       "    </tr>\n",
       "    <tr>\n",
       "      <th>20</th>\n",
       "      <td>বেশি বেশি করে খান এতো টাকা পয়সা খাইবে কে ভাবির...</td>\n",
       "      <td>abusive</td>\n",
       "      <td></td>\n",
       "    </tr>\n",
       "    <tr>\n",
       "      <th>112</th>\n",
       "      <td>ব্যবসা শেষ মাম্মা এভাবে চলতে থাকলে আইপিএল দূরে...</td>\n",
       "      <td>abusive</td>\n",
       "      <td></td>\n",
       "    </tr>\n",
       "    <tr>\n",
       "      <th>118</th>\n",
       "      <td>সাকিবালের কাহিনী বিসিবি না বুঝলেও অস্ট্রেলিয়া ...</td>\n",
       "      <td>abusive</td>\n",
       "      <td></td>\n",
       "    </tr>\n",
       "    <tr>\n",
       "      <th>146</th>\n",
       "      <td>কিছু উজবুক এখানে ধর্ম জান্নাত জাহান্নাম মারাইত...</td>\n",
       "      <td>abusive</td>\n",
       "      <td></td>\n",
       "    </tr>\n",
       "  </tbody>\n",
       "</table>\n",
       "</div>"
      ],
      "text/plain": [
       "                                                Review Recommended  \\\n",
       "6    যদি রাত পোহালে সুনা যেতো বঙ্গবন্ধু মরে নাইইই ত...     abusive   \n",
       "20   বেশি বেশি করে খান এতো টাকা পয়সা খাইবে কে ভাবির...     abusive   \n",
       "112  ব্যবসা শেষ মাম্মা এভাবে চলতে থাকলে আইপিএল দূরে...     abusive   \n",
       "118  সাকিবালের কাহিনী বিসিবি না বুঝলেও অস্ট্রেলিয়া ...     abusive   \n",
       "146  কিছু উজবুক এখানে ধর্ম জান্নাত জাহান্নাম মারাইত...     abusive   \n",
       "\n",
       "    Review_clear  \n",
       "6                 \n",
       "20                \n",
       "112               \n",
       "118               \n",
       "146               "
      ]
     },
     "execution_count": 36,
     "metadata": {},
     "output_type": "execute_result"
    }
   ],
   "source": [
    "n_r.head()"
   ]
  },
  {
   "cell_type": "code",
   "execution_count": 37,
   "id": "8cf185fd",
   "metadata": {},
   "outputs": [],
   "source": [
    "X = review['Review']\n",
    "y = review['Recommended']\n",
    "\n",
    "X_train, X_test, y_train, y_test = train_test_split(X, y, test_size=0.4, random_state = 0)"
   ]
  },
  {
   "cell_type": "code",
   "execution_count": 38,
   "id": "33111d90",
   "metadata": {},
   "outputs": [
    {
     "data": {
      "text/plain": [
       "455"
      ]
     },
     "execution_count": 38,
     "metadata": {},
     "output_type": "execute_result"
    }
   ],
   "source": [
    "vect = CountVectorizer(min_df=5, ngram_range=(1,2)).fit(X_train)\n",
    "\n",
    "X_train_vectorized = vect.transform(X_train)\n",
    "\n",
    "len(vect.get_feature_names())"
   ]
  },
  {
   "cell_type": "markdown",
   "id": "ec055394",
   "metadata": {},
   "source": [
    "# Logistic Regression"
   ]
  },
  {
   "cell_type": "code",
   "execution_count": 37,
   "id": "375c83b3",
   "metadata": {},
   "outputs": [],
   "source": [
    "model = LogisticRegression()\n",
    "model.fit(X_train_vectorized, y_train)\n",
    "\n",
    "ytest = np.array(y_test)\n",
    "predictions = model.predict(vect.transform(X_test))"
   ]
  },
  {
   "cell_type": "code",
   "execution_count": 38,
   "id": "9cbe9c1b",
   "metadata": {},
   "outputs": [
    {
     "name": "stdout",
     "output_type": "stream",
     "text": [
      "accuracy 0.5606326889279437\n",
      "              precision    recall  f1-score   support\n",
      "\n",
      "     abusive       0.38      0.32      0.35        31\n",
      "       angry       0.32      0.36      0.34        74\n",
      "     excited       0.73      0.71      0.72       136\n",
      "       happy       0.62      0.73      0.67       197\n",
      "   religious       1.00      0.17      0.29        12\n",
      "         sad       0.42      0.35      0.38       102\n",
      "   surprised       0.50      0.18      0.26        17\n",
      "\n",
      "    accuracy                           0.56       569\n",
      "   macro avg       0.57      0.40      0.43       569\n",
      "weighted avg       0.56      0.56      0.55       569\n",
      "\n"
     ]
    }
   ],
   "source": [
    "print('accuracy %s' % accuracy_score(predictions, y_test))\n",
    "print(classification_report(ytest, predictions))"
   ]
  },
  {
   "cell_type": "markdown",
   "id": "4db942ca",
   "metadata": {},
   "source": [
    "# Naive bayes"
   ]
  },
  {
   "cell_type": "code",
   "execution_count": 39,
   "id": "2960f608",
   "metadata": {},
   "outputs": [],
   "source": [
    "model_nb = Pipeline([('vect', CountVectorizer(min_df=5, ngram_range=(1,2))),\n",
    "                   ('tfidf', TfidfTransformer()),\n",
    "                   ('clf',MultinomialNB()),\n",
    "                   ])\n",
    "\n",
    "model_nb.fit(X_train, y_train)\n",
    "\n",
    "ytest = np.array(y_test)\n",
    "pred_y = model_nb.predict(X_test)"
   ]
  },
  {
   "cell_type": "code",
   "execution_count": 40,
   "id": "ee2fef31",
   "metadata": {},
   "outputs": [
    {
     "name": "stdout",
     "output_type": "stream",
     "text": [
      "accuracy 0.5606326889279437\n",
      "              precision    recall  f1-score   support\n",
      "\n",
      "     abusive       0.80      0.13      0.22        31\n",
      "       angry       0.40      0.30      0.34        74\n",
      "     excited       0.74      0.74      0.74       136\n",
      "       happy       0.53      0.85      0.66       197\n",
      "   religious       0.00      0.00      0.00        12\n",
      "         sad       0.43      0.25      0.31       102\n",
      "   surprised       0.00      0.00      0.00        17\n",
      "\n",
      "    accuracy                           0.56       569\n",
      "   macro avg       0.41      0.32      0.32       569\n",
      "weighted avg       0.53      0.56      0.52       569\n",
      "\n"
     ]
    },
    {
     "name": "stderr",
     "output_type": "stream",
     "text": [
      "C:\\Users\\User\\anaconda3\\lib\\site-packages\\sklearn\\metrics\\_classification.py:1245: UndefinedMetricWarning: Precision and F-score are ill-defined and being set to 0.0 in labels with no predicted samples. Use `zero_division` parameter to control this behavior.\n",
      "  _warn_prf(average, modifier, msg_start, len(result))\n",
      "C:\\Users\\User\\anaconda3\\lib\\site-packages\\sklearn\\metrics\\_classification.py:1245: UndefinedMetricWarning: Precision and F-score are ill-defined and being set to 0.0 in labels with no predicted samples. Use `zero_division` parameter to control this behavior.\n",
      "  _warn_prf(average, modifier, msg_start, len(result))\n",
      "C:\\Users\\User\\anaconda3\\lib\\site-packages\\sklearn\\metrics\\_classification.py:1245: UndefinedMetricWarning: Precision and F-score are ill-defined and being set to 0.0 in labels with no predicted samples. Use `zero_division` parameter to control this behavior.\n",
      "  _warn_prf(average, modifier, msg_start, len(result))\n"
     ]
    }
   ],
   "source": [
    "print('accuracy %s' % accuracy_score(pred_y, y_test))\n",
    "print(classification_report(ytest, pred_y))"
   ]
  },
  {
   "cell_type": "markdown",
   "id": "87b80f5e",
   "metadata": {},
   "source": [
    "# Support Vector Machine (SVM)"
   ]
  },
  {
   "cell_type": "code",
   "execution_count": 105,
   "id": "e2e3be0b",
   "metadata": {},
   "outputs": [
    {
     "name": "stdout",
     "output_type": "stream",
     "text": [
      "accuracy 0.5861159929701231\n",
      "              precision    recall  f1-score   support\n",
      "\n",
      "     abusive       0.37      0.15      0.21        73\n",
      "       angry       0.44      0.28      0.34       167\n",
      "     excited       0.68      0.77      0.72       265\n",
      "       happy       0.62      0.83      0.71       400\n",
      "   religious       0.29      0.11      0.15        19\n",
      "         sad       0.44      0.39      0.41       181\n",
      "   surprised       1.00      0.06      0.11        33\n",
      "\n",
      "    accuracy                           0.59      1138\n",
      "   macro avg       0.55      0.37      0.38      1138\n",
      "weighted avg       0.57      0.59      0.55      1138\n",
      "\n"
     ]
    }
   ],
   "source": [
    "model_svm = Pipeline([('vect', CountVectorizer(min_df=3, ngram_range=(1, 2))),\n",
    "                    ('tfidf', TfidfTransformer()),\n",
    "                    ('clf-svm',SGDClassifier(loss='hinge',penalty='l2', alpha=1e-3, random_state=42)),\n",
    "                    ])\n",
    "\n",
    "model_svm.fit(X_train, y_train)\n",
    "\n",
    "ytest = np.array(y_test)\n",
    "y_predict = model_svm.predict(X_test)\n",
    "\n",
    "print('accuracy %s' % accuracy_score(y_predict, y_test))\n",
    "print(classification_report(ytest, y_predict))"
   ]
  },
  {
   "cell_type": "code",
   "execution_count": 52,
   "id": "a2d0fcb5",
   "metadata": {},
   "outputs": [
    {
     "name": "stdout",
     "output_type": "stream",
     "text": [
      "accuracy 0.5852372583479789\n",
      "              precision    recall  f1-score   support\n",
      "\n",
      "     abusive       0.88      0.23      0.36        31\n",
      "       angry       0.37      0.30      0.33        74\n",
      "     excited       0.67      0.77      0.72       136\n",
      "       happy       0.60      0.81      0.69       197\n",
      "   religious       0.50      0.17      0.25        12\n",
      "         sad       0.50      0.34      0.41       102\n",
      "   surprised       0.50      0.12      0.19        17\n",
      "\n",
      "    accuracy                           0.59       569\n",
      "   macro avg       0.57      0.39      0.42       569\n",
      "weighted avg       0.58      0.59      0.56       569\n",
      "\n"
     ]
    }
   ],
   "source": [
    "print('accuracy %s' % accuracy_score(y_predict, y_test))\n",
    "print(classification_report(ytest, y_predict))"
   ]
  },
  {
   "cell_type": "markdown",
   "id": "3046cbd7",
   "metadata": {},
   "source": [
    "# logistic new acrcy"
   ]
  },
  {
   "cell_type": "code",
   "execution_count": 40,
   "id": "51e75e99",
   "metadata": {},
   "outputs": [
    {
     "name": "stdout",
     "output_type": "stream",
     "text": [
      "\n",
      "Logistic Regression\n",
      "Accuracy Score: 57.90861159929701%\n",
      "Confusion Matrix: \n",
      "[[ 12  19   3  23   0  16   0]\n",
      " [ 16  54  15  41   2  38   1]\n",
      " [  2   9 197  46   0  11   0]\n",
      " [  5  20  30 309   0  35   1]\n",
      " [  1   6   1   5   2   4   0]\n",
      " [  5  21  14  56   1  84   0]\n",
      " [  5  11   0  12   0   4   1]]\n",
      "              precision    recall  f1-score   support\n",
      "\n",
      "     abusive       0.26      0.16      0.20        73\n",
      "       angry       0.39      0.32      0.35       167\n",
      "     excited       0.76      0.74      0.75       265\n",
      "       happy       0.63      0.77      0.69       400\n",
      "   religious       0.40      0.11      0.17        19\n",
      "         sad       0.44      0.46      0.45       181\n",
      "   surprised       0.33      0.03      0.06        33\n",
      "\n",
      "    accuracy                           0.58      1138\n",
      "   macro avg       0.46      0.37      0.38      1138\n",
      "weighted avg       0.56      0.58      0.56      1138\n",
      "\n"
     ]
    }
   ],
   "source": [
    "import pandas as pd\n",
    "from sklearn import metrics\n",
    "from sklearn.model_selection import train_test_split\n",
    "from sklearn.feature_extraction.text import CountVectorizer\n",
    "from sklearn.svm import LinearSVC\n",
    "from sklearn.naive_bayes import MultinomialNB\n",
    "from sklearn.linear_model import LogisticRegression\n",
    "from sklearn.neighbors import KNeighborsClassifier\n",
    "\n",
    "LR = LogisticRegression()\n",
    "LR.fit(X_train_dtm, y_train)\n",
    "y_pred = LR.predict(X_test_dtm)\n",
    "print('\\nLogistic Regression')\n",
    "print('Accuracy Score: ',metrics.accuracy_score(y_test,y_pred)*100,'%',sep='')\n",
    "print('Confusion Matrix: ',metrics.confusion_matrix(y_test,y_pred), sep = '\\n')\n",
    "print(classification_report(ytest, y_pred))"
   ]
  },
  {
   "cell_type": "markdown",
   "id": "ae468d67",
   "metadata": {},
   "source": [
    "# Random Forest"
   ]
  },
  {
   "cell_type": "code",
   "execution_count": 101,
   "id": "346885e6",
   "metadata": {},
   "outputs": [],
   "source": [
    "model_rf = Pipeline([('vect', CountVectorizer(min_df=5, ngram_range=(1,2))),\n",
    "                    ('tfidf', TfidfTransformer()),\n",
    "                    ('clf-rf', RandomForestClassifier(n_estimators=50)),\n",
    "                    ])\n",
    "\n",
    "model_rf.fit(X_train, y_train)\n",
    "\n",
    "ytest = np.array(y_test)\n",
    "pred = model_rf.predict(X_test)"
   ]
  },
  {
   "cell_type": "code",
   "execution_count": 102,
   "id": "303eb0a0",
   "metadata": {},
   "outputs": [
    {
     "name": "stdout",
     "output_type": "stream",
     "text": [
      "accuracy 0.5746924428822495\n",
      "              precision    recall  f1-score   support\n",
      "\n",
      "     abusive       0.36      0.26      0.30        31\n",
      "       angry       0.40      0.34      0.37        74\n",
      "     excited       0.71      0.76      0.73       136\n",
      "       happy       0.58      0.79      0.67       197\n",
      "   religious       0.25      0.08      0.12        12\n",
      "         sad       0.51      0.31      0.39       102\n",
      "   surprised       0.67      0.12      0.20        17\n",
      "\n",
      "    accuracy                           0.57       569\n",
      "   macro avg       0.50      0.38      0.40       569\n",
      "weighted avg       0.56      0.57      0.55       569\n",
      "\n"
     ]
    }
   ],
   "source": [
    "print('accuracy %s' % accuracy_score(pred, y_test))\n",
    "print(classification_report(ytest, pred))"
   ]
  },
  {
   "cell_type": "markdown",
   "id": "fa4a2d3d",
   "metadata": {},
   "source": [
    "# Which one is the best Model?"
   ]
  },
  {
   "cell_type": "code",
   "execution_count": 103,
   "id": "a2926201",
   "metadata": {},
   "outputs": [],
   "source": [
    "log_acc = accuracy_score(predictions, y_test)\n",
    "nb_acc = accuracy_score(pred_y, y_test)\n",
    "svm_acc = accuracy_score(y_predict, y_test)\n",
    "rf_acc = accuracy_score(pred, y_test)"
   ]
  },
  {
   "cell_type": "code",
   "execution_count": 104,
   "id": "72c56dcc",
   "metadata": {},
   "outputs": [
    {
     "data": {
      "text/html": [
       "<div>\n",
       "<style scoped>\n",
       "    .dataframe tbody tr th:only-of-type {\n",
       "        vertical-align: middle;\n",
       "    }\n",
       "\n",
       "    .dataframe tbody tr th {\n",
       "        vertical-align: top;\n",
       "    }\n",
       "\n",
       "    .dataframe thead th {\n",
       "        text-align: right;\n",
       "    }\n",
       "</style>\n",
       "<table border=\"1\" class=\"dataframe\">\n",
       "  <thead>\n",
       "    <tr style=\"text-align: right;\">\n",
       "      <th></th>\n",
       "      <th>Model</th>\n",
       "      <th>Score</th>\n",
       "    </tr>\n",
       "  </thead>\n",
       "  <tbody>\n",
       "    <tr>\n",
       "      <th>2</th>\n",
       "      <td>Support Vector Machines</td>\n",
       "      <td>0.585237</td>\n",
       "    </tr>\n",
       "    <tr>\n",
       "      <th>3</th>\n",
       "      <td>Random Forest</td>\n",
       "      <td>0.574692</td>\n",
       "    </tr>\n",
       "    <tr>\n",
       "      <th>0</th>\n",
       "      <td>Logistic Regression</td>\n",
       "      <td>0.560633</td>\n",
       "    </tr>\n",
       "    <tr>\n",
       "      <th>1</th>\n",
       "      <td>Naive Bayes</td>\n",
       "      <td>0.560633</td>\n",
       "    </tr>\n",
       "  </tbody>\n",
       "</table>\n",
       "</div>"
      ],
      "text/plain": [
       "                     Model     Score\n",
       "2  Support Vector Machines  0.585237\n",
       "3            Random Forest  0.574692\n",
       "0      Logistic Regression  0.560633\n",
       "1              Naive Bayes  0.560633"
      ]
     },
     "execution_count": 104,
     "metadata": {},
     "output_type": "execute_result"
    }
   ],
   "source": [
    "models = pd.DataFrame({\n",
    "                      'Model': ['Logistic Regression', 'Naive Bayes', 'Support Vector Machines', 'Random Forest'],\n",
    "                      'Score': [log_acc, nb_acc, svm_acc, rf_acc]})\n",
    "models.sort_values(by='Score', ascending=False)"
   ]
  },
  {
   "cell_type": "markdown",
   "id": "3de3417c",
   "metadata": {},
   "source": [
    "# LSTM"
   ]
  },
  {
   "cell_type": "code",
   "execution_count": 4,
   "id": "cf6069c9",
   "metadata": {},
   "outputs": [],
   "source": [
    "from sklearn.feature_extraction.text import CountVectorizer\n",
    "from keras.preprocessing.text import Tokenizer\n",
    "from keras.preprocessing.sequence import pad_sequences\n",
    "from keras.models import Sequential\n",
    "from keras.layers import Dense, Embedding, LSTM, SpatialDropout1D\n",
    "from sklearn.model_selection import train_test_split\n",
    "from keras.utils.np_utils import to_categorical\n",
    "from sklearn.utils import resample\n",
    "from sklearn.utils import shuffle\n",
    "from sklearn.metrics import confusion_matrix,classification_report\n",
    "import re"
   ]
  },
  {
   "cell_type": "code",
   "execution_count": 39,
   "id": "cb6e9873",
   "metadata": {},
   "outputs": [
    {
     "data": {
      "text/plain": [
       "array([[  0,   0,   0,   0,   0,   0,   0,   0,   0, 308,  98, 914, 639,\n",
       "        915,  86, 266, 496, 452],\n",
       "       [ 22,   1,  18,  73,  76,   6, 164,  94,  27,  12, 453, 560, 640,\n",
       "        327, 383, 288, 217,   2]])"
      ]
     },
     "execution_count": 39,
     "metadata": {},
     "output_type": "execute_result"
    }
   ],
   "source": [
    "max_fatures = 2000\n",
    "tokenizer = Tokenizer(num_words=max_fatures, split=' ')\n",
    "tokenizer.fit_on_texts(review['Review'].values)\n",
    "X = tokenizer.texts_to_sequences(review['Review'].values)\n",
    "X = pad_sequences(X)\n",
    "X[:2]"
   ]
  },
  {
   "cell_type": "code",
   "execution_count": 40,
   "id": "cfff967a",
   "metadata": {},
   "outputs": [
    {
     "name": "stdout",
     "output_type": "stream",
     "text": [
      "Model: \"sequential\"\n",
      "_________________________________________________________________\n",
      " Layer (type)                Output Shape              Param #   \n",
      "=================================================================\n",
      " embedding (Embedding)       (None, 18, 128)           256000    \n",
      "                                                                 \n",
      " spatial_dropout1d (SpatialD  (None, 18, 128)          0         \n",
      " ropout1D)                                                       \n",
      "                                                                 \n",
      " lstm (LSTM)                 (None, 196)               254800    \n",
      "                                                                 \n",
      " dense (Dense)               (None, 7)                 1379      \n",
      "                                                                 \n",
      "=================================================================\n",
      "Total params: 512,179\n",
      "Trainable params: 512,179\n",
      "Non-trainable params: 0\n",
      "_________________________________________________________________\n",
      "None\n"
     ]
    }
   ],
   "source": [
    "embed_dim = 128\n",
    "lstm_out = 196\n",
    "\n",
    "model = Sequential()\n",
    "model.add(Embedding(max_fatures, embed_dim,input_length = X.shape[1]))\n",
    "model.add(SpatialDropout1D(0.4))\n",
    "model.add(LSTM(lstm_out, dropout=0.2, recurrent_dropout=0.2))\n",
    "model.add(Dense(7,activation='sigmoid'))\n",
    "model.compile(loss = 'binary_crossentropy', optimizer='adam',metrics = ['accuracy'])\n",
    "print(model.summary())"
   ]
  },
  {
   "cell_type": "code",
   "execution_count": 41,
   "id": "f57ff76e",
   "metadata": {},
   "outputs": [
    {
     "name": "stdout",
     "output_type": "stream",
     "text": [
      "(2274, 18) (2274, 7)\n",
      "(569, 18) (569, 7)\n"
     ]
    }
   ],
   "source": [
    "Y = pd.get_dummies(review['Recommended']).values\n",
    "X_train, X_test, Y_train, Y_test = train_test_split(X,Y, test_size = 0.20, random_state = 20)\n",
    "print(X_train.shape,Y_train.shape)\n",
    "print(X_test.shape,Y_test.shape)"
   ]
  },
  {
   "cell_type": "code",
   "execution_count": 42,
   "id": "de363037",
   "metadata": {},
   "outputs": [
    {
     "name": "stdout",
     "output_type": "stream",
     "text": [
      "Epoch 1/15\n",
      "18/18 [==============================] - 3s 68ms/step - loss: 0.4918 - accuracy: 0.3232\n",
      "Epoch 2/15\n",
      "18/18 [==============================] - 1s 68ms/step - loss: 0.3603 - accuracy: 0.3597\n",
      "Epoch 3/15\n",
      "18/18 [==============================] - 1s 69ms/step - loss: 0.3552 - accuracy: 0.3668\n",
      "Epoch 4/15\n",
      "18/18 [==============================] - 1s 69ms/step - loss: 0.3456 - accuracy: 0.3764\n",
      "Epoch 5/15\n",
      "18/18 [==============================] - 1s 59ms/step - loss: 0.3292 - accuracy: 0.4406\n",
      "Epoch 6/15\n",
      "18/18 [==============================] - 1s 56ms/step - loss: 0.2917 - accuracy: 0.5519\n",
      "Epoch 7/15\n",
      "18/18 [==============================] - 1s 56ms/step - loss: 0.2442 - accuracy: 0.6653\n",
      "Epoch 8/15\n",
      "18/18 [==============================] - 1s 55ms/step - loss: 0.2076 - accuracy: 0.7102\n",
      "Epoch 9/15\n",
      "18/18 [==============================] - 1s 54ms/step - loss: 0.1829 - accuracy: 0.7454\n",
      "Epoch 10/15\n",
      "18/18 [==============================] - 1s 54ms/step - loss: 0.1619 - accuracy: 0.7858\n",
      "Epoch 11/15\n",
      "18/18 [==============================] - 1s 54ms/step - loss: 0.1437 - accuracy: 0.8113\n",
      "Epoch 12/15\n",
      "18/18 [==============================] - 1s 54ms/step - loss: 0.1261 - accuracy: 0.8386\n",
      "Epoch 13/15\n",
      "18/18 [==============================] - 1s 55ms/step - loss: 0.1109 - accuracy: 0.8549\n",
      "Epoch 14/15\n",
      "18/18 [==============================] - 1s 55ms/step - loss: 0.0990 - accuracy: 0.8742\n",
      "Epoch 15/15\n",
      "18/18 [==============================] - 1s 54ms/step - loss: 0.0858 - accuracy: 0.8945\n"
     ]
    },
    {
     "data": {
      "text/plain": [
       "<keras.callbacks.History at 0x22057a90790>"
      ]
     },
     "execution_count": 42,
     "metadata": {},
     "output_type": "execute_result"
    }
   ],
   "source": [
    "batch_size = 128\n",
    "model.fit(X_train, Y_train, epochs = 15, batch_size=batch_size, verbose = 1)"
   ]
  },
  {
   "cell_type": "code",
   "execution_count": 43,
   "id": "062fe419",
   "metadata": {},
   "outputs": [],
   "source": [
    "Y_pred = (model.predict(X_test) > 0.5).astype(\"int32\")"
   ]
  },
  {
   "cell_type": "code",
   "execution_count": 44,
   "id": "c556de59",
   "metadata": {},
   "outputs": [
    {
     "name": "stdout",
     "output_type": "stream",
     "text": [
      "accuracy 0.5536028119507909\n",
      "              precision    recall  f1-score   support\n",
      "\n",
      "           0       1.00      0.03      0.05        40\n",
      "           1       0.51      0.32      0.39        81\n",
      "           2       0.82      0.80      0.81       123\n",
      "           3       0.73      0.78      0.76       193\n",
      "           4       0.00      0.00      0.00        15\n",
      "           5       0.57      0.45      0.50        96\n",
      "           6       0.00      0.00      0.00        21\n",
      "\n",
      "   micro avg       0.70      0.56      0.62       569\n",
      "   macro avg       0.52      0.34      0.36       569\n",
      "weighted avg       0.66      0.56      0.57       569\n",
      " samples avg       0.56      0.56      0.56       569\n",
      "\n"
     ]
    },
    {
     "name": "stderr",
     "output_type": "stream",
     "text": [
      "C:\\Users\\User\\anaconda3\\lib\\site-packages\\sklearn\\metrics\\_classification.py:1221: UndefinedMetricWarning: Precision and F-score are ill-defined and being set to 0.0 in labels with no predicted samples. Use `zero_division` parameter to control this behavior.\n",
      "  _warn_prf(average, modifier, msg_start, len(result))\n",
      "C:\\Users\\User\\anaconda3\\lib\\site-packages\\sklearn\\metrics\\_classification.py:1221: UndefinedMetricWarning: Precision and F-score are ill-defined and being set to 0.0 in samples with no predicted labels. Use `zero_division` parameter to control this behavior.\n",
      "  _warn_prf(average, modifier, msg_start, len(result))\n"
     ]
    }
   ],
   "source": [
    "print('accuracy %s' % accuracy_score(Y_pred, Y_test))\n",
    "print(classification_report(Y_test, Y_pred))"
   ]
  },
  {
   "cell_type": "markdown",
   "id": "3bfdcea2",
   "metadata": {},
   "source": [
    "# BiLSTM"
   ]
  },
  {
   "cell_type": "code",
   "execution_count": 37,
   "id": "87004a32",
   "metadata": {},
   "outputs": [],
   "source": [
    "from sklearn.feature_extraction.text import CountVectorizer\n",
    "from keras.preprocessing.text import Tokenizer\n",
    "from keras.preprocessing.sequence import pad_sequences\n",
    "from keras.models import Sequential\n",
    "from keras.layers import Dense, Embedding, LSTM, SpatialDropout1D\n",
    "from sklearn.model_selection import train_test_split\n",
    "from keras.utils.np_utils import to_categorical\n",
    "from sklearn.utils import resample\n",
    "from sklearn.utils import shuffle\n",
    "from sklearn.metrics import confusion_matrix,classification_report\n",
    "import re\n",
    "from tensorflow.keras.layers import LSTM,GRU,Bidirectional,Embedding,Dense\n",
    "from tensorflow.keras.models import Sequential\n",
    "from tensorflow.keras.optimizers import Adam,RMSprop\n",
    "from tensorflow.keras.preprocessing.sequence import pad_sequences\n",
    "from tensorflow.keras.callbacks import EarlyStopping,ModelCheckpoint,TensorBoard,ReduceLROnPlateau"
   ]
  },
  {
   "cell_type": "code",
   "execution_count": 38,
   "id": "b8acfa3c",
   "metadata": {},
   "outputs": [
    {
     "data": {
      "text/plain": [
       "array([[  0,   0,   0,   0,   0,   0,   0,   0,   0, 308,  98, 914, 639,\n",
       "        915,  86, 266, 496, 452],\n",
       "       [ 22,   1,  18,  73,  76,   6, 164,  94,  27,  12, 453, 560, 640,\n",
       "        327, 383, 288, 217,   2]])"
      ]
     },
     "execution_count": 38,
     "metadata": {},
     "output_type": "execute_result"
    }
   ],
   "source": [
    "    \n",
    "max_fatures = 2000\n",
    "tokenizer = Tokenizer(num_words=max_fatures, split=' ')\n",
    "tokenizer.fit_on_texts(review['Review'].values)\n",
    "X = tokenizer.texts_to_sequences(review['Review'].values)\n",
    "X = pad_sequences(X)\n",
    "X[:2]"
   ]
  },
  {
   "cell_type": "code",
   "execution_count": 39,
   "id": "670c3754",
   "metadata": {},
   "outputs": [
    {
     "name": "stdout",
     "output_type": "stream",
     "text": [
      "Model: \"sequential\"\n",
      "_________________________________________________________________\n",
      " Layer (type)                Output Shape              Param #   \n",
      "=================================================================\n",
      " embedding (Embedding)       (None, 18, 128)           256000    \n",
      "                                                                 \n",
      " spatial_dropout1d (SpatialD  (None, 18, 128)          0         \n",
      " ropout1D)                                                       \n",
      "                                                                 \n",
      " bidirectional (Bidirectiona  (None, 392)              509600    \n",
      " l)                                                              \n",
      "                                                                 \n",
      " dense (Dense)               (None, 7)                 2751      \n",
      "                                                                 \n",
      "=================================================================\n",
      "Total params: 768,351\n",
      "Trainable params: 768,351\n",
      "Non-trainable params: 0\n",
      "_________________________________________________________________\n",
      "None\n"
     ]
    }
   ],
   "source": [
    "embed_dim = 128\n",
    "lstm_out = 196\n",
    "\n",
    "model = Sequential()\n",
    "model.add(Embedding(max_fatures, embed_dim,input_length = X.shape[1]))\n",
    "model.add(SpatialDropout1D(0.4))\n",
    "#model.add(Bidirectional(LSTM(units=32, return_sequences=True)))\n",
    "model.add(Bidirectional(LSTM(lstm_out, dropout=0.2, recurrent_dropout=0.2)))\n",
    "model.add(Dense(7,activation='sigmoid'))\n",
    "model.compile(loss = 'binary_crossentropy', optimizer='adam',metrics = ['accuracy'])\n",
    "print(model.summary())"
   ]
  },
  {
   "cell_type": "code",
   "execution_count": 40,
   "id": "ab3924c6",
   "metadata": {},
   "outputs": [
    {
     "name": "stdout",
     "output_type": "stream",
     "text": [
      "(2274, 18) (2274, 7)\n",
      "(569, 18) (569, 7)\n"
     ]
    }
   ],
   "source": [
    "Y = pd.get_dummies(review['Recommended']).values\n",
    "X_train, X_test, Y_train, Y_test = train_test_split(X,Y, test_size = 0.20, random_state = 20)\n",
    "print(X_train.shape,Y_train.shape)\n",
    "print(X_test.shape,Y_test.shape)"
   ]
  },
  {
   "cell_type": "code",
   "execution_count": 41,
   "id": "125e53fe",
   "metadata": {},
   "outputs": [
    {
     "name": "stdout",
     "output_type": "stream",
     "text": [
      "Epoch 1/15\n",
      "18/18 [==============================] - 7s 162ms/step - loss: 0.4744 - accuracy: 0.3412\n",
      "Epoch 2/15\n",
      "18/18 [==============================] - 3s 146ms/step - loss: 0.3611 - accuracy: 0.3470\n",
      "Epoch 3/15\n",
      "18/18 [==============================] - 3s 145ms/step - loss: 0.3527 - accuracy: 0.3606\n",
      "Epoch 4/15\n",
      "18/18 [==============================] - 3s 145ms/step - loss: 0.3289 - accuracy: 0.4261\n",
      "Epoch 5/15\n",
      "18/18 [==============================] - 3s 142ms/step - loss: 0.2758 - accuracy: 0.5317\n",
      "Epoch 6/15\n",
      "18/18 [==============================] - 3s 141ms/step - loss: 0.2518 - accuracy: 0.5695\n",
      "Epoch 7/15\n",
      "18/18 [==============================] - 3s 148ms/step - loss: 0.2277 - accuracy: 0.6253\n",
      "Epoch 8/15\n",
      "18/18 [==============================] - 3s 143ms/step - loss: 0.1957 - accuracy: 0.6834\n",
      "Epoch 9/15\n",
      "18/18 [==============================] - 3s 142ms/step - loss: 0.1756 - accuracy: 0.7216\n",
      "Epoch 10/15\n",
      "18/18 [==============================] - 3s 141ms/step - loss: 0.1652 - accuracy: 0.7370\n",
      "Epoch 11/15\n",
      "18/18 [==============================] - 3s 146ms/step - loss: 0.1538 - accuracy: 0.7599\n",
      "Epoch 12/15\n",
      "18/18 [==============================] - 3s 142ms/step - loss: 0.1422 - accuracy: 0.7797\n",
      "Epoch 13/15\n",
      "18/18 [==============================] - 3s 144ms/step - loss: 0.1287 - accuracy: 0.8109\n",
      "Epoch 14/15\n",
      "18/18 [==============================] - 3s 142ms/step - loss: 0.1142 - accuracy: 0.8386\n",
      "Epoch 15/15\n",
      "18/18 [==============================] - 3s 143ms/step - loss: 0.1007 - accuracy: 0.8610\n"
     ]
    },
    {
     "data": {
      "text/plain": [
       "<keras.callbacks.History at 0x290e6c79ca0>"
      ]
     },
     "execution_count": 41,
     "metadata": {},
     "output_type": "execute_result"
    }
   ],
   "source": [
    "batch_size = 128\n",
    "model.fit(X_train, Y_train, epochs = 15, batch_size=batch_size, verbose = 1)"
   ]
  },
  {
   "cell_type": "code",
   "execution_count": 42,
   "id": "2c2b0bec",
   "metadata": {},
   "outputs": [],
   "source": [
    "Y_pred = (model.predict(X_test) > 0.5).astype(\"int32\")"
   ]
  },
  {
   "cell_type": "code",
   "execution_count": 43,
   "id": "12f3f4e0",
   "metadata": {},
   "outputs": [
    {
     "name": "stdout",
     "output_type": "stream",
     "text": [
      "accuracy 0.5588752196836555\n",
      "              precision    recall  f1-score   support\n",
      "\n",
      "           0       0.34      0.25      0.29        40\n",
      "           1       0.54      0.26      0.35        81\n",
      "           2       0.79      0.85      0.82       123\n",
      "           3       0.82      0.66      0.73       193\n",
      "           4       0.00      0.00      0.00        15\n",
      "           5       0.54      0.58      0.56        96\n",
      "           6       0.00      0.00      0.00        21\n",
      "\n",
      "   micro avg       0.69      0.56      0.62       569\n",
      "   macro avg       0.43      0.37      0.39       569\n",
      "weighted avg       0.64      0.56      0.59       569\n",
      " samples avg       0.56      0.56      0.56       569\n",
      "\n"
     ]
    },
    {
     "name": "stderr",
     "output_type": "stream",
     "text": [
      "C:\\Users\\User\\anaconda3\\lib\\site-packages\\sklearn\\metrics\\_classification.py:1245: UndefinedMetricWarning: Precision and F-score are ill-defined and being set to 0.0 in labels with no predicted samples. Use `zero_division` parameter to control this behavior.\n",
      "  _warn_prf(average, modifier, msg_start, len(result))\n",
      "C:\\Users\\User\\anaconda3\\lib\\site-packages\\sklearn\\metrics\\_classification.py:1245: UndefinedMetricWarning: Precision and F-score are ill-defined and being set to 0.0 in samples with no predicted labels. Use `zero_division` parameter to control this behavior.\n",
      "  _warn_prf(average, modifier, msg_start, len(result))\n"
     ]
    }
   ],
   "source": [
    "\n",
    "print('accuracy %s' % accuracy_score(Y_pred, Y_test))\n",
    "print(classification_report(Y_test, Y_pred))"
   ]
  },
  {
   "cell_type": "markdown",
   "id": "74cdfec2",
   "metadata": {},
   "source": [
    "# adaboost\n"
   ]
  },
  {
   "cell_type": "code",
   "execution_count": 43,
   "id": "90c2363f",
   "metadata": {},
   "outputs": [],
   "source": [
    "from sklearn.ensemble import AdaBoostClassifier\n",
    "\n",
    "ada = Pipeline([('vect', CountVectorizer(min_df=5, ngram_range=(1,2))),\n",
    "                ('tfidf', TfidfTransformer()),\n",
    "                ('clf-ada', AdaBoostClassifier()),\n",
    "                ])\n",
    "\n",
    "ada.fit(X_train, y_train)\n",
    "ytest = np.array(y_test)\n",
    "ada_pred = ada.predict(X_test)"
   ]
  },
  {
   "cell_type": "code",
   "execution_count": 44,
   "id": "43befa0d",
   "metadata": {},
   "outputs": [
    {
     "name": "stdout",
     "output_type": "stream",
     "text": [
      "accuracy 0.5061511423550088\n",
      "              precision    recall  f1-score   support\n",
      "\n",
      "     abusive       0.00      0.00      0.00        31\n",
      "       angry       0.41      0.24      0.31        74\n",
      "     excited       0.75      0.58      0.66       136\n",
      "       happy       0.46      0.88      0.60       197\n",
      "   religious       0.00      0.00      0.00        12\n",
      "         sad       0.48      0.16      0.24       102\n",
      "   surprised       0.40      0.12      0.18        17\n",
      "\n",
      "    accuracy                           0.51       569\n",
      "   macro avg       0.36      0.28      0.28       569\n",
      "weighted avg       0.49      0.51      0.45       569\n",
      "\n"
     ]
    },
    {
     "name": "stderr",
     "output_type": "stream",
     "text": [
      "C:\\Users\\User\\anaconda3\\lib\\site-packages\\sklearn\\metrics\\_classification.py:1245: UndefinedMetricWarning: Precision and F-score are ill-defined and being set to 0.0 in labels with no predicted samples. Use `zero_division` parameter to control this behavior.\n",
      "  _warn_prf(average, modifier, msg_start, len(result))\n",
      "C:\\Users\\User\\anaconda3\\lib\\site-packages\\sklearn\\metrics\\_classification.py:1245: UndefinedMetricWarning: Precision and F-score are ill-defined and being set to 0.0 in labels with no predicted samples. Use `zero_division` parameter to control this behavior.\n",
      "  _warn_prf(average, modifier, msg_start, len(result))\n",
      "C:\\Users\\User\\anaconda3\\lib\\site-packages\\sklearn\\metrics\\_classification.py:1245: UndefinedMetricWarning: Precision and F-score are ill-defined and being set to 0.0 in labels with no predicted samples. Use `zero_division` parameter to control this behavior.\n",
      "  _warn_prf(average, modifier, msg_start, len(result))\n"
     ]
    }
   ],
   "source": [
    "print('accuracy %s' % accuracy_score(ada_pred, y_test))\n",
    "print(classification_report(ytest, ada_pred))"
   ]
  },
  {
   "cell_type": "markdown",
   "id": "21f5afb5",
   "metadata": {},
   "source": [
    "# KNN"
   ]
  },
  {
   "cell_type": "code",
   "execution_count": 38,
   "id": "401b7f82",
   "metadata": {},
   "outputs": [
    {
     "name": "stdout",
     "output_type": "stream",
     "text": [
      "\n",
      "K Nearest Neighbors (NN = 3)\n",
      "Accuracy Score: 43.7609841827768%\n",
      "Confusion Matrix: \n",
      "[[ 50   6   1  11   0   5   0]\n",
      " [ 96  29   3  30   2   6   1]\n",
      " [ 55  30 134  39   0   7   0]\n",
      " [ 99  13  21 257   0  10   0]\n",
      " [ 10   4   0   3   0   2   0]\n",
      " [ 67  19  13  54   0  28   0]\n",
      " [ 19   3   0   8   1   2   0]]\n",
      "              precision    recall  f1-score   support\n",
      "\n",
      "     abusive       0.13      0.68      0.21        73\n",
      "       angry       0.28      0.17      0.21       167\n",
      "     excited       0.78      0.51      0.61       265\n",
      "       happy       0.64      0.64      0.64       400\n",
      "   religious       0.00      0.00      0.00        19\n",
      "         sad       0.47      0.15      0.23       181\n",
      "   surprised       0.00      0.00      0.00        33\n",
      "\n",
      "    accuracy                           0.44      1138\n",
      "   macro avg       0.33      0.31      0.27      1138\n",
      "weighted avg       0.53      0.44      0.45      1138\n",
      "\n"
     ]
    }
   ],
   "source": [
    "import pandas as pd\n",
    "from sklearn import metrics\n",
    "from sklearn.model_selection import train_test_split\n",
    "from sklearn.feature_extraction.text import CountVectorizer\n",
    "from sklearn.svm import LinearSVC\n",
    "from sklearn.naive_bayes import MultinomialNB\n",
    "from sklearn.linear_model import LogisticRegression\n",
    "from sklearn.neighbors import KNeighborsClassifier\n",
    "\n",
    "\n",
    "vect.fit(X_train)\n",
    "X_train_dtm = vect.transform(X_train)\n",
    "y_train_dtm = vect.transform(y_train) \n",
    "X_test_dtm = vect.transform(X_test)\n",
    "\n",
    "#Accuracy using KNN Model\n",
    "KNN = KNeighborsClassifier(n_neighbors = 3)\n",
    "KNN.fit(X_train_dtm, y_train)\n",
    "y_pred = KNN.predict(X_test_dtm)\n",
    "print('\\nK Nearest Neighbors (NN = 3)')\n",
    "print('Accuracy Score: ',metrics.accuracy_score(y_test,y_pred)*100,'%',sep='')\n",
    "print('Confusion Matrix: ',metrics.confusion_matrix(y_test,y_pred), sep = '\\n')\n",
    "ytest = np.array(y_test)\n",
    "print(classification_report(ytest, y_pred))"
   ]
  },
  {
   "cell_type": "markdown",
   "id": "2e465bfd",
   "metadata": {},
   "source": [
    "# BERT"
   ]
  },
  {
   "cell_type": "code",
   "execution_count": 63,
   "id": "a2a07194",
   "metadata": {},
   "outputs": [
    {
     "name": "stdout",
     "output_type": "stream",
     "text": [
      "Collecting ktrain\n",
      "  Using cached ktrain-0.28.3-py3-none-any.whl\n",
      "Collecting jieba\n",
      "  Using cached jieba-0.42.1-py3-none-any.whl\n",
      "Collecting langdetect\n",
      "  Using cached langdetect-1.0.9-py3-none-any.whl\n",
      "Requirement already satisfied: transformers<=4.10.3,>=4.0.0 in c:\\users\\user\\anaconda3\\lib\\site-packages (from ktrain) (4.10.3)\n",
      "Requirement already satisfied: requests in c:\\users\\user\\anaconda3\\lib\\site-packages (from ktrain) (2.25.1)\n",
      "Requirement already satisfied: sentencepiece in c:\\users\\user\\anaconda3\\lib\\site-packages (from ktrain) (0.1.96)\n",
      "Requirement already satisfied: pandas>=1.0.1 in c:\\users\\user\\anaconda3\\lib\\site-packages (from ktrain) (1.2.4)\n",
      "Collecting cchardet\n",
      "  Using cached cchardet-2.1.7-cp38-cp38-win_amd64.whl (115 kB)\n",
      "Requirement already satisfied: seqeval==0.0.19 in c:\\users\\user\\anaconda3\\lib\\site-packages (from ktrain) (0.0.19)\n",
      "Requirement already satisfied: packaging in c:\\users\\user\\anaconda3\\lib\\site-packages (from ktrain) (20.9)\n",
      "Collecting keras-bert>=0.86.0\n",
      "  Using cached keras_bert-0.89.0-py3-none-any.whl\n",
      "Requirement already satisfied: chardet in c:\\users\\user\\anaconda3\\lib\\site-packages (from ktrain) (4.0.0)\n",
      "Requirement already satisfied: whoosh in c:\\users\\user\\anaconda3\\lib\\site-packages (from ktrain) (2.7.4)\n",
      "Requirement already satisfied: syntok in c:\\users\\user\\anaconda3\\lib\\site-packages (from ktrain) (1.4.1)\n",
      "Requirement already satisfied: scikit-learn==0.23.2 in c:\\users\\user\\anaconda3\\lib\\site-packages (from ktrain) (0.23.2)\n",
      "Requirement already satisfied: joblib in c:\\users\\user\\anaconda3\\lib\\site-packages (from ktrain) (1.0.1)\n",
      "Collecting fastprogress>=0.1.21\n",
      "  Using cached fastprogress-1.0.0-py3-none-any.whl (12 kB)\n",
      "Requirement already satisfied: matplotlib>=3.0.0 in c:\\users\\user\\anaconda3\\lib\\site-packages (from ktrain) (3.3.4)\n",
      "Requirement already satisfied: scipy>=0.19.1 in c:\\users\\user\\anaconda3\\lib\\site-packages (from scikit-learn==0.23.2->ktrain) (1.6.2)\n",
      "Requirement already satisfied: threadpoolctl>=2.0.0 in c:\\users\\user\\anaconda3\\lib\\site-packages (from scikit-learn==0.23.2->ktrain) (2.1.0)\n",
      "Requirement already satisfied: numpy>=1.13.3 in c:\\users\\user\\anaconda3\\lib\\site-packages (from scikit-learn==0.23.2->ktrain) (1.20.1)\n",
      "Requirement already satisfied: Keras>=2.2.4 in c:\\users\\user\\anaconda3\\lib\\site-packages (from seqeval==0.0.19->ktrain) (2.7.0)\n",
      "Requirement already satisfied: keras-transformer==0.40.0 in c:\\users\\user\\anaconda3\\lib\\site-packages (from keras-bert>=0.86.0->ktrain) (0.40.0)\n",
      "Requirement already satisfied: keras-layer-normalization==0.16.0 in c:\\users\\user\\anaconda3\\lib\\site-packages (from keras-transformer==0.40.0->keras-bert>=0.86.0->ktrain) (0.16.0)\n",
      "Requirement already satisfied: keras-pos-embd==0.13.0 in c:\\users\\user\\anaconda3\\lib\\site-packages (from keras-transformer==0.40.0->keras-bert>=0.86.0->ktrain) (0.13.0)\n",
      "Requirement already satisfied: keras-embed-sim==0.10.0 in c:\\users\\user\\anaconda3\\lib\\site-packages (from keras-transformer==0.40.0->keras-bert>=0.86.0->ktrain) (0.10.0)\n",
      "Requirement already satisfied: keras-multi-head==0.29.0 in c:\\users\\user\\anaconda3\\lib\\site-packages (from keras-transformer==0.40.0->keras-bert>=0.86.0->ktrain) (0.29.0)\n",
      "Requirement already satisfied: keras-position-wise-feed-forward==0.8.0 in c:\\users\\user\\anaconda3\\lib\\site-packages (from keras-transformer==0.40.0->keras-bert>=0.86.0->ktrain) (0.8.0)\n",
      "Requirement already satisfied: keras-self-attention==0.51.0 in c:\\users\\user\\anaconda3\\lib\\site-packages (from keras-multi-head==0.29.0->keras-transformer==0.40.0->keras-bert>=0.86.0->ktrain) (0.51.0)\n",
      "Requirement already satisfied: pillow>=6.2.0 in c:\\users\\user\\anaconda3\\lib\\site-packages (from matplotlib>=3.0.0->ktrain) (8.2.0)\n",
      "Requirement already satisfied: python-dateutil>=2.1 in c:\\users\\user\\anaconda3\\lib\\site-packages (from matplotlib>=3.0.0->ktrain) (2.8.1)\n",
      "Requirement already satisfied: cycler>=0.10 in c:\\users\\user\\anaconda3\\lib\\site-packages (from matplotlib>=3.0.0->ktrain) (0.10.0)\n",
      "Requirement already satisfied: pyparsing!=2.0.4,!=2.1.2,!=2.1.6,>=2.0.3 in c:\\users\\user\\anaconda3\\lib\\site-packages (from matplotlib>=3.0.0->ktrain) (2.4.7)\n",
      "Requirement already satisfied: kiwisolver>=1.0.1 in c:\\users\\user\\anaconda3\\lib\\site-packages (from matplotlib>=3.0.0->ktrain) (1.3.1)\n",
      "Requirement already satisfied: six in c:\\users\\user\\anaconda3\\lib\\site-packages (from cycler>=0.10->matplotlib>=3.0.0->ktrain) (1.15.0)\n",
      "Requirement already satisfied: pytz>=2017.3 in c:\\users\\user\\anaconda3\\lib\\site-packages (from pandas>=1.0.1->ktrain) (2021.1)\n",
      "Requirement already satisfied: regex!=2019.12.17 in c:\\users\\user\\anaconda3\\lib\\site-packages (from transformers<=4.10.3,>=4.0.0->ktrain) (2021.4.4)\n",
      "Requirement already satisfied: huggingface-hub>=0.0.12 in c:\\users\\user\\anaconda3\\lib\\site-packages (from transformers<=4.10.3,>=4.0.0->ktrain) (0.0.19)\n",
      "Requirement already satisfied: tokenizers<0.11,>=0.10.1 in c:\\users\\user\\anaconda3\\lib\\site-packages (from transformers<=4.10.3,>=4.0.0->ktrain) (0.10.3)\n",
      "Requirement already satisfied: tqdm>=4.27 in c:\\users\\user\\anaconda3\\lib\\site-packages (from transformers<=4.10.3,>=4.0.0->ktrain) (4.59.0)\n",
      "Requirement already satisfied: filelock in c:\\users\\user\\anaconda3\\lib\\site-packages (from transformers<=4.10.3,>=4.0.0->ktrain) (3.0.12)\n",
      "Requirement already satisfied: sacremoses in c:\\users\\user\\anaconda3\\lib\\site-packages (from transformers<=4.10.3,>=4.0.0->ktrain) (0.0.46)\n",
      "Requirement already satisfied: pyyaml>=5.1 in c:\\users\\user\\anaconda3\\lib\\site-packages (from transformers<=4.10.3,>=4.0.0->ktrain) (5.4.1)\n",
      "Requirement already satisfied: typing-extensions in c:\\users\\user\\anaconda3\\lib\\site-packages (from huggingface-hub>=0.0.12->transformers<=4.10.3,>=4.0.0->ktrain) (3.7.4.3)\n",
      "Requirement already satisfied: idna<3,>=2.5 in c:\\users\\user\\anaconda3\\lib\\site-packages (from requests->ktrain) (2.10)\n",
      "Requirement already satisfied: urllib3<1.27,>=1.21.1 in c:\\users\\user\\anaconda3\\lib\\site-packages (from requests->ktrain) (1.26.4)\n",
      "Requirement already satisfied: certifi>=2017.4.17 in c:\\users\\user\\anaconda3\\lib\\site-packages (from requests->ktrain) (2020.12.5)\n",
      "Requirement already satisfied: click in c:\\users\\user\\anaconda3\\lib\\site-packages (from sacremoses->transformers<=4.10.3,>=4.0.0->ktrain) (7.1.2)\n",
      "Installing collected packages: langdetect, keras-bert, jieba, fastprogress, cchardet, ktrain\n",
      "Successfully installed cchardet-2.1.7 fastprogress-1.0.0 jieba-0.42.1 keras-bert-0.89.0 ktrain-0.28.3 langdetect-1.0.9\n"
     ]
    }
   ],
   "source": [
    "!pip install ktrain"
   ]
  },
  {
   "cell_type": "code",
   "execution_count": 37,
   "id": "f6c038aa",
   "metadata": {},
   "outputs": [],
   "source": [
    "import pandas as pd\n",
    "import numpy as np\n",
    "\n",
    "import ktrain\n",
    "from ktrain import text\n",
    "\n",
    "def shuffle(df, n=1, axis=0):     \n",
    "    df = df.copy()\n",
    "    for _ in range(n):\n",
    "      df.apply(np.random.shuffle, axis=axis)\n",
    "    return df"
   ]
  },
  {
   "cell_type": "code",
   "execution_count": 38,
   "id": "3ad50216",
   "metadata": {},
   "outputs": [],
   "source": [
    "data = pd.read_csv('b2.csv')\n",
    "\n"
   ]
  },
  {
   "cell_type": "code",
   "execution_count": 39,
   "id": "4ff6ddfc",
   "metadata": {},
   "outputs": [
    {
     "data": {
      "text/html": [
       "<div>\n",
       "<style scoped>\n",
       "    .dataframe tbody tr th:only-of-type {\n",
       "        vertical-align: middle;\n",
       "    }\n",
       "\n",
       "    .dataframe tbody tr th {\n",
       "        vertical-align: top;\n",
       "    }\n",
       "\n",
       "    .dataframe thead th {\n",
       "        text-align: right;\n",
       "    }\n",
       "</style>\n",
       "<table border=\"1\" class=\"dataframe\">\n",
       "  <thead>\n",
       "    <tr style=\"text-align: right;\">\n",
       "      <th></th>\n",
       "      <th>review</th>\n",
       "      <th>Recommended</th>\n",
       "      <th>r</th>\n",
       "    </tr>\n",
       "  </thead>\n",
       "  <tbody>\n",
       "    <tr>\n",
       "      <th>0</th>\n",
       "      <td>ছাপ্পান্ন হাজার বর্গমাইল রাজ্যজুড়ে আজ কেবল বি...</td>\n",
       "      <td>sad</td>\n",
       "      <td>3FALSEFALSEFALSEFALSEFALSEFALSE</td>\n",
       "    </tr>\n",
       "    <tr>\n",
       "      <th>1</th>\n",
       "      <td>সাকিব ভাই আপনি একজন জ্ঞানী মানুষ আপনার কাছে এম...</td>\n",
       "      <td>angry</td>\n",
       "      <td>FALSE1FALSEFALSEFALSEFALSEFALSE</td>\n",
       "    </tr>\n",
       "    <tr>\n",
       "      <th>2</th>\n",
       "      <td>হাজার বছরের শেষ্ট বাঙালী জাতীর জনক ব্ঙ্গবন্ধু ...</td>\n",
       "      <td>happy</td>\n",
       "      <td>FALSEFALSEFALSEFALSEFALSE6FALSE</td>\n",
       "    </tr>\n",
       "    <tr>\n",
       "      <th>3</th>\n",
       "      <td>স্বাধীন বাংলাদেশের স্বপতিজাতির জনক বঙ্গবন্ধু শ...</td>\n",
       "      <td>sad</td>\n",
       "      <td>3FALSEFALSEFALSEFALSEFALSEFALSE</td>\n",
       "    </tr>\n",
       "    <tr>\n",
       "      <th>4</th>\n",
       "      <td>ঝরেনি সেদিন কৃষ্ণচুড়াঝরেছে পিতার রক্তআগষ্ট শো...</td>\n",
       "      <td>sad</td>\n",
       "      <td>3FALSEFALSEFALSEFALSEFALSEFALSE</td>\n",
       "    </tr>\n",
       "  </tbody>\n",
       "</table>\n",
       "</div>"
      ],
      "text/plain": [
       "                                              review Recommended  \\\n",
       "0  ছাপ্পান্ন হাজার বর্গমাইল রাজ্যজুড়ে আজ কেবল বি...         sad   \n",
       "1  সাকিব ভাই আপনি একজন জ্ঞানী মানুষ আপনার কাছে এম...       angry   \n",
       "2  হাজার বছরের শেষ্ট বাঙালী জাতীর জনক ব্ঙ্গবন্ধু ...       happy   \n",
       "3  স্বাধীন বাংলাদেশের স্বপতিজাতির জনক বঙ্গবন্ধু শ...         sad   \n",
       "4  ঝরেনি সেদিন কৃষ্ণচুড়াঝরেছে পিতার রক্তআগষ্ট শো...         sad   \n",
       "\n",
       "                                 r  \n",
       "0  3FALSEFALSEFALSEFALSEFALSEFALSE  \n",
       "1  FALSE1FALSEFALSEFALSEFALSEFALSE  \n",
       "2  FALSEFALSEFALSEFALSEFALSE6FALSE  \n",
       "3  3FALSEFALSEFALSEFALSEFALSEFALSE  \n",
       "4  3FALSEFALSEFALSEFALSEFALSEFALSE  "
      ]
     },
     "execution_count": 39,
     "metadata": {},
     "output_type": "execute_result"
    }
   ],
   "source": [
    "data.head()"
   ]
  },
  {
   "cell_type": "code",
   "execution_count": 40,
   "id": "3a76f2f1",
   "metadata": {},
   "outputs": [],
   "source": [
    "data.sort_values(by='Recommended', axis=0, inplace=True)\n",
    "\n",
    "data.set_index(keys=['Recommended'], drop=False,inplace=True)\n",
    "\n",
    "emotions=review['Recommended'].unique().tolist()"
   ]
  },
  {
   "cell_type": "code",
   "execution_count": 41,
   "id": "cc2c4609",
   "metadata": {},
   "outputs": [
    {
     "name": "stderr",
     "output_type": "stream",
     "text": [
      "C:\\Users\\User\\anaconda3\\lib\\site-packages\\pandas\\core\\apply.py:276: UserWarning: `x` isn't a recognized object; `shuffle` is not guaranteed to behave correctly. E.g., non-numpy array/tensor objects with view semantics may contain duplicates after shuffling.\n",
      "  results, res_index = self.apply_series_generator()\n"
     ]
    }
   ],
   "source": [
    "sad = shuffle(data.loc[data.Recommended=='sad'])\n",
    "angry = shuffle(data.loc[data.Recommended=='angry'])\n",
    "happy = shuffle(data.loc[data.Recommended=='happy'])\n",
    "excited = shuffle(data.loc[data.Recommended=='excited'])\n",
    "abusive = shuffle(data.loc[data.Recommended=='abusive'])\n",
    "religious = shuffle(data.loc[data.Recommended=='religious'])\n",
    "surprised = shuffle(data.loc[data.Recommended=='surprised'])"
   ]
  },
  {
   "cell_type": "code",
   "execution_count": 42,
   "id": "2fb7efe7",
   "metadata": {},
   "outputs": [],
   "source": [
    "sad_train = sad.iloc[0:int(sad.shape[0]*0.8)]\n",
    "sad_test = sad.iloc[int(sad.shape[0]*0.8)+1:sad.shape[0]]\n",
    "\n"
   ]
  },
  {
   "cell_type": "code",
   "execution_count": 43,
   "id": "9dcd79ea",
   "metadata": {},
   "outputs": [],
   "source": [
    "angry_train = angry.iloc[0:int(angry.shape[0]*0.8)]\n",
    "angry_test = angry.iloc[int(angry.shape[0]*0.8)+1:angry.shape[0]]\n",
    "\n",
    "happy_train = happy.iloc[0:int(happy.shape[0]*0.8)]\n",
    "happy_test = happy.iloc[int(happy.shape[0]*0.8)+1:happy.shape[0]]\n",
    "\n",
    "excited_train = excited.iloc[0:int(excited.shape[0]*0.8)]\n",
    "excited_test = excited.iloc[int(excited.shape[0]*0.8)+1:excited.shape[0]]\n",
    "\n",
    "abusive_train = abusive.iloc[0:int(abusive.shape[0]*0.8)]\n",
    "abusive_test = abusive.iloc[int(abusive.shape[0]*0.8)+1:abusive.shape[0]]\n",
    "\n",
    "religious_train = religious.iloc[0:int(religious.shape[0]*0.8)]\n",
    "religious_test = religious.iloc[int(religious.shape[0]*0.8)+1:religious.shape[0]]\n",
    "\n",
    "surprised_train = surprised.iloc[0:int(surprised.shape[0]*0.8)]\n",
    "surprised_test = surprised.iloc[int(surprised.shape[0]*0.8)+1:surprised.shape[0]]\n",
    "\n",
    "data_train = pd.concat([sad_train, angry_train, happy_train, excited_train, abusive_train, religious_train, surprised_train])\n",
    "data_test = pd.concat([sad_test, angry_test, happy_test, excited_test, abusive_test, religious_test,  surprised_test])"
   ]
  },
  {
   "cell_type": "code",
   "execution_count": 44,
   "id": "9e284e22",
   "metadata": {},
   "outputs": [
    {
     "name": "stdout",
     "output_type": "stream",
     "text": [
      "(2273, 3)\n",
      "(563, 3)\n"
     ]
    }
   ],
   "source": [
    "print(data_train.shape)\n",
    "print(data_test.shape)"
   ]
  },
  {
   "cell_type": "code",
   "execution_count": 45,
   "id": "7dc64b02",
   "metadata": {},
   "outputs": [],
   "source": [
    "\n",
    "X_train = data_train.review.tolist()\n",
    "X_test = data_test.review.tolist()"
   ]
  },
  {
   "cell_type": "code",
   "execution_count": 46,
   "id": "5f07d631",
   "metadata": {},
   "outputs": [
    {
     "data": {
      "text/html": [
       "<div>\n",
       "<style scoped>\n",
       "    .dataframe tbody tr th:only-of-type {\n",
       "        vertical-align: middle;\n",
       "    }\n",
       "\n",
       "    .dataframe tbody tr th {\n",
       "        vertical-align: top;\n",
       "    }\n",
       "\n",
       "    .dataframe thead th {\n",
       "        text-align: right;\n",
       "    }\n",
       "</style>\n",
       "<table border=\"1\" class=\"dataframe\">\n",
       "  <thead>\n",
       "    <tr style=\"text-align: right;\">\n",
       "      <th></th>\n",
       "      <th>review</th>\n",
       "      <th>Recommended</th>\n",
       "      <th>r</th>\n",
       "    </tr>\n",
       "    <tr>\n",
       "      <th>Recommended</th>\n",
       "      <th></th>\n",
       "      <th></th>\n",
       "      <th></th>\n",
       "    </tr>\n",
       "  </thead>\n",
       "  <tbody>\n",
       "    <tr>\n",
       "      <th>sad</th>\n",
       "      <td>বিপিএলে ২ ম্যাচ খেলিয়ে অার খেলায়নি</td>\n",
       "      <td>sad</td>\n",
       "      <td>3FALSEFALSEFALSEFALSEFALSEFALSE</td>\n",
       "    </tr>\n",
       "    <tr>\n",
       "      <th>sad</th>\n",
       "      <td>তখন হয়তো ততটা ম্যাচিউরড উঠছিলাম না তবুও কেন জ...</td>\n",
       "      <td>sad</td>\n",
       "      <td>3FALSEFALSEFALSEFALSEFALSEFALSE</td>\n",
       "    </tr>\n",
       "    <tr>\n",
       "      <th>sad</th>\n",
       "      <td>আপনাকে অনুসরণ করে ম্যাচ হেরে গেছি ব্রো</td>\n",
       "      <td>sad</td>\n",
       "      <td>3FALSEFALSEFALSEFALSEFALSEFALSE</td>\n",
       "    </tr>\n",
       "    <tr>\n",
       "      <th>sad</th>\n",
       "      <td>মিরপুরের এই পিচ টি টোয়েন্টির উপযুগি পিচ নয় অনে...</td>\n",
       "      <td>sad</td>\n",
       "      <td>3FALSEFALSEFALSEFALSEFALSEFALSE</td>\n",
       "    </tr>\n",
       "    <tr>\n",
       "      <th>sad</th>\n",
       "      <td>আমরা নারায়ণগঞ্জেবাসী গভীর ভাবে শোকাহত</td>\n",
       "      <td>sad</td>\n",
       "      <td>3FALSEFALSEFALSEFALSEFALSEFALSE</td>\n",
       "    </tr>\n",
       "  </tbody>\n",
       "</table>\n",
       "</div>"
      ],
      "text/plain": [
       "                                                        review Recommended  \\\n",
       "Recommended                                                                  \n",
       "sad                         বিপিএলে ২ ম্যাচ খেলিয়ে অার খেলায়নি         sad   \n",
       "sad          তখন হয়তো ততটা ম্যাচিউরড উঠছিলাম না তবুও কেন জ...         sad   \n",
       "sad                     আপনাকে অনুসরণ করে ম্যাচ হেরে গেছি ব্রো         sad   \n",
       "sad          মিরপুরের এই পিচ টি টোয়েন্টির উপযুগি পিচ নয় অনে...         sad   \n",
       "sad                      আমরা নারায়ণগঞ্জেবাসী গভীর ভাবে শোকাহত         sad   \n",
       "\n",
       "                                           r  \n",
       "Recommended                                   \n",
       "sad          3FALSEFALSEFALSEFALSEFALSEFALSE  \n",
       "sad          3FALSEFALSEFALSEFALSEFALSEFALSE  \n",
       "sad          3FALSEFALSEFALSEFALSEFALSEFALSE  \n",
       "sad          3FALSEFALSEFALSEFALSEFALSEFALSE  \n",
       "sad          3FALSEFALSEFALSEFALSEFALSEFALSE  "
      ]
     },
     "execution_count": 46,
     "metadata": {},
     "output_type": "execute_result"
    }
   ],
   "source": [
    "data_train.head()"
   ]
  },
  {
   "cell_type": "code",
   "execution_count": 47,
   "id": "e8f75059",
   "metadata": {},
   "outputs": [],
   "source": [
    "y_train = data_train.Recommended.tolist()\n",
    "y_test = data_test.Recommended.tolist()"
   ]
  },
  {
   "cell_type": "code",
   "execution_count": 48,
   "id": "eb09dcc7",
   "metadata": {},
   "outputs": [
    {
     "name": "stdout",
     "output_type": "stream",
     "text": [
      "size of training set: 2273\n",
      "size of validation set: 563\n",
      "happy        1004\n",
      "excited       637\n",
      "sad           466\n",
      "angry         398\n",
      "abusive       194\n",
      "surprised      83\n",
      "religious      54\n",
      "Name: Recommended, dtype: int64\n"
     ]
    }
   ],
   "source": [
    "data = data_train.append(data_test, ignore_index=True)\n",
    "\n",
    "class_names = ['sad', 'angry', 'happy', 'surprised', 'excited', 'religious', 'abusive']\n",
    "\n",
    "print('size of training set: %s' % (len(data_train['review'])))\n",
    "print('size of validation set: %s' % (len(data_test['review'])))\n",
    "print(data.Recommended.value_counts())"
   ]
  },
  {
   "cell_type": "code",
   "execution_count": 49,
   "id": "305b636c",
   "metadata": {},
   "outputs": [],
   "source": [
    "encoding = {\n",
    "    'sad': 0,\n",
    "    'happy': 1,\n",
    "    'surprised': 2,\n",
    "    'angry': 3,\n",
    "    'religious': 4,\n",
    "    'excited' : 5,\n",
    "    'abusive' : 6\n",
    "}"
   ]
  },
  {
   "cell_type": "code",
   "execution_count": 50,
   "id": "f00d548e",
   "metadata": {},
   "outputs": [],
   "source": [
    "y_train = [encoding[x] for x in y_train]\n",
    "y_test = [encoding[x] for x in y_test]"
   ]
  },
  {
   "cell_type": "code",
   "execution_count": 51,
   "id": "ca2a4c7f",
   "metadata": {},
   "outputs": [
    {
     "name": "stdout",
     "output_type": "stream",
     "text": [
      "preprocessing train...\n",
      "language: bn\n"
     ]
    },
    {
     "data": {
      "text/html": [
       "done."
      ],
      "text/plain": [
       "<IPython.core.display.HTML object>"
      ]
     },
     "metadata": {},
     "output_type": "display_data"
    },
    {
     "name": "stdout",
     "output_type": "stream",
     "text": [
      "Is Multi-Label? False\n",
      "preprocessing test...\n",
      "language: bn\n"
     ]
    },
    {
     "data": {
      "text/html": [
       "done."
      ],
      "text/plain": [
       "<IPython.core.display.HTML object>"
      ]
     },
     "metadata": {},
     "output_type": "display_data"
    },
    {
     "name": "stdout",
     "output_type": "stream",
     "text": [
      "task: text classification\n"
     ]
    }
   ],
   "source": [
    "(x_train,  y_train), (x_test, y_test), preproc = text.texts_from_array(x_train=X_train, y_train=y_train,\n",
    "                                                                       x_test=X_test, y_test=y_test,\n",
    "                                                                       class_names=class_names,\n",
    "                                                                       preprocess_mode='bert',\n",
    "                                                                       maxlen=350, \n",
    "                                                                       max_features=135000)\n"
   ]
  },
  {
   "cell_type": "code",
   "execution_count": 52,
   "id": "ee327565",
   "metadata": {},
   "outputs": [
    {
     "name": "stdout",
     "output_type": "stream",
     "text": [
      "Is Multi-Label? False\n",
      "maxlen is 350\n",
      "done.\n"
     ]
    }
   ],
   "source": [
    "model = text.text_classifier('bert', train_data=(x_train, y_train), preproc=preproc)\n",
    "\n",
    "learner = ktrain.get_learner(model, train_data=(x_train, y_train), \n",
    "                             val_data=(x_test, y_test),\n",
    "                             batch_size=6)"
   ]
  },
  {
   "cell_type": "code",
   "execution_count": 109,
   "id": "e75cf705",
   "metadata": {},
   "outputs": [],
   "source": [
    "import tensorflow as tf\n",
    "from datetime import datetime\n",
    "from tensorflow.keras.callbacks import ModelCheckpoint, EarlyStopping, ReduceLROnPlateau, CSVLogger, TensorBoard\n",
    "import os"
   ]
  },
  {
   "cell_type": "code",
   "execution_count": 110,
   "id": "c2549567",
   "metadata": {},
   "outputs": [
    {
     "data": {
      "text/plain": [
       "<tensorflow.python.debug.lib.debug_events_writer.DebugEventsWriter at 0x29304a6b640>"
      ]
     },
     "execution_count": 110,
     "metadata": {},
     "output_type": "execute_result"
    }
   ],
   "source": [
    "basedir = \"/content/logs/\"\n",
    "logdir = os.path.join(\"/content/logs\", datetime.now().strftime(\"%Y%m%d-%H%M%S\"))\n",
    "tf.debugging.experimental.enable_dump_debug_info(logdir)"
   ]
  },
  {
   "cell_type": "code",
   "execution_count": 111,
   "id": "a8191235",
   "metadata": {},
   "outputs": [],
   "source": [
    "callbacks = [\n",
    "ModelCheckpoint(filepath=basedir+'checkpoint1-{epoch:02d}.hdf5', verbose=2, save_best_only=True, monitor='accuracy',mode='max'),\n",
    "CSVLogger(basedir+'model_1trainanalysis1.csv',separator=',', append=False),\n",
    "EarlyStopping(monitor='val_loss', min_delta=1e-6, patience=1, verbose=2, mode='auto'),\n",
    "TensorBoard(log_dir=logdir,histogram_freq=1)]"
   ]
  },
  {
   "cell_type": "code",
   "execution_count": 112,
   "id": "f032d9ad",
   "metadata": {},
   "outputs": [
    {
     "name": "stdout",
     "output_type": "stream",
     "text": [
      "\n",
      "\n",
      "begin training using onecycle policy with max lr of 2e-05...\n"
     ]
    },
    {
     "name": "stderr",
     "output_type": "stream",
     "text": [
      "C:\\Users\\User\\anaconda3\\lib\\site-packages\\keras\\engine\\functional.py:1410: CustomMaskWarning: Custom mask layers require a config and must override get_config. When loading, the custom mask layer must be passed to the custom_objects argument.\n",
      "  layer_config = serialize_layer_fn(layer)\n"
     ]
    },
    {
     "name": "stdout",
     "output_type": "stream",
     "text": [
      "Epoch 1/2\n",
      "379/379 [==============================] - ETA: 0s - loss: 1.4704 - accuracy: 0.4501\n",
      "Epoch 00001: accuracy improved from -inf to 0.45007, saving model to /content/logs\\checkpoint1-01.hdf5\n",
      "379/379 [==============================] - 3917s 10s/step - loss: 1.4704 - accuracy: 0.4501 - val_loss: 1.2438 - val_accuracy: 0.5560\n",
      "Epoch 2/2\n",
      "379/379 [==============================] - ETA: 0s - loss: 0.9383 - accuracy: 0.6555\n",
      "Epoch 00002: accuracy improved from 0.45007 to 0.65552, saving model to /content/logs\\checkpoint1-02.hdf5\n",
      "379/379 [==============================] - 3512s 9s/step - loss: 0.9383 - accuracy: 0.6555 - val_loss: 0.9340 - val_accuracy: 0.6607\n",
      "              precision    recall  f1-score   support\n",
      "\n",
      "         sad       0.49      0.53      0.51        93\n",
      "       angry       0.77      0.80      0.79       200\n",
      "       happy       0.83      0.31      0.45        16\n",
      "   surprised       0.43      0.61      0.51        79\n",
      "     excited       0.00      0.00      0.00        10\n",
      "   religious       0.82      0.83      0.82       127\n",
      "     abusive       0.45      0.13      0.20        38\n",
      "\n",
      "    accuracy                           0.66       563\n",
      "   macro avg       0.54      0.46      0.47       563\n",
      "weighted avg       0.66      0.66      0.65       563\n",
      "\n"
     ]
    },
    {
     "name": "stderr",
     "output_type": "stream",
     "text": [
      "C:\\Users\\User\\anaconda3\\lib\\site-packages\\sklearn\\metrics\\_classification.py:1245: UndefinedMetricWarning: Precision and F-score are ill-defined and being set to 0.0 in labels with no predicted samples. Use `zero_division` parameter to control this behavior.\n",
      "  average_options = (None, 'micro', 'macro', 'weighted', 'samples')\n",
      "C:\\Users\\User\\anaconda3\\lib\\site-packages\\sklearn\\metrics\\_classification.py:1245: UndefinedMetricWarning: Precision and F-score are ill-defined and being set to 0.0 in labels with no predicted samples. Use `zero_division` parameter to control this behavior.\n",
      "  average_options = (None, 'micro', 'macro', 'weighted', 'samples')\n",
      "C:\\Users\\User\\anaconda3\\lib\\site-packages\\sklearn\\metrics\\_classification.py:1245: UndefinedMetricWarning: Precision and F-score are ill-defined and being set to 0.0 in labels with no predicted samples. Use `zero_division` parameter to control this behavior.\n",
      "  average_options = (None, 'micro', 'macro', 'weighted', 'samples')\n"
     ]
    },
    {
     "data": {
      "text/plain": [
       "['sad', 'angry', 'happy', 'surprised', 'excited', 'religious', 'abusive']"
      ]
     },
     "execution_count": 112,
     "metadata": {},
     "output_type": "execute_result"
    }
   ],
   "source": [
    "learner.fit_onecycle(2e-5, 2, callbacks = callbacks)\n",
    "\n",
    "learner.validate(val_data=(x_test, y_test), class_names=class_names)\n",
    "\n",
    "predictor = ktrain.get_predictor(learner.model, preproc)\n",
    "predictor.get_classes()"
   ]
  },
  {
   "cell_type": "code",
   "execution_count": 114,
   "id": "9e60db31",
   "metadata": {},
   "outputs": [
    {
     "name": "stdout",
     "output_type": "stream",
     "text": [
      "(0.1176464397477603, 0.1172291296625222, 0.10675821555079107, None)\n"
     ]
    },
    {
     "name": "stderr",
     "output_type": "stream",
     "text": [
      "C:\\Users\\User\\anaconda3\\lib\\site-packages\\sklearn\\metrics\\_classification.py:1245: UndefinedMetricWarning: Precision and F-score are ill-defined and being set to 0.0 in labels with no predicted samples. Use `zero_division` parameter to control this behavior.\n",
      "  average_options = (None, 'micro', 'macro', 'weighted', 'samples')\n"
     ]
    }
   ],
   "source": [
    "from sklearn.metrics import precision_recall_fscore_support\n",
    "\n",
    "predictions = model.predict(x_test)\n",
    "predictions = np.argmax(predictions, axis=1)\n",
    "predictions = [class_names[pred] for pred in predictions]\n",
    "\n",
    "print(precision_recall_fscore_support(data_test.Recommended, predictions, average='weighted'))"
   ]
  },
  {
   "cell_type": "code",
   "execution_count": 115,
   "id": "d77fc367",
   "metadata": {},
   "outputs": [
    {
     "name": "stdout",
     "output_type": "stream",
     "text": [
      "predicted: angry (1.16)\n"
     ]
    },
    {
     "name": "stderr",
     "output_type": "stream",
     "text": [
      "C:\\Users\\User\\anaconda3\\lib\\site-packages\\keras\\engine\\functional.py:1410: CustomMaskWarning: Custom mask layers require a config and must override get_config. When loading, the custom mask layer must be passed to the custom_objects argument.\n",
      "  layer_config = serialize_layer_fn(layer)\n"
     ]
    }
   ],
   "source": [
    "import time \n",
    "\n",
    "message = 'Test Message'\n",
    "\n",
    "start_time = time.time() \n",
    "prediction = predictor.predict(message)\n",
    "\n",
    "print('predicted: {} ({:.2f})'.format(prediction, (time.time() - start_time)))\n",
    "\n",
    "predictor.save(\"models/bert_model\")"
   ]
  }
 ],
 "metadata": {
  "kernelspec": {
   "display_name": "Python 3",
   "language": "python",
   "name": "python3"
  },
  "language_info": {
   "codemirror_mode": {
    "name": "ipython",
    "version": 3
   },
   "file_extension": ".py",
   "mimetype": "text/x-python",
   "name": "python",
   "nbconvert_exporter": "python",
   "pygments_lexer": "ipython3",
   "version": "3.8.8"
  }
 },
 "nbformat": 4,
 "nbformat_minor": 5
}
